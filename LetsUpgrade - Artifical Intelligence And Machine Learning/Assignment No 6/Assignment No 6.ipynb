{
 "cells": [
  {
   "cell_type": "markdown",
   "metadata": {},
   "source": [
    "# Assignment No 6"
   ]
  },
  {
   "cell_type": "raw",
   "metadata": {},
   "source": [
    "Question 1: Assuming that we have some email addresses in the \"username@companyname.com\" format, please write program to print the company name of a given email address. Both user names and company names are composed of letters only."
   ]
  },
  {
   "cell_type": "code",
   "execution_count": 1,
   "metadata": {},
   "outputs": [
    {
     "name": "stdout",
     "output_type": "stream",
     "text": [
      "Enter email adddressamey\n",
      "ame\n"
     ]
    }
   ],
   "source": [
    "email=input('Enter email adddress')\n",
    "i=email.find('@')\n",
    "j=email.find('.',i)\n",
    "print(email[i+1:j])"
   ]
  },
  {
   "cell_type": "raw",
   "metadata": {},
   "source": [
    "Question 2: Write a program that accepts a comma-separated sequence of words as input and prints the words in a comma separated sequence after sorting them alphabetically."
   ]
  },
  {
   "cell_type": "code",
   "execution_count": 2,
   "metadata": {},
   "outputs": [
    {
     "name": "stdout",
     "output_type": "stream",
     "text": [
      "Input comma separated sequence of words : Amey,Narayan,1\n",
      "1,Amey,Narayan\n"
     ]
    }
   ],
   "source": [
    "items = input(\"Input comma separated sequence of words : \")\n",
    "words = [word for word in items.split(\",\")]\n",
    "print(\",\".join(sorted(list(words))))"
   ]
  },
  {
   "cell_type": "raw",
   "metadata": {},
   "source": [
    "Question 3: Create your own Jupyter Notebook for Sets"
   ]
  },
  {
   "cell_type": "code",
   "execution_count": 13,
   "metadata": {},
   "outputs": [],
   "source": [
    "st = {\"Amey\",1,2,3,5,4,34,5,2,23,55,6,\"AI-ML\",\"Python\",\"IoT\"}"
   ]
  },
  {
   "cell_type": "code",
   "execution_count": 14,
   "metadata": {},
   "outputs": [
    {
     "data": {
      "text/plain": [
       "{1, 2, 23, 3, 34, 4, 5, 55, 6, 'AI-ML', 'Amey', 'IoT', 'Python'}"
      ]
     },
     "execution_count": 14,
     "metadata": {},
     "output_type": "execute_result"
    }
   ],
   "source": [
    "st"
   ]
  },
  {
   "cell_type": "code",
   "execution_count": 15,
   "metadata": {},
   "outputs": [
    {
     "data": {
      "text/plain": [
       "1"
      ]
     },
     "execution_count": 15,
     "metadata": {},
     "output_type": "execute_result"
    }
   ],
   "source": [
    "#1.pop\n",
    "st.pop()"
   ]
  },
  {
   "cell_type": "code",
   "execution_count": 16,
   "metadata": {},
   "outputs": [
    {
     "data": {
      "text/plain": [
       "{2, 23, 3, 34, 4, 5, 55, 6, 'AI-ML', 'Amey', 'IoT', 'Python'}"
      ]
     },
     "execution_count": 16,
     "metadata": {},
     "output_type": "execute_result"
    }
   ],
   "source": [
    "st"
   ]
  },
  {
   "cell_type": "code",
   "execution_count": 17,
   "metadata": {},
   "outputs": [],
   "source": [
    "#2.Remove\n",
    "st.remove(\"Amey\")"
   ]
  },
  {
   "cell_type": "code",
   "execution_count": 18,
   "metadata": {},
   "outputs": [
    {
     "data": {
      "text/plain": [
       "{2, 23, 3, 34, 4, 5, 55, 6, 'AI-ML', 'IoT', 'Python'}"
      ]
     },
     "execution_count": 18,
     "metadata": {},
     "output_type": "execute_result"
    }
   ],
   "source": [
    "st"
   ]
  },
  {
   "cell_type": "code",
   "execution_count": 23,
   "metadata": {},
   "outputs": [],
   "source": [
    "#3.Add\n",
    "st.add(\"LetsUpgrade\")"
   ]
  },
  {
   "cell_type": "code",
   "execution_count": 20,
   "metadata": {},
   "outputs": [
    {
     "data": {
      "text/plain": [
       "{2, 23, 3, 34, 4, 5, 55, 6, 'AI-ML', 'IoT', 'LetsUpgrade', 'Python'}"
      ]
     },
     "execution_count": 20,
     "metadata": {},
     "output_type": "execute_result"
    }
   ],
   "source": [
    "st"
   ]
  },
  {
   "cell_type": "code",
   "execution_count": 21,
   "metadata": {},
   "outputs": [],
   "source": [
    "#4.Update\n",
    "st.update([10, 11])"
   ]
  },
  {
   "cell_type": "code",
   "execution_count": 22,
   "metadata": {},
   "outputs": [
    {
     "data": {
      "text/plain": [
       "{10, 11, 2, 23, 3, 34, 4, 5, 55, 6, 'AI-ML', 'IoT', 'LetsUpgrade', 'Python'}"
      ]
     },
     "execution_count": 22,
     "metadata": {},
     "output_type": "execute_result"
    }
   ],
   "source": [
    "st"
   ]
  },
  {
   "cell_type": "code",
   "execution_count": 24,
   "metadata": {},
   "outputs": [],
   "source": [
    "st1 = {\"Amey\", \"Ganekar\",2, 4, 5, 6}\n",
    "st2 = {\"Om\", \"Narayan\", \"Nilakshi\",7, 8, 9, 10}"
   ]
  },
  {
   "cell_type": "code",
   "execution_count": 25,
   "metadata": {},
   "outputs": [
    {
     "name": "stdout",
     "output_type": "stream",
     "text": [
      "st U st1 :  {'Ganekar', 2, 3, 4, 5, 6, 'AI-ML', 'IoT', 'LetsUpgrade', 10, 11, 'Amey', 23, 34, 'Python', 55}\n"
     ]
    }
   ],
   "source": [
    "#5.Union\n",
    "print(\"st U st1 : \", st.union(st1))"
   ]
  },
  {
   "cell_type": "code",
   "execution_count": 26,
   "metadata": {},
   "outputs": [
    {
     "name": "stdout",
     "output_type": "stream",
     "text": [
      "st1 U st2 :  {'Ganekar', 2, 4, 5, 6, 'Om', 7, 8, 9, 'Amey', 10, 'Nilakshi', 'Narayan'}\n"
     ]
    }
   ],
   "source": [
    "print(\"st1 U st2 : \", st1|st2)"
   ]
  },
  {
   "cell_type": "code",
   "execution_count": 27,
   "metadata": {},
   "outputs": [
    {
     "name": "stdout",
     "output_type": "stream",
     "text": [
      "st U st1 U st2 :  {'Ganekar', 2, 3, 4, 5, 6, 'AI-ML', 'IoT', 'LetsUpgrade', 10, 11, 'Amey', 'Om', 7, 8, 9, 'Nilakshi', 23, 34, 'Python', 'Narayan', 55}\n"
     ]
    }
   ],
   "source": [
    "print(\"st U st1 U st2 : \", st|st1|st2)"
   ]
  },
  {
   "cell_type": "code",
   "execution_count": 28,
   "metadata": {},
   "outputs": [
    {
     "name": "stdout",
     "output_type": "stream",
     "text": [
      "st - st1 :  {34, 3, 'AI-ML', 'Python', 'LetsUpgrade', 'IoT', 10, 11, 23, 55}\n"
     ]
    }
   ],
   "source": [
    "#6.Difference\n",
    "print(\"st - st1 : \", st.difference(st1))"
   ]
  },
  {
   "cell_type": "code",
   "execution_count": 29,
   "metadata": {},
   "outputs": [
    {
     "name": "stdout",
     "output_type": "stream",
     "text": [
      "st - st1 :  {34, 3, 'AI-ML', 'Python', 'LetsUpgrade', 'IoT', 10, 11, 23, 55}\n"
     ]
    }
   ],
   "source": [
    "#7.Substract\n",
    "print(\"st - st1 : \", st - st1)"
   ]
  },
  {
   "cell_type": "code",
   "execution_count": 30,
   "metadata": {},
   "outputs": [
    {
     "name": "stdout",
     "output_type": "stream",
     "text": [
      "st & st1 :  {2, 4, 5, 6}\n"
     ]
    }
   ],
   "source": [
    "#8.And\n",
    "print(\"st & st1 : \", st & st1)"
   ]
  },
  {
   "cell_type": "code",
   "execution_count": 31,
   "metadata": {},
   "outputs": [
    {
     "name": "stdout",
     "output_type": "stream",
     "text": [
      "st or st1 :  {2, 3, 4, 5, 34, 6, 'AI-ML', 'Python', 'IoT', 'LetsUpgrade', 10, 11, 55, 23}\n"
     ]
    }
   ],
   "source": [
    "#9.Or\n",
    "print(\"st or st1 : \", st or st1)"
   ]
  },
  {
   "cell_type": "raw",
   "metadata": {},
   "source": [
    "Question 4: Given a list of n-1 numbers ranging from 1 to n, your task is to find the missing number. There are no duplicates."
   ]
  },
  {
   "cell_type": "code",
   "execution_count": 3,
   "metadata": {},
   "outputs": [
    {
     "name": "stdout",
     "output_type": "stream",
     "text": [
      "Enter range6\n",
      "Enter values in between 1 and  6\n",
      "4\n",
      "5\n",
      "6\n",
      "3\n",
      "2\n",
      "missing value is: 1\n"
     ]
    }
   ],
   "source": [
    "import functools\n",
    "from functools import reduce\n",
    "n =int(input(\"Enter range\"))\n",
    "l=[]\n",
    "print(\"Enter values in between 1 and \", n)\n",
    "for i in range(1,n):\n",
    "    if(i<=n):\n",
    "        a=int(input())\n",
    "        l.append(a)\n",
    "print(\"missing value is:\",int(n*(n+1)/2)-reduce(lambda a,b:a+b,l))"
   ]
  },
  {
   "cell_type": "raw",
   "metadata": {},
   "source": [
    "Question 5: With a given list L, write a program to print this list L after removing all duplicate values with original order reserved"
   ]
  },
  {
   "cell_type": "code",
   "execution_count": 4,
   "metadata": {},
   "outputs": [
    {
     "name": "stdout",
     "output_type": "stream",
     "text": [
      "After removing all duplicate values with original order reserved\n",
      " [12, 125, 88, 55, 24, 78, 66]\n"
     ]
    }
   ],
   "source": [
    "\n",
    "l = [12,125,88,12,55,24,88,78,66,55]\n",
    "D=[]\n",
    "for i in l:\n",
    "    if i not in D:\n",
    "        D.append(i)\n",
    "print(\"After removing all duplicate values with original order reserved\\n\",D)"
   ]
  },
  {
   "cell_type": "code",
   "execution_count": null,
   "metadata": {},
   "outputs": [],
   "source": []
  }
 ],
 "metadata": {
  "kernelspec": {
   "display_name": "Python 3",
   "language": "python",
   "name": "python3"
  },
  "language_info": {
   "codemirror_mode": {
    "name": "ipython",
    "version": 3
   },
   "file_extension": ".py",
   "mimetype": "text/x-python",
   "name": "python",
   "nbconvert_exporter": "python",
   "pygments_lexer": "ipython3",
   "version": "3.7.6"
  }
 },
 "nbformat": 4,
 "nbformat_minor": 4
}
