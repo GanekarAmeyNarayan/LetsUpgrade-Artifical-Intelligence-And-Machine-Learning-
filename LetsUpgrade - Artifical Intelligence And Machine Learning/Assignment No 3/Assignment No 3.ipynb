{
 "cells": [
  {
   "cell_type": "markdown",
   "metadata": {},
   "source": [
    "# Assignment No 3"
   ]
  },
  {
   "cell_type": "raw",
   "metadata": {},
   "source": [
    "1. Write a program to subtract two complex numbers in Python"
   ]
  },
  {
   "cell_type": "code",
   "execution_count": 1,
   "metadata": {},
   "outputs": [
    {
     "name": "stdout",
     "output_type": "stream",
     "text": [
      "(-2+5j)\n"
     ]
    }
   ],
   "source": [
    "\n",
    "a=3+7j\n",
    "b=5+2j\n",
    "Sub=a-b\n",
    "print(Sub)"
   ]
  },
  {
   "cell_type": "raw",
   "metadata": {},
   "source": [
    "2. Write a program to find the fourth root of a number."
   ]
  },
  {
   "cell_type": "code",
   "execution_count": 2,
   "metadata": {},
   "outputs": [
    {
     "name": "stdout",
     "output_type": "stream",
     "text": [
      "8503056\n"
     ]
    }
   ],
   "source": [
    "\n",
    "a=54\n",
    "fourth_root=a**4\n",
    "print(fourth_root)"
   ]
  },
  {
   "cell_type": "raw",
   "metadata": {},
   "source": [
    "3. Write a program to swap two numbers in Python with the help of a temporary variable."
   ]
  },
  {
   "cell_type": "code",
   "execution_count": null,
   "metadata": {},
   "outputs": [],
   "source": [
    "\n",
    "a = 324\n",
    "b = 698\n",
    "print(\"Value of a before swapping: \", a)\n",
    "print(\"Value of b before swapping: \", b)\n",
    "temp = a\n",
    "a = b\n",
    "b = temp\n",
    "print(\"Value of a after swapping: \", a)\n",
    "print(\"Value of b after swapping: \", b)"
   ]
  },
  {
   "cell_type": "raw",
   "metadata": {},
   "source": [
    "4. Write a program to swap two numbers in Python without using a temporary variable"
   ]
  },
  {
   "cell_type": "code",
   "execution_count": 3,
   "metadata": {},
   "outputs": [
    {
     "name": "stdout",
     "output_type": "stream",
     "text": [
      "Value of a before swapping:  45\n",
      "Value of b before swapping:  67\n",
      "Value of a after swapping:  67\n",
      "Value of b after swapping:  45\n"
     ]
    }
   ],
   "source": [
    "a = 45\n",
    "b = 67\n",
    "print(\"Value of a before swapping: \", a)\n",
    "print(\"Value of b before swapping: \", b)\n",
    "a, b = b, a\n",
    "print(\"Value of a after swapping: \", a)\n",
    "print(\"Value of b after swapping: \", b)"
   ]
  },
  {
   "cell_type": "raw",
   "metadata": {},
   "source": [
    "5. Write a program to convert fahrenheit to kelvin and celsius both."
   ]
  },
  {
   "cell_type": "code",
   "execution_count": null,
   "metadata": {},
   "outputs": [
    {
     "name": "stdout",
     "output_type": "stream",
     "text": [
      "\n",
      "1. Fareheneit to Celsius\n",
      "2. Fareheneit to Kelvin\n",
      "3.Exit\n"
     ]
    }
   ],
   "source": [
    "def menu():\n",
    "    print(\"\\n1. Fareheneit to Celsius\")\n",
    "    print(\"2. Fareheneit to Kelvin\")\n",
    "    print(\"3.Exit\")\n",
    "    pick=int(input(\"Enter the choice\"))\n",
    "    return pick\n",
    "    \n",
    "def ToCelsius(f):\n",
    "    return int((f -32)/1.8)\n",
    "def ToKelvin(f):\n",
    "    return int((f*0.55555)+(255.372222))\n",
    "\n",
    "def main():\n",
    "    choice = menu()\n",
    "    while choice != 3:\n",
    "        if choice == 1:\n",
    "            f=eval(input(\"Enter the Degree Fahreheneit: \"))\n",
    "            print(str(f)+ \"F = \"+ str(ToCelsius(f))+\"c\")\n",
    "        elif choice == 2:\n",
    "            f=eval(input(\"Enter the Degree Fahreheneit :\"))\n",
    "            print(str(f)+ \"F = \"+ str(ToKelvin(f))+\"k\")\n",
    "        else:\n",
    "            print(\"Invalid Entry\")\n",
    "        choice = menu()\n",
    "main()\n"
   ]
  },
  {
   "cell_type": "raw",
   "metadata": {},
   "source": [
    "6. Write a program to demonstrate all the available data types in Python. Hint: Use type() function."
   ]
  },
  {
   "cell_type": "code",
   "execution_count": 4,
   "metadata": {},
   "outputs": [
    {
     "name": "stdout",
     "output_type": "stream",
     "text": [
      "<class 'int'>\n",
      "<class 'float'>\n",
      "<class 'str'>\n",
      "<class 'tuple'>\n",
      "<class 'list'>\n",
      "<class 'set'>\n"
     ]
    }
   ],
   "source": [
    "a=34\n",
    "b=23.34\n",
    "c=\"Hello\"\n",
    "d=(1,2,3,4,5,6,7)\n",
    "e=[1,2,3,4,5,6,7]\n",
    "f={1,2,3,4,5,6,7}\n",
    "print(type(a))\n",
    "print(type(b))\n",
    "print(type(c))\n",
    "print(type(d))\n",
    "print(type(e))\n",
    "print(type(f))"
   ]
  },
  {
   "cell_type": "raw",
   "metadata": {},
   "source": [
    "7. Create Github profile and upload Githubs Assignment link."
   ]
  },
  {
   "cell_type": "markdown",
   "metadata": {},
   "source": [
    "1. Go to https://github.com/ in a web browser\n",
    "2. Creat your Account on github\n",
    "3. Creat your Profile on github\n",
    "4. Creat folder Named LetsUbgrade AIML\n",
    "5. Creat folder Name on assignment Days (ie. Day3,Day4,etc)\n",
    "6. Go to github, Click on New Repository\n",
    "7. Name the Repository as LetsUpgrade AI-ML\n",
    "8. Discription as Assignment\n",
    "9. Click on Public and Click Creat Repository\n",
    "10. We will see a LetsUpgrade AI-ML folder is Created\n",
    "11. Click on upload an existing file\n",
    "12. Go to folder containing assignment and drag and drop it to github\n",
    "    And Click on Comite Changes\n",
    "13. Then visit the github and open the uploaded python file\n",
    "14. Copy the URL and past on Assignment Submission Form and Click Submit"
   ]
  },
  {
   "cell_type": "code",
   "execution_count": null,
   "metadata": {},
   "outputs": [],
   "source": []
  }
 ],
 "metadata": {
  "kernelspec": {
   "display_name": "Python 3",
   "language": "python",
   "name": "python3"
  },
  "language_info": {
   "codemirror_mode": {
    "name": "ipython",
    "version": 3
   },
   "file_extension": ".py",
   "mimetype": "text/x-python",
   "name": "python",
   "nbconvert_exporter": "python",
   "pygments_lexer": "ipython3",
   "version": "3.7.6"
  }
 },
 "nbformat": 4,
 "nbformat_minor": 4
}
