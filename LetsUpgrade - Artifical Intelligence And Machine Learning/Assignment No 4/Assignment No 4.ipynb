{
 "cells": [
  {
   "cell_type": "markdown",
   "metadata": {},
   "source": [
    "# Assignment No 4"
   ]
  },
  {
   "cell_type": "raw",
   "metadata": {},
   "source": [
    "1. Research on whether addition, subtraction, multiplication, division, floor division and modulo        operations be performed on complex numbers. Based on your study, implement a Python program to        demonstrate these operations.\n",
    "\n",
    "*Floor division and modulo cannot be permormed on complex numbers in python"
   ]
  },
  {
   "cell_type": "code",
   "execution_count": 1,
   "metadata": {},
   "outputs": [
    {
     "name": "stdout",
     "output_type": "stream",
     "text": [
      "Addition =  (13+11j)\n",
      "Subtraction =  (-5+3j)\n",
      "Multiplication =  (8+79j)\n",
      "Division =  (0.6597938144329896+0.4845360824742268j)\n"
     ]
    }
   ],
   "source": [
    "\n",
    "a=4+7j\n",
    "b=9+4j\n",
    "print('Addition = ',a+b)\n",
    "print('Subtraction = ',a-b)\n",
    "print('Multiplication = ',a*b)\n",
    "print('Division = ',a/b)\n",
    "#print('Floor Division = ',a//3)  #Complex number can't perform floor division\n",
    "#print('Modulo Operations = ',a%2)  #Complex number can't perform modulo operation"
   ]
  },
  {
   "cell_type": "raw",
   "metadata": {},
   "source": [
    "2.Research on range() functions and its parameters. Create a markdown cell and write in your own       words (no copy-paste from google please) what you understand about it. Implement a small program of   your choice on the same.range() is a built-in function,It returns a sequence of numbers, starting     from 0 (by default), and increments by 1 (by default), and stops before a specified                   number.SYNTAXrange(start, stop, step)Here, start is the point from where user want to start the       loop, stop is the point where user want to stop the loop, step is the no of point incremented in     the sequence\n",
    "\n",
    "Ans-range() is function, which helps us to generate numbers with equivalent distance (called as step)     from start to stop user desired numbers. range(start,stop,step) range should have atleast one         parameter i.e., stop. start default is 0 and step is 1."
   ]
  },
  {
   "cell_type": "code",
   "execution_count": 2,
   "metadata": {},
   "outputs": [
    {
     "name": "stdout",
     "output_type": "stream",
     "text": [
      "3\n",
      "4\n",
      "5\n",
      "6\n"
     ]
    }
   ],
   "source": [
    "#Example\n",
    "for a in range(3,7):\n",
    "  print(a)"
   ]
  },
  {
   "cell_type": "raw",
   "metadata": {},
   "source": [
    "3. Consider two numbers. Perform their subtraction and if the result of subtraction is greater than      25, print their multiplication result else print their division result."
   ]
  },
  {
   "cell_type": "code",
   "execution_count": 5,
   "metadata": {},
   "outputs": [
    {
     "name": "stdout",
     "output_type": "stream",
     "text": [
      "As difference is greater than 25 multiplication is executed. Multiplication of two numbers is 2125\n"
     ]
    }
   ],
   "source": [
    "a = 85\n",
    "b = 25\n",
    "if a-b > 25:\n",
    "    print('As difference is greater than 25 multiplication is executed. Multiplication of two numbers is',a*b) \n",
    "else:\n",
    "    print('As difference is lesser than 25 Division is executed. Division of two numbers is',a/b)"
   ]
  },
  {
   "cell_type": "raw",
   "metadata": {},
   "source": [
    "4.Consider a list of 10 elements of integer values. If the number in the list is divisible by 2,       print the result as \"square of that number minus 2\"."
   ]
  },
  {
   "cell_type": "code",
   "execution_count": 7,
   "metadata": {},
   "outputs": [
    {
     "name": "stdout",
     "output_type": "stream",
     "text": [
      "98\n",
      "2\n",
      "674\n",
      "1022\n",
      "3134\n",
      "2302\n",
      "4622\n"
     ]
    }
   ],
   "source": [
    "l = [10, 2, 15, 26, 32, 57, 29, 56, 48, 68]\n",
    "for i in l:\n",
    "    if i%2==0:\n",
    "        print(i**2 -2)"
   ]
  },
  {
   "cell_type": "raw",
   "metadata": {},
   "source": [
    "5.Consider a list of 10 elements. Print all the elements in the list which are greater than 7 when     that number is divided 2."
   ]
  },
  {
   "cell_type": "code",
   "execution_count": 8,
   "metadata": {},
   "outputs": [
    {
     "name": "stdout",
     "output_type": "stream",
     "text": [
      "20\n",
      "15\n",
      "26\n",
      "30\n",
      "17\n",
      "19\n",
      "68\n"
     ]
    }
   ],
   "source": [
    "l = [10, 20, 15, 26, 30, 17, 19, 11, 8, 68]\n",
    "for i in l:\n",
    "    if i/2 > 7:\n",
    "        print(i)"
   ]
  },
  {
   "cell_type": "code",
   "execution_count": null,
   "metadata": {},
   "outputs": [],
   "source": []
  }
 ],
 "metadata": {
  "kernelspec": {
   "display_name": "Python 3",
   "language": "python",
   "name": "python3"
  },
  "language_info": {
   "codemirror_mode": {
    "name": "ipython",
    "version": 3
   },
   "file_extension": ".py",
   "mimetype": "text/x-python",
   "name": "python",
   "nbconvert_exporter": "python",
   "pygments_lexer": "ipython3",
   "version": "3.7.6"
  }
 },
 "nbformat": 4,
 "nbformat_minor": 4
}
