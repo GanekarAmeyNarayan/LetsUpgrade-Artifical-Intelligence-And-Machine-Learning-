{
 "cells": [
  {
   "cell_type": "markdown",
   "metadata": {},
   "source": [
    "# 1. Create a 3x3x3 array with random values"
   ]
  },
  {
   "cell_type": "code",
   "execution_count": 1,
   "metadata": {},
   "outputs": [
    {
     "name": "stdout",
     "output_type": "stream",
     "text": [
      "[[[0.59528122 0.48171889 0.45749285]\n",
      "  [0.1747351  0.54975287 0.73221677]\n",
      "  [0.21769459 0.90624539 0.27178872]]\n",
      "\n",
      " [[0.93156034 0.51511711 0.1815445 ]\n",
      "  [0.34805555 0.84555211 0.1115964 ]\n",
      "  [0.55372484 0.25375017 0.27283577]]\n",
      "\n",
      " [[0.42567059 0.71374298 0.86789632]\n",
      "  [0.93980136 0.70506429 0.79759863]\n",
      "  [0.48569519 0.31193309 0.5899769 ]]]\n"
     ]
    }
   ],
   "source": [
    "import numpy as np\n",
    "a = np.random.random((3,3,3))\n",
    "print(a)"
   ]
  },
  {
   "cell_type": "markdown",
   "metadata": {},
   "source": [
    "# 2.Create a 5x5 matrix with values 1,2,3,4 just below the diagonal"
   ]
  },
  {
   "cell_type": "code",
   "execution_count": 2,
   "metadata": {},
   "outputs": [
    {
     "name": "stdout",
     "output_type": "stream",
     "text": [
      "[[0 0 0 0 0]\n",
      " [1 0 0 0 0]\n",
      " [0 2 0 0 0]\n",
      " [0 0 3 0 0]\n",
      " [0 0 0 4 0]]\n"
     ]
    }
   ],
   "source": [
    "import numpy as np\n",
    "arr1 = np.diag((0,1,2,3,4,0))\n",
    "arr3 = arr1[:5,1:]\n",
    "print(arr3)"
   ]
  },
  {
   "cell_type": "markdown",
   "metadata": {},
   "source": [
    "# 3.Create a 8x8 matrix and fill it with a checkerboard pattern"
   ]
  },
  {
   "cell_type": "code",
   "execution_count": 3,
   "metadata": {},
   "outputs": [
    {
     "name": "stdout",
     "output_type": "stream",
     "text": [
      "[[0 1 0 1 0 1 0 1]\n",
      " [1 0 1 0 1 0 1 0]\n",
      " [0 1 0 1 0 1 0 1]\n",
      " [1 0 1 0 1 0 1 0]\n",
      " [0 1 0 1 0 1 0 1]\n",
      " [1 0 1 0 1 0 1 0]\n",
      " [0 1 0 1 0 1 0 1]\n",
      " [1 0 1 0 1 0 1 0]]\n"
     ]
    }
   ],
   "source": [
    "import numpy as np\n",
    "arr = np.zeros((8,8),dtype = int)\n",
    "\n",
    "arr[1::2,::2] = 1\n",
    "arr[::2,1::2] = 1\n",
    "print(arr)"
   ]
  },
  {
   "cell_type": "markdown",
   "metadata": {},
   "source": [
    "# 4. Normalize a 5x5 random matrix"
   ]
  },
  {
   "cell_type": "code",
   "execution_count": 4,
   "metadata": {},
   "outputs": [
    {
     "name": "stdout",
     "output_type": "stream",
     "text": [
      "Before Normalization:\n",
      " [[0.12217286 0.14868673 0.67366192 0.53953328 0.86752564]\n",
      " [0.18663709 0.3137907  0.70558424 0.08533236 0.94298133]\n",
      " [0.62214374 0.83013158 0.32247831 0.0440046  0.43269571]\n",
      " [0.72106022 0.08025988 0.01527448 0.91355319 0.50623671]\n",
      " [0.3114235  0.7133304  0.77873142 0.77247306 0.49394312]]\n",
      "\n",
      "After Normalization:\n",
      " [[0.11522862 0.14380863 0.70969341 0.56511257 0.91866429]\n",
      " [0.18471633 0.32177861 0.74410334 0.07551726 1.        ]\n",
      " [0.65416059 0.87835624 0.33114322 0.03096897 0.4499495 ]\n",
      " [0.7607853  0.0700495  0.         0.96827862 0.52922131]\n",
      " [0.31922694 0.75245312 0.82295064 0.81620458 0.51596972]]\n"
     ]
    }
   ],
   "source": [
    "import numpy as np\n",
    "\n",
    "arr = np.random.random((5,5))\n",
    "print(\"Before Normalization:\\n\",arr)\n",
    "\n",
    "arr_max,arr_min = arr.max(),arr.min()\n",
    "\n",
    "arr = (arr - arr_min)/(arr_max - arr_min)\n",
    "print(\"\\nAfter Normalization:\\n\",arr)"
   ]
  },
  {
   "cell_type": "markdown",
   "metadata": {},
   "source": [
    "# 5. How to find common values between two arrays?"
   ]
  },
  {
   "cell_type": "code",
   "execution_count": 5,
   "metadata": {},
   "outputs": [
    {
     "name": "stdout",
     "output_type": "stream",
     "text": [
      "[[1 2 3 4 5]\n",
      " [6 7 8 9 0]]\n",
      "\n",
      "[[ 1  3  5  7  9]\n",
      " [11 13 15 17 19]]\n",
      "\n",
      "Common values of above two arrays:\n",
      " [1 3 5 7 9]\n"
     ]
    }
   ],
   "source": [
    "import numpy as np\n",
    "\n",
    "arr1 = np.array([1,2,3,4,5,6,7,8,9,0])\n",
    "arr2 = np.array([1,3,5,7,9,11,13,15,17,19])\n",
    "\n",
    "arr1.shape = (2,5)\n",
    "arr2.shape = (2,5)\n",
    "print(arr1,end=\"\\n\\n\")\n",
    "print(arr2,end=\"\\n\\n\")\n",
    "\n",
    "print(\"Common values of above two arrays:\\n\",np.intersect1d(arr1,arr2))\n"
   ]
  },
  {
   "cell_type": "markdown",
   "metadata": {},
   "source": [
    "# 6.How to get the dates of yesterday, today and tomorrow?"
   ]
  },
  {
   "cell_type": "code",
   "execution_count": 6,
   "metadata": {},
   "outputs": [
    {
     "name": "stdout",
     "output_type": "stream",
     "text": [
      "Today:  2020-07-26\n",
      "Yesterday:  2020-07-25\n",
      "Tomorrow:  2020-07-27\n"
     ]
    }
   ],
   "source": [
    "import numpy as np\n",
    "today = np.datetime64('today','D')\n",
    "yesterday = today - np.timedelta64(1,'D')\n",
    "tomorrow = today + np.timedelta64(1,'D')\n",
    "\n",
    "print(\"Today: \",str(today))\n",
    "print(\"Yesterday: \",str(yesterday))\n",
    "print(\"Tomorrow: \",str(tomorrow))"
   ]
  },
  {
   "cell_type": "markdown",
   "metadata": {},
   "source": [
    "# 7. Consider two random array A and B, check if they are equal"
   ]
  },
  {
   "cell_type": "code",
   "execution_count": 7,
   "metadata": {},
   "outputs": [
    {
     "name": "stdout",
     "output_type": "stream",
     "text": [
      "Checking element by element directly:\n",
      " [[False False False]\n",
      " [False False False]]\n",
      "Checking whethar arrays are same or not: False\n"
     ]
    }
   ],
   "source": [
    "import numpy as np\n",
    "\n",
    "def myfn(a1,a2) :\n",
    "    if a1.shape != a2.shape :\n",
    "        return False\n",
    "    \n",
    "    a1 = a1.flatten()\n",
    "    a2 = a2.flatten()\n",
    "    \n",
    "    for i,j in zip(a1,a2) :\n",
    "        if i != j :\n",
    "            return False\n",
    "    return True\n",
    "\n",
    "# arr1 = np.array([1,2,3,4,5,6])\n",
    "# arr2 = np.array([1,2,3,4,5,6])\n",
    "\n",
    "arr1 = np.random.random((2,3))\n",
    "arr2 = np.random.random((2,3))\n",
    "\n",
    "print(\"Checking element by element directly:\\n\",arr1 == arr2)\n",
    "\n",
    "print(\"Checking whethar arrays are same or not:\",myfn(arr1,arr2))\n"
   ]
  },
  {
   "cell_type": "markdown",
   "metadata": {},
   "source": [
    "# 8.Create random vector of size 10 and replace the maximum value by 0"
   ]
  },
  {
   "cell_type": "code",
   "execution_count": 8,
   "metadata": {},
   "outputs": [
    {
     "name": "stdout",
     "output_type": "stream",
     "text": [
      "[[0.86906606 0.75274007 0.33057651]\n",
      " [0.80386069 0.70627084 0.95809246]]\n",
      "[[ 0.86906606  0.75274007  0.33057651]\n",
      " [ 0.80386069  0.70627084 -1.        ]]\n"
     ]
    }
   ],
   "source": [
    "\n",
    "import numpy as np\n",
    "\n",
    "arr1 = np.random.random((2,3))\n",
    "# arr1 = np.array([[1,2,3,4,5],[6,7,8,9,0],[11,12,13,14,15]])\n",
    "print(arr1)\n",
    "\n",
    "n = arr1.argmax()\n",
    "m = arr1.shape[1]\n",
    "\n",
    "arr1[n//m][n%m] = -1\n",
    "\n",
    "print(arr1)"
   ]
  },
  {
   "cell_type": "markdown",
   "metadata": {},
   "source": [
    "# 9. How to print all the values of an array?"
   ]
  },
  {
   "cell_type": "code",
   "execution_count": 9,
   "metadata": {},
   "outputs": [
    {
     "name": "stdout",
     "output_type": "stream",
     "text": [
      "[[1 2 3]\n",
      " [4 5 6]]\n"
     ]
    }
   ],
   "source": [
    "import numpy as np\n",
    "arr1 = np.array([[1,2,3],[4,5,6]])\n",
    "print(arr1)\n"
   ]
  },
  {
   "cell_type": "markdown",
   "metadata": {},
   "source": [
    "# 10.Subtract the mean of each row of a matrix"
   ]
  },
  {
   "cell_type": "code",
   "execution_count": 10,
   "metadata": {},
   "outputs": [
    {
     "name": "stdout",
     "output_type": "stream",
     "text": [
      "[[1 2 3]\n",
      " [4 5 6]]\n",
      "[[-1.  0.  1.]\n",
      " [-1.  0.  1.]]\n"
     ]
    }
   ],
   "source": [
    "import numpy as np\n",
    "arr1 = np.array([[1,2,3],[4,5,6]])\n",
    "print(arr1)\n",
    "\n",
    "y = arr1.mean(axis = 1,keepdims = True) # For each row, and it returns column with mean of each row\n",
    "print(arr1-y)\n"
   ]
  },
  {
   "cell_type": "markdown",
   "metadata": {},
   "source": [
    "# 11.Consider a given vector, how to add 1 to each element indexed by a second vector (be careful with repeated indices)?"
   ]
  },
  {
   "cell_type": "code",
   "execution_count": 11,
   "metadata": {},
   "outputs": [
    {
     "name": "stdout",
     "output_type": "stream",
     "text": [
      "Before: [ 1  2  3  4  5  6  7  8  9 10]\n",
      "After: [ 2  3  4  5  6  6  8  9 10 10]\n"
     ]
    }
   ],
   "source": [
    "\n",
    "import numpy as np\n",
    "\n",
    "arr1 = np.array([1,2,3,4,5,6,7,8,9,10])\n",
    "n = arr1.size\n",
    "print(\"Before:\",arr1)\n",
    "indices_list = [1,3,4,2,1,2,3,2,6,7,8,4,0]\n",
    "# To remove repeated characters use set\n",
    "indices_list = set(indices_list)\n",
    "for i in indices_list :\n",
    "    if i < n :\n",
    "        arr1[i] += 1\n",
    "print(\"After:\",arr1)"
   ]
  },
  {
   "cell_type": "markdown",
   "metadata": {},
   "source": [
    "# 12.How to get the diagonal of a dot product?"
   ]
  },
  {
   "cell_type": "code",
   "execution_count": 12,
   "metadata": {},
   "outputs": [
    {
     "name": "stdout",
     "output_type": "stream",
     "text": [
      "Dot product:\n",
      "[[30 40]\n",
      " [40 54]]\n",
      "Diagonal of Dot product: [30 54]\n"
     ]
    }
   ],
   "source": [
    "import numpy as np\n",
    "\n",
    "arr1 = [[1,2,3,4],[2,3,4,5]]\n",
    "arr2 = [[1,2],[2,3],[3,4],[4,5]]\n",
    "print(\"Dot product:\",end=\"\\n\")\n",
    "print(np.dot(arr1,arr2))\n",
    "arr3 = np.diag(np.dot(arr1,arr2))\n",
    "print(\"Diagonal of Dot product:\",arr3)"
   ]
  },
  {
   "cell_type": "markdown",
   "metadata": {},
   "source": [
    "# 13.How to find the most frequent value in an array?"
   ]
  },
  {
   "cell_type": "code",
   "execution_count": 13,
   "metadata": {},
   "outputs": [
    {
     "name": "stdout",
     "output_type": "stream",
     "text": [
      "Dictonary of values using counter: {1: 5, 2: 2, 3: 2}\n",
      "Most Frequent value: 1\n"
     ]
    }
   ],
   "source": [
    "import numpy as np\n",
    "from collections import Counter\n",
    "import sys\n",
    "\n",
    "arr1 = np.array([[1,2,3],[1,1,1],[2,3,1]])\n",
    "temp = dict(Counter(arr1.flatten()))\n",
    "print(\"Dictonary of values using counter:\",temp)\n",
    "mx = -1\n",
    "n = 0\n",
    "for i,j in temp.items() :\n",
    "    if mx < j :\n",
    "        mx = j\n",
    "        n = i\n",
    "print(\"Most Frequent value:\",n)"
   ]
  },
  {
   "cell_type": "markdown",
   "metadata": {},
   "source": [
    "# 14.How to get the n largest values of an array"
   ]
  },
  {
   "cell_type": "code",
   "execution_count": 14,
   "metadata": {},
   "outputs": [
    {
     "name": "stdout",
     "output_type": "stream",
     "text": [
      "[[[0.31922694 0.75245312 0.82295064 0.81620458 0.51596972]\n",
      "  [0.65416059 0.87835624 0.33114322 0.03096897 0.4499495 ]\n",
      "  [0.7607853  0.0700495  0.         0.96827862 0.52922131]\n",
      "  [0.18471633 0.32177861 0.74410334 0.07551726 1.        ]\n",
      "  [0.11522862 0.14380863 0.70969341 0.56511257 0.91866429]]\n",
      "\n",
      " [[0.31922694 0.75245312 0.82295064 0.81620458 0.51596972]\n",
      "  [0.65416059 0.87835624 0.33114322 0.03096897 0.4499495 ]\n",
      "  [0.18471633 0.32177861 0.74410334 0.07551726 1.        ]\n",
      "  [0.11522862 0.14380863 0.70969341 0.56511257 0.91866429]\n",
      "  [0.7607853  0.0700495  0.         0.96827862 0.52922131]]\n",
      "\n",
      " [[0.18471633 0.32177861 0.74410334 0.07551726 1.        ]\n",
      "  [0.11522862 0.14380863 0.70969341 0.56511257 0.91866429]\n",
      "  [0.31922694 0.75245312 0.82295064 0.81620458 0.51596972]\n",
      "  [0.65416059 0.87835624 0.33114322 0.03096897 0.4499495 ]\n",
      "  [0.7607853  0.0700495  0.         0.96827862 0.52922131]]]\n"
     ]
    }
   ],
   "source": [
    "import numpy as np\n",
    "arr1 = np.array([1,2,3,4,5,1,421,1,0])\n",
    "idx = (-arr).argsort()[:3] # To get first n max elements we use (-arr) else use arr\n",
    "print(arr[idx])\n",
    "# But above approach takes complexity of o(n+klog(k))\n",
    "\n",
    "# in basic python with o(n) k largest elements can be found\n",
    "# iterate and find max value and then remove that item from list and continue iteration again for k-1 times"
   ]
  },
  {
   "cell_type": "markdown",
   "metadata": {},
   "source": [
    "# 15.How to create a record array from a regular array?"
   ]
  },
  {
   "cell_type": "code",
   "execution_count": 15,
   "metadata": {},
   "outputs": [
    {
     "name": "stdout",
     "output_type": "stream",
     "text": [
      "[[1 1 2 3]\n",
      " [2 3 2 3]\n",
      " [3 2 1 4]]\n"
     ]
    }
   ],
   "source": [
    "import numpy as np\n",
    "\n",
    "arr1 = np.array([[1,1,2,3],[2,3,2,3],[3,2,1,4]])\n",
    "print(arr1)"
   ]
  },
  {
   "cell_type": "code",
   "execution_count": 16,
   "metadata": {},
   "outputs": [
    {
     "name": "stdout",
     "output_type": "stream",
     "text": [
      "[(1, 1, 2, 3) (2, 3, 2, 3) (3, 2, 1, 4)]\n"
     ]
    }
   ],
   "source": [
    "data = np.zeros(3,dtype = {'names':('a','b','c','d'),'formats':('i4','i4','i4','i4')})\n",
    "data['a'] = arr1[:,0]\n",
    "data['b'] = arr1[:,1]\n",
    "data['c'] = arr1[:,2]\n",
    "data['d'] = arr1[:,3]\n",
    "\n",
    "print(data)"
   ]
  },
  {
   "cell_type": "code",
   "execution_count": null,
   "metadata": {},
   "outputs": [],
   "source": []
  }
 ],
 "metadata": {
  "kernelspec": {
   "display_name": "Python 3",
   "language": "python",
   "name": "python3"
  },
  "language_info": {
   "codemirror_mode": {
    "name": "ipython",
    "version": 3
   },
   "file_extension": ".py",
   "mimetype": "text/x-python",
   "name": "python",
   "nbconvert_exporter": "python",
   "pygments_lexer": "ipython3",
   "version": "3.7.6"
  }
 },
 "nbformat": 4,
 "nbformat_minor": 4
}
