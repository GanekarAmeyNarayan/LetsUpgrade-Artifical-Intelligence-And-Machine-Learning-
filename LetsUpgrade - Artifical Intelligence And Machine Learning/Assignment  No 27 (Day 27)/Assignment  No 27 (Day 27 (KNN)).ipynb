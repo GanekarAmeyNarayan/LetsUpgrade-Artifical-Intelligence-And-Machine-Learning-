{
 "cells": [
  {
   "cell_type": "code",
   "execution_count": 1,
   "metadata": {},
   "outputs": [
    {
     "data": {
      "text/html": [
       "<div>\n",
       "<style scoped>\n",
       "    .dataframe tbody tr th:only-of-type {\n",
       "        vertical-align: middle;\n",
       "    }\n",
       "\n",
       "    .dataframe tbody tr th {\n",
       "        vertical-align: top;\n",
       "    }\n",
       "\n",
       "    .dataframe thead th {\n",
       "        text-align: right;\n",
       "    }\n",
       "</style>\n",
       "<table border=\"1\" class=\"dataframe\">\n",
       "  <thead>\n",
       "    <tr style=\"text-align: right;\">\n",
       "      <th></th>\n",
       "      <th>PassengerId</th>\n",
       "      <th>Survived</th>\n",
       "      <th>Pclass</th>\n",
       "      <th>Name</th>\n",
       "      <th>Sex</th>\n",
       "      <th>Age</th>\n",
       "      <th>SibSp</th>\n",
       "      <th>Parch</th>\n",
       "      <th>Ticket</th>\n",
       "      <th>Fare</th>\n",
       "      <th>Cabin</th>\n",
       "      <th>Embarked</th>\n",
       "    </tr>\n",
       "  </thead>\n",
       "  <tbody>\n",
       "    <tr>\n",
       "      <th>0</th>\n",
       "      <td>1</td>\n",
       "      <td>0</td>\n",
       "      <td>3</td>\n",
       "      <td>Braund, Mr. Owen Harris</td>\n",
       "      <td>male</td>\n",
       "      <td>22.0</td>\n",
       "      <td>1</td>\n",
       "      <td>0</td>\n",
       "      <td>A/5 21171</td>\n",
       "      <td>7.2500</td>\n",
       "      <td>NaN</td>\n",
       "      <td>S</td>\n",
       "    </tr>\n",
       "    <tr>\n",
       "      <th>1</th>\n",
       "      <td>2</td>\n",
       "      <td>1</td>\n",
       "      <td>1</td>\n",
       "      <td>Cumings, Mrs. John Bradley (Florence Briggs Th...</td>\n",
       "      <td>female</td>\n",
       "      <td>38.0</td>\n",
       "      <td>1</td>\n",
       "      <td>0</td>\n",
       "      <td>PC 17599</td>\n",
       "      <td>71.2833</td>\n",
       "      <td>C85</td>\n",
       "      <td>C</td>\n",
       "    </tr>\n",
       "    <tr>\n",
       "      <th>2</th>\n",
       "      <td>3</td>\n",
       "      <td>1</td>\n",
       "      <td>3</td>\n",
       "      <td>Heikkinen, Miss. Laina</td>\n",
       "      <td>female</td>\n",
       "      <td>26.0</td>\n",
       "      <td>0</td>\n",
       "      <td>0</td>\n",
       "      <td>STON/O2. 3101282</td>\n",
       "      <td>7.9250</td>\n",
       "      <td>NaN</td>\n",
       "      <td>S</td>\n",
       "    </tr>\n",
       "    <tr>\n",
       "      <th>3</th>\n",
       "      <td>4</td>\n",
       "      <td>1</td>\n",
       "      <td>1</td>\n",
       "      <td>Futrelle, Mrs. Jacques Heath (Lily May Peel)</td>\n",
       "      <td>female</td>\n",
       "      <td>35.0</td>\n",
       "      <td>1</td>\n",
       "      <td>0</td>\n",
       "      <td>113803</td>\n",
       "      <td>53.1000</td>\n",
       "      <td>C123</td>\n",
       "      <td>S</td>\n",
       "    </tr>\n",
       "    <tr>\n",
       "      <th>4</th>\n",
       "      <td>5</td>\n",
       "      <td>0</td>\n",
       "      <td>3</td>\n",
       "      <td>Allen, Mr. William Henry</td>\n",
       "      <td>male</td>\n",
       "      <td>35.0</td>\n",
       "      <td>0</td>\n",
       "      <td>0</td>\n",
       "      <td>373450</td>\n",
       "      <td>8.0500</td>\n",
       "      <td>NaN</td>\n",
       "      <td>S</td>\n",
       "    </tr>\n",
       "  </tbody>\n",
       "</table>\n",
       "</div>"
      ],
      "text/plain": [
       "   PassengerId  Survived  Pclass  \\\n",
       "0            1         0       3   \n",
       "1            2         1       1   \n",
       "2            3         1       3   \n",
       "3            4         1       1   \n",
       "4            5         0       3   \n",
       "\n",
       "                                                Name     Sex   Age  SibSp  \\\n",
       "0                            Braund, Mr. Owen Harris    male  22.0      1   \n",
       "1  Cumings, Mrs. John Bradley (Florence Briggs Th...  female  38.0      1   \n",
       "2                             Heikkinen, Miss. Laina  female  26.0      0   \n",
       "3       Futrelle, Mrs. Jacques Heath (Lily May Peel)  female  35.0      1   \n",
       "4                           Allen, Mr. William Henry    male  35.0      0   \n",
       "\n",
       "   Parch            Ticket     Fare Cabin Embarked  \n",
       "0      0         A/5 21171   7.2500   NaN        S  \n",
       "1      0          PC 17599  71.2833   C85        C  \n",
       "2      0  STON/O2. 3101282   7.9250   NaN        S  \n",
       "3      0            113803  53.1000  C123        S  \n",
       "4      0            373450   8.0500   NaN        S  "
      ]
     },
     "execution_count": 1,
     "metadata": {},
     "output_type": "execute_result"
    }
   ],
   "source": [
    "import pandas as pd\n",
    "data=pd.read_csv('train_titanic.csv')\n",
    "data.head()"
   ]
  },
  {
   "cell_type": "code",
   "execution_count": 2,
   "metadata": {},
   "outputs": [
    {
     "name": "stdout",
     "output_type": "stream",
     "text": [
      "<class 'pandas.core.frame.DataFrame'>\n",
      "RangeIndex: 889 entries, 0 to 888\n",
      "Data columns (total 12 columns):\n",
      " #   Column       Non-Null Count  Dtype  \n",
      "---  ------       --------------  -----  \n",
      " 0   PassengerId  889 non-null    int64  \n",
      " 1   Survived     889 non-null    int64  \n",
      " 2   Pclass       889 non-null    int64  \n",
      " 3   Name         889 non-null    object \n",
      " 4   Sex          889 non-null    object \n",
      " 5   Age          889 non-null    float64\n",
      " 6   SibSp        889 non-null    int64  \n",
      " 7   Parch        889 non-null    int64  \n",
      " 8   Ticket       889 non-null    object \n",
      " 9   Fare         889 non-null    float64\n",
      " 10  Cabin        202 non-null    object \n",
      " 11  Embarked     889 non-null    object \n",
      "dtypes: float64(2), int64(5), object(5)\n",
      "memory usage: 66.0+ KB\n"
     ]
    }
   ],
   "source": [
    "data.info()"
   ]
  },
  {
   "cell_type": "code",
   "execution_count": 3,
   "metadata": {},
   "outputs": [],
   "source": [
    "from sklearn.preprocessing import LabelEncoder\n",
    "encoder=LabelEncoder()"
   ]
  },
  {
   "cell_type": "code",
   "execution_count": 20,
   "metadata": {},
   "outputs": [
    {
     "data": {
      "text/html": [
       "<div>\n",
       "<style scoped>\n",
       "    .dataframe tbody tr th:only-of-type {\n",
       "        vertical-align: middle;\n",
       "    }\n",
       "\n",
       "    .dataframe tbody tr th {\n",
       "        vertical-align: top;\n",
       "    }\n",
       "\n",
       "    .dataframe thead th {\n",
       "        text-align: right;\n",
       "    }\n",
       "</style>\n",
       "<table border=\"1\" class=\"dataframe\">\n",
       "  <thead>\n",
       "    <tr style=\"text-align: right;\">\n",
       "      <th></th>\n",
       "      <th>Survived</th>\n",
       "      <th>Pclass</th>\n",
       "      <th>Sex</th>\n",
       "      <th>Age</th>\n",
       "      <th>SibSp</th>\n",
       "      <th>Parch</th>\n",
       "      <th>Fare</th>\n",
       "      <th>Embarked</th>\n",
       "    </tr>\n",
       "  </thead>\n",
       "  <tbody>\n",
       "    <tr>\n",
       "      <th>0</th>\n",
       "      <td>0</td>\n",
       "      <td>3</td>\n",
       "      <td>1</td>\n",
       "      <td>22.0</td>\n",
       "      <td>1</td>\n",
       "      <td>0</td>\n",
       "      <td>7.2500</td>\n",
       "      <td>2</td>\n",
       "    </tr>\n",
       "    <tr>\n",
       "      <th>1</th>\n",
       "      <td>1</td>\n",
       "      <td>1</td>\n",
       "      <td>0</td>\n",
       "      <td>38.0</td>\n",
       "      <td>1</td>\n",
       "      <td>0</td>\n",
       "      <td>71.2833</td>\n",
       "      <td>0</td>\n",
       "    </tr>\n",
       "    <tr>\n",
       "      <th>2</th>\n",
       "      <td>1</td>\n",
       "      <td>3</td>\n",
       "      <td>0</td>\n",
       "      <td>26.0</td>\n",
       "      <td>0</td>\n",
       "      <td>0</td>\n",
       "      <td>7.9250</td>\n",
       "      <td>2</td>\n",
       "    </tr>\n",
       "    <tr>\n",
       "      <th>3</th>\n",
       "      <td>1</td>\n",
       "      <td>1</td>\n",
       "      <td>0</td>\n",
       "      <td>35.0</td>\n",
       "      <td>1</td>\n",
       "      <td>0</td>\n",
       "      <td>53.1000</td>\n",
       "      <td>2</td>\n",
       "    </tr>\n",
       "    <tr>\n",
       "      <th>4</th>\n",
       "      <td>0</td>\n",
       "      <td>3</td>\n",
       "      <td>1</td>\n",
       "      <td>35.0</td>\n",
       "      <td>0</td>\n",
       "      <td>0</td>\n",
       "      <td>8.0500</td>\n",
       "      <td>2</td>\n",
       "    </tr>\n",
       "  </tbody>\n",
       "</table>\n",
       "</div>"
      ],
      "text/plain": [
       "   Survived  Pclass  Sex   Age  SibSp  Parch     Fare  Embarked\n",
       "0         0       3    1  22.0      1      0   7.2500         2\n",
       "1         1       1    0  38.0      1      0  71.2833         0\n",
       "2         1       3    0  26.0      0      0   7.9250         2\n",
       "3         1       1    0  35.0      1      0  53.1000         2\n",
       "4         0       3    1  35.0      0      0   8.0500         2"
      ]
     },
     "execution_count": 20,
     "metadata": {},
     "output_type": "execute_result"
    }
   ],
   "source": [
    "data['Sex']=encoder.fit_transform(data['Sex'])\n",
    "data['Embarked']=encoder.fit_transform(data['Embarked'])\n",
    "data.head()"
   ]
  },
  {
   "cell_type": "code",
   "execution_count": 5,
   "metadata": {},
   "outputs": [
    {
     "data": {
      "text/plain": [
       "PassengerId      0\n",
       "Survived         0\n",
       "Pclass           0\n",
       "Name             0\n",
       "Sex              0\n",
       "Age              0\n",
       "SibSp            0\n",
       "Parch            0\n",
       "Ticket           0\n",
       "Fare             0\n",
       "Cabin          687\n",
       "Embarked         0\n",
       "dtype: int64"
      ]
     },
     "execution_count": 5,
     "metadata": {},
     "output_type": "execute_result"
    }
   ],
   "source": [
    "data.isna().sum()"
   ]
  },
  {
   "cell_type": "code",
   "execution_count": 6,
   "metadata": {},
   "outputs": [
    {
     "data": {
      "text/html": [
       "<div>\n",
       "<style scoped>\n",
       "    .dataframe tbody tr th:only-of-type {\n",
       "        vertical-align: middle;\n",
       "    }\n",
       "\n",
       "    .dataframe tbody tr th {\n",
       "        vertical-align: top;\n",
       "    }\n",
       "\n",
       "    .dataframe thead th {\n",
       "        text-align: right;\n",
       "    }\n",
       "</style>\n",
       "<table border=\"1\" class=\"dataframe\">\n",
       "  <thead>\n",
       "    <tr style=\"text-align: right;\">\n",
       "      <th></th>\n",
       "      <th>Survived</th>\n",
       "      <th>Pclass</th>\n",
       "      <th>Sex</th>\n",
       "      <th>Age</th>\n",
       "      <th>SibSp</th>\n",
       "      <th>Parch</th>\n",
       "      <th>Fare</th>\n",
       "      <th>Embarked</th>\n",
       "    </tr>\n",
       "  </thead>\n",
       "  <tbody>\n",
       "    <tr>\n",
       "      <th>0</th>\n",
       "      <td>0</td>\n",
       "      <td>3</td>\n",
       "      <td>1</td>\n",
       "      <td>22.0</td>\n",
       "      <td>1</td>\n",
       "      <td>0</td>\n",
       "      <td>7.2500</td>\n",
       "      <td>2</td>\n",
       "    </tr>\n",
       "    <tr>\n",
       "      <th>1</th>\n",
       "      <td>1</td>\n",
       "      <td>1</td>\n",
       "      <td>0</td>\n",
       "      <td>38.0</td>\n",
       "      <td>1</td>\n",
       "      <td>0</td>\n",
       "      <td>71.2833</td>\n",
       "      <td>0</td>\n",
       "    </tr>\n",
       "    <tr>\n",
       "      <th>2</th>\n",
       "      <td>1</td>\n",
       "      <td>3</td>\n",
       "      <td>0</td>\n",
       "      <td>26.0</td>\n",
       "      <td>0</td>\n",
       "      <td>0</td>\n",
       "      <td>7.9250</td>\n",
       "      <td>2</td>\n",
       "    </tr>\n",
       "    <tr>\n",
       "      <th>3</th>\n",
       "      <td>1</td>\n",
       "      <td>1</td>\n",
       "      <td>0</td>\n",
       "      <td>35.0</td>\n",
       "      <td>1</td>\n",
       "      <td>0</td>\n",
       "      <td>53.1000</td>\n",
       "      <td>2</td>\n",
       "    </tr>\n",
       "    <tr>\n",
       "      <th>4</th>\n",
       "      <td>0</td>\n",
       "      <td>3</td>\n",
       "      <td>1</td>\n",
       "      <td>35.0</td>\n",
       "      <td>0</td>\n",
       "      <td>0</td>\n",
       "      <td>8.0500</td>\n",
       "      <td>2</td>\n",
       "    </tr>\n",
       "  </tbody>\n",
       "</table>\n",
       "</div>"
      ],
      "text/plain": [
       "   Survived  Pclass  Sex   Age  SibSp  Parch     Fare  Embarked\n",
       "0         0       3    1  22.0      1      0   7.2500         2\n",
       "1         1       1    0  38.0      1      0  71.2833         0\n",
       "2         1       3    0  26.0      0      0   7.9250         2\n",
       "3         1       1    0  35.0      1      0  53.1000         2\n",
       "4         0       3    1  35.0      0      0   8.0500         2"
      ]
     },
     "execution_count": 6,
     "metadata": {},
     "output_type": "execute_result"
    }
   ],
   "source": [
    "data=data.drop(['Cabin','PassengerId','Name','Ticket'],axis=1)\n",
    "data.head()"
   ]
  },
  {
   "cell_type": "code",
   "execution_count": 21,
   "metadata": {},
   "outputs": [],
   "source": [
    "def metrics_model(a,b):\n",
    "    #Calculates the accuracy and confusion matrix\n",
    "    from sklearn.model_selection import train_test_split\n",
    "    from sklearn import neighbors\n",
    "    from sklearn.metrics import accuracy_score,confusion_matrix\n",
    "    x_train,x_test,y_train,y_test=train_test_split(a,b,test_size=0.3,random_state=0)\n",
    "    s=(x_test.shape[0])+1\n",
    "    for k in range(1,s):\n",
    "        knn=neighbors.KNeighborsClassifier(n_neighbors=k)\n",
    "        knn.fit(x_train,y_train).score(x_test,y_test)\n",
    "        y_pred=knn.predict(x_test)\n",
    "        print(\"The performance metric for the model with k=\",k,\"is:\")\n",
    "        print(\"The accuracy score is:\",accuracy_score(y_test,y_pred,normalize=True))\n",
    "        print(\"The confusion matrix is:\")\n",
    "        print(confusion_matrix(y_test,y_pred))"
   ]
  },
  {
   "cell_type": "code",
   "execution_count": 22,
   "metadata": {},
   "outputs": [
    {
     "data": {
      "text/html": [
       "<div>\n",
       "<style scoped>\n",
       "    .dataframe tbody tr th:only-of-type {\n",
       "        vertical-align: middle;\n",
       "    }\n",
       "\n",
       "    .dataframe tbody tr th {\n",
       "        vertical-align: top;\n",
       "    }\n",
       "\n",
       "    .dataframe thead th {\n",
       "        text-align: right;\n",
       "    }\n",
       "</style>\n",
       "<table border=\"1\" class=\"dataframe\">\n",
       "  <thead>\n",
       "    <tr style=\"text-align: right;\">\n",
       "      <th></th>\n",
       "      <th>Pclass</th>\n",
       "    </tr>\n",
       "  </thead>\n",
       "  <tbody>\n",
       "    <tr>\n",
       "      <th>0</th>\n",
       "      <td>3</td>\n",
       "    </tr>\n",
       "    <tr>\n",
       "      <th>1</th>\n",
       "      <td>1</td>\n",
       "    </tr>\n",
       "    <tr>\n",
       "      <th>2</th>\n",
       "      <td>3</td>\n",
       "    </tr>\n",
       "    <tr>\n",
       "      <th>3</th>\n",
       "      <td>1</td>\n",
       "    </tr>\n",
       "    <tr>\n",
       "      <th>4</th>\n",
       "      <td>3</td>\n",
       "    </tr>\n",
       "  </tbody>\n",
       "</table>\n",
       "</div>"
      ],
      "text/plain": [
       "   Pclass\n",
       "0       3\n",
       "1       1\n",
       "2       3\n",
       "3       1\n",
       "4       3"
      ]
     },
     "execution_count": 22,
     "metadata": {},
     "output_type": "execute_result"
    }
   ],
   "source": [
    "y=data.iloc[:,1:2]\n",
    "y.head()"
   ]
  },
  {
   "cell_type": "code",
   "execution_count": 24,
   "metadata": {},
   "outputs": [
    {
     "data": {
      "text/html": [
       "<div>\n",
       "<style scoped>\n",
       "    .dataframe tbody tr th:only-of-type {\n",
       "        vertical-align: middle;\n",
       "    }\n",
       "\n",
       "    .dataframe tbody tr th {\n",
       "        vertical-align: top;\n",
       "    }\n",
       "\n",
       "    .dataframe thead th {\n",
       "        text-align: right;\n",
       "    }\n",
       "</style>\n",
       "<table border=\"1\" class=\"dataframe\">\n",
       "  <thead>\n",
       "    <tr style=\"text-align: right;\">\n",
       "      <th></th>\n",
       "      <th>Survived</th>\n",
       "      <th>Sex</th>\n",
       "      <th>Age</th>\n",
       "      <th>SibSp</th>\n",
       "      <th>Parch</th>\n",
       "      <th>Fare</th>\n",
       "      <th>Embarked</th>\n",
       "    </tr>\n",
       "  </thead>\n",
       "  <tbody>\n",
       "    <tr>\n",
       "      <th>0</th>\n",
       "      <td>0</td>\n",
       "      <td>1</td>\n",
       "      <td>22.0</td>\n",
       "      <td>1</td>\n",
       "      <td>0</td>\n",
       "      <td>7.2500</td>\n",
       "      <td>2</td>\n",
       "    </tr>\n",
       "    <tr>\n",
       "      <th>1</th>\n",
       "      <td>1</td>\n",
       "      <td>0</td>\n",
       "      <td>38.0</td>\n",
       "      <td>1</td>\n",
       "      <td>0</td>\n",
       "      <td>71.2833</td>\n",
       "      <td>0</td>\n",
       "    </tr>\n",
       "    <tr>\n",
       "      <th>2</th>\n",
       "      <td>1</td>\n",
       "      <td>0</td>\n",
       "      <td>26.0</td>\n",
       "      <td>0</td>\n",
       "      <td>0</td>\n",
       "      <td>7.9250</td>\n",
       "      <td>2</td>\n",
       "    </tr>\n",
       "    <tr>\n",
       "      <th>3</th>\n",
       "      <td>1</td>\n",
       "      <td>0</td>\n",
       "      <td>35.0</td>\n",
       "      <td>1</td>\n",
       "      <td>0</td>\n",
       "      <td>53.1000</td>\n",
       "      <td>2</td>\n",
       "    </tr>\n",
       "    <tr>\n",
       "      <th>4</th>\n",
       "      <td>0</td>\n",
       "      <td>1</td>\n",
       "      <td>35.0</td>\n",
       "      <td>0</td>\n",
       "      <td>0</td>\n",
       "      <td>8.0500</td>\n",
       "      <td>2</td>\n",
       "    </tr>\n",
       "  </tbody>\n",
       "</table>\n",
       "</div>"
      ],
      "text/plain": [
       "   Survived  Sex   Age  SibSp  Parch     Fare  Embarked\n",
       "0         0    1  22.0      1      0   7.2500         2\n",
       "1         1    0  38.0      1      0  71.2833         0\n",
       "2         1    0  26.0      0      0   7.9250         2\n",
       "3         1    0  35.0      1      0  53.1000         2\n",
       "4         0    1  35.0      0      0   8.0500         2"
      ]
     },
     "execution_count": 24,
     "metadata": {},
     "output_type": "execute_result"
    }
   ],
   "source": [
    "x=data.drop([\"Pclass\"],axis=1)\n",
    "x.head()"
   ]
  },
  {
   "cell_type": "markdown",
   "metadata": {},
   "source": [
    "# Model (Pclass vs all)"
   ]
  },
  {
   "cell_type": "code",
   "execution_count": 25,
   "metadata": {},
   "outputs": [
    {
     "name": "stderr",
     "output_type": "stream",
     "text": [
      "C:\\Users\\Admin\\anaconda3\\lib\\site-packages\\ipykernel_launcher.py:10: DataConversionWarning: A column-vector y was passed when a 1d array was expected. Please change the shape of y to (n_samples, ), for example using ravel().\n",
      "  # Remove the CWD from sys.path while we load stuff.\n"
     ]
    },
    {
     "name": "stdout",
     "output_type": "stream",
     "text": [
      "The performance metric for the model with k= 1 is:\n",
      "The accuracy score is: 0.8913857677902621\n",
      "The confusion matrix is:\n",
      "[[ 62   6   2]\n",
      " [  3  37   9]\n",
      " [  1   8 139]]\n",
      "The performance metric for the model with k= 2 is:\n",
      "The accuracy score is: 0.8651685393258427\n",
      "The confusion matrix is:\n",
      "[[ 67   2   1]\n",
      " [  8  37   4]\n",
      " [  4  17 127]]\n",
      "The performance metric for the model with k= 3 is:\n",
      "The accuracy score is: 0.8651685393258427\n",
      "The confusion matrix is:\n",
      "[[ 63   5   2]\n",
      " [  7  28  14]\n",
      " [  3   5 140]]"
     ]
    },
    {
     "name": "stderr",
     "output_type": "stream",
     "text": [
      "C:\\Users\\Admin\\anaconda3\\lib\\site-packages\\ipykernel_launcher.py:10: DataConversionWarning: A column-vector y was passed when a 1d array was expected. Please change the shape of y to (n_samples, ), for example using ravel().\n",
      "  # Remove the CWD from sys.path while we load stuff.\n",
      "C:\\Users\\Admin\\anaconda3\\lib\\site-packages\\ipykernel_launcher.py:10: DataConversionWarning: A column-vector y was passed when a 1d array was expected. Please change the shape of y to (n_samples, ), for example using ravel().\n",
      "  # Remove the CWD from sys.path while we load stuff.\n",
      "C:\\Users\\Admin\\anaconda3\\lib\\site-packages\\ipykernel_launcher.py:10: DataConversionWarning: A column-vector y was passed when a 1d array was expected. Please change the shape of y to (n_samples, ), for example using ravel().\n",
      "  # Remove the CWD from sys.path while we load stuff.\n"
     ]
    },
    {
     "name": "stdout",
     "output_type": "stream",
     "text": [
      "\n",
      "The performance metric for the model with k= 4 is:\n",
      "The accuracy score is: 0.8239700374531835\n",
      "The confusion matrix is:\n",
      "[[ 61   7   2]\n",
      " [  8  30  11]\n",
      " [  4  15 129]]\n"
     ]
    },
    {
     "name": "stderr",
     "output_type": "stream",
     "text": [
      "C:\\Users\\Admin\\anaconda3\\lib\\site-packages\\ipykernel_launcher.py:10: DataConversionWarning: A column-vector y was passed when a 1d array was expected. Please change the shape of y to (n_samples, ), for example using ravel().\n",
      "  # Remove the CWD from sys.path while we load stuff.\n",
      "C:\\Users\\Admin\\anaconda3\\lib\\site-packages\\ipykernel_launcher.py:10: DataConversionWarning: A column-vector y was passed when a 1d array was expected. Please change the shape of y to (n_samples, ), for example using ravel().\n",
      "  # Remove the CWD from sys.path while we load stuff.\n",
      "C:\\Users\\Admin\\anaconda3\\lib\\site-packages\\ipykernel_launcher.py:10: DataConversionWarning: A column-vector y was passed when a 1d array was expected. Please change the shape of y to (n_samples, ), for example using ravel().\n",
      "  # Remove the CWD from sys.path while we load stuff.\n"
     ]
    },
    {
     "name": "stdout",
     "output_type": "stream",
     "text": [
      "The performance metric for the model with k= 5 is:\n",
      "The accuracy score is: 0.8314606741573034\n",
      "The confusion matrix is:\n",
      "[[ 58  10   2]\n",
      " [  7  28  14]\n",
      " [  3   9 136]]\n",
      "The performance metric for the model with k= 6 is:\n",
      "The accuracy score is: 0.846441947565543\n",
      "The confusion matrix is:\n",
      "[[ 64   5   1]\n",
      " [  7  32  10]\n",
      " [  3  15 130]]\n",
      "The performance metric for the model with k= 7 is:\n",
      "The accuracy score is: 0.8426966292134831\n",
      "The confusion matrix is:\n",
      "[[ 59  10   1]\n",
      " [  7  28  14]\n",
      " [  3   7 138]]\n",
      "The performance metric for the model with k= 8 is:\n",
      "The accuracy score is: 0.850187265917603\n",
      "The confusion matrix is:\n",
      "[[ 61   8   1]\n",
      " [  7  34   8]\n",
      " [  3  13 132]]\n",
      "The performance metric for the model with k="
     ]
    },
    {
     "name": "stderr",
     "output_type": "stream",
     "text": [
      "C:\\Users\\Admin\\anaconda3\\lib\\site-packages\\ipykernel_launcher.py:10: DataConversionWarning: A column-vector y was passed when a 1d array was expected. Please change the shape of y to (n_samples, ), for example using ravel().\n",
      "  # Remove the CWD from sys.path while we load stuff.\n",
      "C:\\Users\\Admin\\anaconda3\\lib\\site-packages\\ipykernel_launcher.py:10: DataConversionWarning: A column-vector y was passed when a 1d array was expected. Please change the shape of y to (n_samples, ), for example using ravel().\n",
      "  # Remove the CWD from sys.path while we load stuff.\n"
     ]
    },
    {
     "name": "stdout",
     "output_type": "stream",
     "text": [
      " 9 is:\n",
      "The accuracy score is: 0.846441947565543\n",
      "The confusion matrix is:\n",
      "[[ 60   8   2]\n",
      " [  7  29  13]\n",
      " [  3   8 137]]\n",
      "The performance metric for the model with k= 10 is:\n",
      "The accuracy score is: 0.8352059925093633\n",
      "The confusion matrix is:\n",
      "[[ 60   8   2]\n",
      " [  7  31  11]\n",
      " [  3  13 132]]\n",
      "The performance metric for the model with k="
     ]
    },
    {
     "name": "stderr",
     "output_type": "stream",
     "text": [
      "C:\\Users\\Admin\\anaconda3\\lib\\site-packages\\ipykernel_launcher.py:10: DataConversionWarning: A column-vector y was passed when a 1d array was expected. Please change the shape of y to (n_samples, ), for example using ravel().\n",
      "  # Remove the CWD from sys.path while we load stuff.\n",
      "C:\\Users\\Admin\\anaconda3\\lib\\site-packages\\ipykernel_launcher.py:10: DataConversionWarning: A column-vector y was passed when a 1d array was expected. Please change the shape of y to (n_samples, ), for example using ravel().\n",
      "  # Remove the CWD from sys.path while we load stuff.\n"
     ]
    },
    {
     "name": "stdout",
     "output_type": "stream",
     "text": [
      " 11 is:\n",
      "The accuracy score is: 0.8202247191011236\n",
      "The confusion matrix is:\n",
      "[[ 60   9   1]\n",
      " [  8  27  14]\n",
      " [  6  10 132]]\n",
      "The performance metric for the model with k= 12 is:\n",
      "The accuracy score is: 0.8277153558052435\n",
      "The confusion matrix is:\n",
      "[[ 61   8   1]\n",
      " [  8  28  13]\n",
      " [  5  11 132]]\n"
     ]
    },
    {
     "name": "stderr",
     "output_type": "stream",
     "text": [
      "C:\\Users\\Admin\\anaconda3\\lib\\site-packages\\ipykernel_launcher.py:10: DataConversionWarning: A column-vector y was passed when a 1d array was expected. Please change the shape of y to (n_samples, ), for example using ravel().\n",
      "  # Remove the CWD from sys.path while we load stuff.\n",
      "C:\\Users\\Admin\\anaconda3\\lib\\site-packages\\ipykernel_launcher.py:10: DataConversionWarning: A column-vector y was passed when a 1d array was expected. Please change the shape of y to (n_samples, ), for example using ravel().\n",
      "  # Remove the CWD from sys.path while we load stuff.\n"
     ]
    },
    {
     "name": "stdout",
     "output_type": "stream",
     "text": [
      "The performance metric for the model with k= 13 is:\n",
      "The accuracy score is: 0.8277153558052435\n",
      "The confusion matrix is:\n",
      "[[ 60   9   1]\n",
      " [  7  28  14]\n",
      " [  5  10 133]]\n",
      "The performance metric for the model with k= 14 is:\n",
      "The accuracy score is: 0.8202247191011236\n",
      "The confusion matrix is:\n",
      "[[ 60   8   2]\n",
      " [  8  27  14]\n",
      " [  5  11 132]]\n",
      "The performance metric for the model with k= 15 is:\n",
      "The accuracy score is: 0.8127340823970037\n",
      "The confusion matrix is:\n",
      "[[ 60   7   3]\n",
      " [  7  27  15]\n",
      " [  5  13 130]]\n"
     ]
    },
    {
     "name": "stderr",
     "output_type": "stream",
     "text": [
      "C:\\Users\\Admin\\anaconda3\\lib\\site-packages\\ipykernel_launcher.py:10: DataConversionWarning: A column-vector y was passed when a 1d array was expected. Please change the shape of y to (n_samples, ), for example using ravel().\n",
      "  # Remove the CWD from sys.path while we load stuff.\n",
      "C:\\Users\\Admin\\anaconda3\\lib\\site-packages\\ipykernel_launcher.py:10: DataConversionWarning: A column-vector y was passed when a 1d array was expected. Please change the shape of y to (n_samples, ), for example using ravel().\n",
      "  # Remove the CWD from sys.path while we load stuff.\n",
      "C:\\Users\\Admin\\anaconda3\\lib\\site-packages\\ipykernel_launcher.py:10: DataConversionWarning: A column-vector y was passed when a 1d array was expected. Please change the shape of y to (n_samples, ), for example using ravel().\n",
      "  # Remove the CWD from sys.path while we load stuff.\n"
     ]
    },
    {
     "name": "stdout",
     "output_type": "stream",
     "text": [
      "The performance metric for the model with k= 16 is:\n",
      "The accuracy score is: 0.8164794007490637\n",
      "The confusion matrix is:\n",
      "[[ 60   7   3]\n",
      " [  7  28  14]\n",
      " [  5  13 130]]\n",
      "The performance metric for the model with k= 17 is:\n",
      "The accuracy score is: 0.8164794007490637\n",
      "The confusion matrix is:\n",
      "[[ 60   7   3]\n",
      " [  7  27  15]\n",
      " [  5  12 131]]\n",
      "The performance metric for the model with k= 18 is:\n",
      "The accuracy score is: 0.8164794007490637\n",
      "The confusion matrix is:\n",
      "[[ 60   6   4]\n",
      " [  7  27  15]\n",
      " [  5  12 131]]\n"
     ]
    },
    {
     "name": "stderr",
     "output_type": "stream",
     "text": [
      "C:\\Users\\Admin\\anaconda3\\lib\\site-packages\\ipykernel_launcher.py:10: DataConversionWarning: A column-vector y was passed when a 1d array was expected. Please change the shape of y to (n_samples, ), for example using ravel().\n",
      "  # Remove the CWD from sys.path while we load stuff.\n",
      "C:\\Users\\Admin\\anaconda3\\lib\\site-packages\\ipykernel_launcher.py:10: DataConversionWarning: A column-vector y was passed when a 1d array was expected. Please change the shape of y to (n_samples, ), for example using ravel().\n",
      "  # Remove the CWD from sys.path while we load stuff.\n",
      "C:\\Users\\Admin\\anaconda3\\lib\\site-packages\\ipykernel_launcher.py:10: DataConversionWarning: A column-vector y was passed when a 1d array was expected. Please change the shape of y to (n_samples, ), for example using ravel().\n",
      "  # Remove the CWD from sys.path while we load stuff.\n"
     ]
    },
    {
     "name": "stdout",
     "output_type": "stream",
     "text": [
      "The performance metric for the model with k= 19 is:\n",
      "The accuracy score is: 0.8202247191011236\n",
      "The confusion matrix is:\n",
      "[[ 60   6   4]\n",
      " [  7  28  14]\n",
      " [  5  12 131]]\n",
      "The performance metric for the model with k= 20 is:\n",
      "The accuracy score is: 0.8202247191011236\n",
      "The confusion matrix is:\n",
      "[[ 60   6   4]\n",
      " [  7  29  13]\n",
      " [  5  13 130]]\n",
      "The performance metric for the model with k= 21 is:\n",
      "The accuracy score is: 0.8127340823970037\n",
      "The confusion matrix is:\n",
      "[[ 60   7   3]\n",
      " [  7  27  15]\n",
      " [  5  13 130]]\n"
     ]
    },
    {
     "name": "stderr",
     "output_type": "stream",
     "text": [
      "C:\\Users\\Admin\\anaconda3\\lib\\site-packages\\ipykernel_launcher.py:10: DataConversionWarning: A column-vector y was passed when a 1d array was expected. Please change the shape of y to (n_samples, ), for example using ravel().\n",
      "  # Remove the CWD from sys.path while we load stuff.\n",
      "C:\\Users\\Admin\\anaconda3\\lib\\site-packages\\ipykernel_launcher.py:10: DataConversionWarning: A column-vector y was passed when a 1d array was expected. Please change the shape of y to (n_samples, ), for example using ravel().\n",
      "  # Remove the CWD from sys.path while we load stuff.\n",
      "C:\\Users\\Admin\\anaconda3\\lib\\site-packages\\ipykernel_launcher.py:10: DataConversionWarning: A column-vector y was passed when a 1d array was expected. Please change the shape of y to (n_samples, ), for example using ravel().\n",
      "  # Remove the CWD from sys.path while we load stuff.\n"
     ]
    },
    {
     "name": "stdout",
     "output_type": "stream",
     "text": [
      "The performance metric for the model with k= 22 is:\n",
      "The accuracy score is: 0.797752808988764\n",
      "The confusion matrix is:\n",
      "[[ 61   6   3]\n",
      " [  7  27  15]\n",
      " [  9  14 125]]\n",
      "The performance metric for the model with k= 23 is:\n",
      "The accuracy score is: 0.8014981273408239\n",
      "The confusion matrix is:\n",
      "[[ 61   6   3]\n",
      " [  7  27  15]\n",
      " [  8  14 126]]\n",
      "The performance metric for the model with k="
     ]
    },
    {
     "name": "stderr",
     "output_type": "stream",
     "text": [
      "C:\\Users\\Admin\\anaconda3\\lib\\site-packages\\ipykernel_launcher.py:10: DataConversionWarning: A column-vector y was passed when a 1d array was expected. Please change the shape of y to (n_samples, ), for example using ravel().\n",
      "  # Remove the CWD from sys.path while we load stuff.\n",
      "C:\\Users\\Admin\\anaconda3\\lib\\site-packages\\ipykernel_launcher.py:10: DataConversionWarning: A column-vector y was passed when a 1d array was expected. Please change the shape of y to (n_samples, ), for example using ravel().\n",
      "  # Remove the CWD from sys.path while we load stuff.\n"
     ]
    },
    {
     "name": "stdout",
     "output_type": "stream",
     "text": [
      " 24 is:\n",
      "The accuracy score is: 0.7940074906367042\n",
      "The confusion matrix is:\n",
      "[[ 62   5   3]\n",
      " [  7  27  15]\n",
      " [  9  16 123]]\n",
      "The performance metric for the model with k= 25 is:\n",
      "The accuracy score is: 0.797752808988764\n",
      "The confusion matrix is:\n",
      "[[ 62   6   2]\n",
      " [  7  26  16]\n",
      " [  9  14 125]]\n",
      "The performance metric for the model with k= 26 is:\n",
      "The accuracy score is: 0.7865168539325843"
     ]
    },
    {
     "name": "stderr",
     "output_type": "stream",
     "text": [
      "C:\\Users\\Admin\\anaconda3\\lib\\site-packages\\ipykernel_launcher.py:10: DataConversionWarning: A column-vector y was passed when a 1d array was expected. Please change the shape of y to (n_samples, ), for example using ravel().\n",
      "  # Remove the CWD from sys.path while we load stuff.\n",
      "C:\\Users\\Admin\\anaconda3\\lib\\site-packages\\ipykernel_launcher.py:10: DataConversionWarning: A column-vector y was passed when a 1d array was expected. Please change the shape of y to (n_samples, ), for example using ravel().\n",
      "  # Remove the CWD from sys.path while we load stuff.\n"
     ]
    },
    {
     "name": "stdout",
     "output_type": "stream",
     "text": [
      "\n",
      "The confusion matrix is:\n",
      "[[ 61   5   4]\n",
      " [  7  25  17]\n",
      " [  9  15 124]]\n",
      "The performance metric for the model with k= 27 is:\n",
      "The accuracy score is: 0.797752808988764\n",
      "The confusion matrix is:\n",
      "[[ 62   5   3]\n",
      " [  7  26  16]\n",
      " [  9  14 125]]\n"
     ]
    },
    {
     "name": "stderr",
     "output_type": "stream",
     "text": [
      "C:\\Users\\Admin\\anaconda3\\lib\\site-packages\\ipykernel_launcher.py:10: DataConversionWarning: A column-vector y was passed when a 1d array was expected. Please change the shape of y to (n_samples, ), for example using ravel().\n",
      "  # Remove the CWD from sys.path while we load stuff.\n",
      "C:\\Users\\Admin\\anaconda3\\lib\\site-packages\\ipykernel_launcher.py:10: DataConversionWarning: A column-vector y was passed when a 1d array was expected. Please change the shape of y to (n_samples, ), for example using ravel().\n",
      "  # Remove the CWD from sys.path while we load stuff.\n"
     ]
    },
    {
     "name": "stdout",
     "output_type": "stream",
     "text": [
      "The performance metric for the model with k= 28 is:\n",
      "The accuracy score is: 0.7827715355805244\n",
      "The confusion matrix is:\n",
      "[[ 62   5   3]\n",
      " [  7  24  18]\n",
      " [ 10  15 123]]\n",
      "The performance metric for the model with k= 29 is:\n",
      "The accuracy score is: 0.7790262172284644\n",
      "The confusion matrix is:\n",
      "[[ 62   5   3]\n",
      " [  7  24  18]\n",
      " [ 10  16 122]]\n"
     ]
    },
    {
     "name": "stderr",
     "output_type": "stream",
     "text": [
      "C:\\Users\\Admin\\anaconda3\\lib\\site-packages\\ipykernel_launcher.py:10: DataConversionWarning: A column-vector y was passed when a 1d array was expected. Please change the shape of y to (n_samples, ), for example using ravel().\n",
      "  # Remove the CWD from sys.path while we load stuff.\n",
      "C:\\Users\\Admin\\anaconda3\\lib\\site-packages\\ipykernel_launcher.py:10: DataConversionWarning: A column-vector y was passed when a 1d array was expected. Please change the shape of y to (n_samples, ), for example using ravel().\n",
      "  # Remove the CWD from sys.path while we load stuff.\n"
     ]
    },
    {
     "name": "stdout",
     "output_type": "stream",
     "text": [
      "The performance metric for the model with k= 30 is:\n",
      "The accuracy score is: 0.7790262172284644\n",
      "The confusion matrix is:\n",
      "[[ 62   5   3]\n",
      " [  7  24  18]\n",
      " [ 10  16 122]]\n",
      "The performance metric for the model with k="
     ]
    },
    {
     "name": "stderr",
     "output_type": "stream",
     "text": [
      "C:\\Users\\Admin\\anaconda3\\lib\\site-packages\\ipykernel_launcher.py:10: DataConversionWarning: A column-vector y was passed when a 1d array was expected. Please change the shape of y to (n_samples, ), for example using ravel().\n",
      "  # Remove the CWD from sys.path while we load stuff.\n",
      "C:\\Users\\Admin\\anaconda3\\lib\\site-packages\\ipykernel_launcher.py:10: DataConversionWarning: A column-vector y was passed when a 1d array was expected. Please change the shape of y to (n_samples, ), for example using ravel().\n",
      "  # Remove the CWD from sys.path while we load stuff.\n"
     ]
    },
    {
     "name": "stdout",
     "output_type": "stream",
     "text": [
      " 31 is:\n",
      "The accuracy score is: 0.7865168539325843\n",
      "The confusion matrix is:\n",
      "[[ 62   5   3]\n",
      " [  7  24  18]\n",
      " [  9  15 124]]\n",
      "The performance metric for the model with k= 32 is:\n",
      "The accuracy score is: 0.7827715355805244\n",
      "The confusion matrix is:\n",
      "[[ 62   5   3]\n",
      " [  7  23  19]\n",
      " [  9  15 124]]\n"
     ]
    },
    {
     "name": "stderr",
     "output_type": "stream",
     "text": [
      "C:\\Users\\Admin\\anaconda3\\lib\\site-packages\\ipykernel_launcher.py:10: DataConversionWarning: A column-vector y was passed when a 1d array was expected. Please change the shape of y to (n_samples, ), for example using ravel().\n",
      "  # Remove the CWD from sys.path while we load stuff.\n"
     ]
    },
    {
     "name": "stdout",
     "output_type": "stream",
     "text": [
      "The performance metric for the model with k= 33 is:\n",
      "The accuracy score is: 0.7902621722846442\n",
      "The confusion matrix is:\n",
      "[[ 62   5   3]\n",
      " [  7  23  19]\n",
      " [  9  13 126]]\n",
      "The performance metric for the model with k="
     ]
    },
    {
     "name": "stderr",
     "output_type": "stream",
     "text": [
      "C:\\Users\\Admin\\anaconda3\\lib\\site-packages\\ipykernel_launcher.py:10: DataConversionWarning: A column-vector y was passed when a 1d array was expected. Please change the shape of y to (n_samples, ), for example using ravel().\n",
      "  # Remove the CWD from sys.path while we load stuff.\n",
      "C:\\Users\\Admin\\anaconda3\\lib\\site-packages\\ipykernel_launcher.py:10: DataConversionWarning: A column-vector y was passed when a 1d array was expected. Please change the shape of y to (n_samples, ), for example using ravel().\n",
      "  # Remove the CWD from sys.path while we load stuff.\n"
     ]
    },
    {
     "name": "stdout",
     "output_type": "stream",
     "text": [
      " 34 is:\n",
      "The accuracy score is: 0.7865168539325843\n",
      "The confusion matrix is:\n",
      "[[ 62   5   3]\n",
      " [  7  24  18]\n",
      " [ 10  14 124]]\n",
      "The performance metric for the model with k= 35 is:\n",
      "The accuracy score is: 0.7790262172284644\n",
      "The confusion matrix is:\n",
      "[[ 62   5   3]\n",
      " [  7  22  20]\n",
      " [ 10  14 124]]\n",
      "The performance metric for the model with k= 36 is:\n",
      "The accuracy score is: 0.7827715355805244\n",
      "The confusion matrix is:\n",
      "[[ 62   5   3]\n",
      " [  7  23  19]\n",
      " [ 10  14 124]]\n"
     ]
    },
    {
     "name": "stderr",
     "output_type": "stream",
     "text": [
      "C:\\Users\\Admin\\anaconda3\\lib\\site-packages\\ipykernel_launcher.py:10: DataConversionWarning: A column-vector y was passed when a 1d array was expected. Please change the shape of y to (n_samples, ), for example using ravel().\n",
      "  # Remove the CWD from sys.path while we load stuff.\n",
      "C:\\Users\\Admin\\anaconda3\\lib\\site-packages\\ipykernel_launcher.py:10: DataConversionWarning: A column-vector y was passed when a 1d array was expected. Please change the shape of y to (n_samples, ), for example using ravel().\n",
      "  # Remove the CWD from sys.path while we load stuff.\n"
     ]
    },
    {
     "name": "stdout",
     "output_type": "stream",
     "text": [
      "The performance metric for the model with k= 37 is:\n",
      "The accuracy score is: 0.7865168539325843\n",
      "The confusion matrix is:\n",
      "[[ 62   5   3]\n",
      " [  7  22  20]\n",
      " [  9  13 126]]\n",
      "The performance metric for the model with k="
     ]
    },
    {
     "name": "stderr",
     "output_type": "stream",
     "text": [
      "C:\\Users\\Admin\\anaconda3\\lib\\site-packages\\ipykernel_launcher.py:10: DataConversionWarning: A column-vector y was passed when a 1d array was expected. Please change the shape of y to (n_samples, ), for example using ravel().\n",
      "  # Remove the CWD from sys.path while we load stuff.\n",
      "C:\\Users\\Admin\\anaconda3\\lib\\site-packages\\ipykernel_launcher.py:10: DataConversionWarning: A column-vector y was passed when a 1d array was expected. Please change the shape of y to (n_samples, ), for example using ravel().\n",
      "  # Remove the CWD from sys.path while we load stuff.\n"
     ]
    },
    {
     "name": "stdout",
     "output_type": "stream",
     "text": [
      " 38 is:\n",
      "The accuracy score is: 0.7902621722846442\n",
      "The confusion matrix is:\n",
      "[[ 62   5   3]\n",
      " [  7  23  19]\n",
      " [  9  13 126]]\n",
      "The performance metric for the model with k= 39 is:\n",
      "The accuracy score is: 0.7752808988764045\n",
      "The confusion matrix is:\n",
      "[[ 61   5   4]\n",
      " [  7  19  23]\n",
      " [  9  12 127]]\n"
     ]
    },
    {
     "name": "stderr",
     "output_type": "stream",
     "text": [
      "C:\\Users\\Admin\\anaconda3\\lib\\site-packages\\ipykernel_launcher.py:10: DataConversionWarning: A column-vector y was passed when a 1d array was expected. Please change the shape of y to (n_samples, ), for example using ravel().\n",
      "  # Remove the CWD from sys.path while we load stuff.\n",
      "C:\\Users\\Admin\\anaconda3\\lib\\site-packages\\ipykernel_launcher.py:10: DataConversionWarning: A column-vector y was passed when a 1d array was expected. Please change the shape of y to (n_samples, ), for example using ravel().\n",
      "  # Remove the CWD from sys.path while we load stuff.\n"
     ]
    },
    {
     "name": "stdout",
     "output_type": "stream",
     "text": [
      "The performance metric for the model with k= 40 is:\n",
      "The accuracy score is: 0.7902621722846442\n",
      "The confusion matrix is:\n",
      "[[ 62   5   3]\n",
      " [  7  20  22]\n",
      " [  7  12 129]]\n",
      "The performance metric for the model with k= 41 is:\n",
      "The accuracy score is: 0.7827715355805244\n",
      "The confusion matrix is:\n",
      "[[ 61   5   4]\n",
      " [  7  19  23]\n",
      " [  7  12 129]]\n",
      "The performance metric for the model with k= 42 is:\n",
      "The accuracy score is: 0.7865168539325843\n",
      "The confusion matrix is:\n",
      "[[ 61   5   4]\n",
      " [  7  20  22]\n",
      " [  7  12 129]]\n"
     ]
    },
    {
     "name": "stderr",
     "output_type": "stream",
     "text": [
      "C:\\Users\\Admin\\anaconda3\\lib\\site-packages\\ipykernel_launcher.py:10: DataConversionWarning: A column-vector y was passed when a 1d array was expected. Please change the shape of y to (n_samples, ), for example using ravel().\n",
      "  # Remove the CWD from sys.path while we load stuff.\n",
      "C:\\Users\\Admin\\anaconda3\\lib\\site-packages\\ipykernel_launcher.py:10: DataConversionWarning: A column-vector y was passed when a 1d array was expected. Please change the shape of y to (n_samples, ), for example using ravel().\n",
      "  # Remove the CWD from sys.path while we load stuff.\n",
      "C:\\Users\\Admin\\anaconda3\\lib\\site-packages\\ipykernel_launcher.py:10: DataConversionWarning: A column-vector y was passed when a 1d array was expected. Please change the shape of y to (n_samples, ), for example using ravel().\n",
      "  # Remove the CWD from sys.path while we load stuff.\n"
     ]
    },
    {
     "name": "stdout",
     "output_type": "stream",
     "text": [
      "The performance metric for the model with k= 43 is:\n",
      "The accuracy score is: 0.7827715355805244\n",
      "The confusion matrix is:\n",
      "[[ 61   6   3]\n",
      " [  7  19  23]\n",
      " [  7  12 129]]\n",
      "The performance metric for the model with k= 44 is:\n",
      "The accuracy score is: 0.7865168539325843\n",
      "The confusion matrix is:\n",
      "[[ 61   7   2]\n",
      " [  7  20  22]\n",
      " [  7  12 129]]\n"
     ]
    },
    {
     "name": "stderr",
     "output_type": "stream",
     "text": [
      "C:\\Users\\Admin\\anaconda3\\lib\\site-packages\\ipykernel_launcher.py:10: DataConversionWarning: A column-vector y was passed when a 1d array was expected. Please change the shape of y to (n_samples, ), for example using ravel().\n",
      "  # Remove the CWD from sys.path while we load stuff.\n",
      "C:\\Users\\Admin\\anaconda3\\lib\\site-packages\\ipykernel_launcher.py:10: DataConversionWarning: A column-vector y was passed when a 1d array was expected. Please change the shape of y to (n_samples, ), for example using ravel().\n",
      "  # Remove the CWD from sys.path while we load stuff.\n"
     ]
    },
    {
     "name": "stdout",
     "output_type": "stream",
     "text": [
      "The performance metric for the model with k= 45 is:\n",
      "The accuracy score is: 0.7827715355805244\n",
      "The confusion matrix is:\n",
      "[[ 61   7   2]\n",
      " [  7  19  23]\n",
      " [  7  12 129]]\n",
      "The performance metric for the model with k= 46 is:\n",
      "The accuracy score is: 0.7865168539325843\n",
      "The confusion matrix is:\n",
      "[[ 61   7   2]\n",
      " [  7  20  22]\n",
      " [  7  12 129]]\n",
      "The performance metric for the model with k= 47 is:\n",
      "The accuracy score is: 0.7752808988764045\n",
      "The confusion matrix is:\n",
      "[[ 61   6   3]\n",
      " [  7  17  25]\n",
      " [  7  12 129]]\n"
     ]
    },
    {
     "name": "stderr",
     "output_type": "stream",
     "text": [
      "C:\\Users\\Admin\\anaconda3\\lib\\site-packages\\ipykernel_launcher.py:10: DataConversionWarning: A column-vector y was passed when a 1d array was expected. Please change the shape of y to (n_samples, ), for example using ravel().\n",
      "  # Remove the CWD from sys.path while we load stuff.\n",
      "C:\\Users\\Admin\\anaconda3\\lib\\site-packages\\ipykernel_launcher.py:10: DataConversionWarning: A column-vector y was passed when a 1d array was expected. Please change the shape of y to (n_samples, ), for example using ravel().\n",
      "  # Remove the CWD from sys.path while we load stuff.\n"
     ]
    },
    {
     "name": "stdout",
     "output_type": "stream",
     "text": [
      "The performance metric for the model with k= 48 is:\n",
      "The accuracy score is: 0.7752808988764045\n",
      "The confusion matrix is:\n",
      "[[ 61   6   3]\n",
      " [  7  17  25]\n",
      " [  7  12 129]]\n",
      "The performance metric for the model with k= 49 is:\n",
      "The accuracy score is: 0.7752808988764045\n",
      "The confusion matrix is:\n",
      "[[ 62   6   2]\n",
      " [  7  16  26]\n",
      " [  7  12 129]]\n"
     ]
    },
    {
     "name": "stderr",
     "output_type": "stream",
     "text": [
      "C:\\Users\\Admin\\anaconda3\\lib\\site-packages\\ipykernel_launcher.py:10: DataConversionWarning: A column-vector y was passed when a 1d array was expected. Please change the shape of y to (n_samples, ), for example using ravel().\n",
      "  # Remove the CWD from sys.path while we load stuff.\n",
      "C:\\Users\\Admin\\anaconda3\\lib\\site-packages\\ipykernel_launcher.py:10: DataConversionWarning: A column-vector y was passed when a 1d array was expected. Please change the shape of y to (n_samples, ), for example using ravel().\n",
      "  # Remove the CWD from sys.path while we load stuff.\n"
     ]
    },
    {
     "name": "stdout",
     "output_type": "stream",
     "text": [
      "The performance metric for the model with k= 50 is:\n",
      "The accuracy score is: 0.7715355805243446\n",
      "The confusion matrix is:\n",
      "[[ 61   7   2]\n",
      " [  7  16  26]\n",
      " [  7  12 129]]\n",
      "The performance metric for the model with k= 51 is:\n",
      "The accuracy score is: 0.7715355805243446\n",
      "The confusion matrix is:\n",
      "[[ 61   6   3]\n",
      " [  7  14  28]\n",
      " [  5  12 131]]\n"
     ]
    },
    {
     "name": "stderr",
     "output_type": "stream",
     "text": [
      "C:\\Users\\Admin\\anaconda3\\lib\\site-packages\\ipykernel_launcher.py:10: DataConversionWarning: A column-vector y was passed when a 1d array was expected. Please change the shape of y to (n_samples, ), for example using ravel().\n",
      "  # Remove the CWD from sys.path while we load stuff.\n",
      "C:\\Users\\Admin\\anaconda3\\lib\\site-packages\\ipykernel_launcher.py:10: DataConversionWarning: A column-vector y was passed when a 1d array was expected. Please change the shape of y to (n_samples, ), for example using ravel().\n",
      "  # Remove the CWD from sys.path while we load stuff.\n"
     ]
    },
    {
     "name": "stdout",
     "output_type": "stream",
     "text": [
      "The performance metric for the model with k= 52 is:\n",
      "The accuracy score is: 0.7715355805243446\n",
      "The confusion matrix is:\n",
      "[[ 61   7   2]\n",
      " [  7  15  27]\n",
      " [  7  11 130]]\n",
      "The performance metric for the model with k= 53 is:\n",
      "The accuracy score is: 0.7677902621722846\n",
      "The confusion matrix is:\n",
      "[[ 61   6   3]\n",
      " [  7  12  30]\n",
      " [  5  11 132]]\n"
     ]
    },
    {
     "name": "stderr",
     "output_type": "stream",
     "text": [
      "C:\\Users\\Admin\\anaconda3\\lib\\site-packages\\ipykernel_launcher.py:10: DataConversionWarning: A column-vector y was passed when a 1d array was expected. Please change the shape of y to (n_samples, ), for example using ravel().\n",
      "  # Remove the CWD from sys.path while we load stuff.\n",
      "C:\\Users\\Admin\\anaconda3\\lib\\site-packages\\ipykernel_launcher.py:10: DataConversionWarning: A column-vector y was passed when a 1d array was expected. Please change the shape of y to (n_samples, ), for example using ravel().\n",
      "  # Remove the CWD from sys.path while we load stuff.\n"
     ]
    },
    {
     "name": "stdout",
     "output_type": "stream",
     "text": [
      "The performance metric for the model with k= 54 is:\n",
      "The accuracy score is: 0.7677902621722846\n",
      "The confusion matrix is:\n",
      "[[ 61   6   3]\n",
      " [  7  12  30]\n",
      " [  5  11 132]]\n",
      "The performance metric for the model with k= 55 is:\n",
      "The accuracy score is: 0.7715355805243446\n",
      "The confusion matrix is:\n",
      "[[ 61   6   3]\n",
      " [  7  12  30]\n",
      " [  5  10 133]]\n"
     ]
    },
    {
     "name": "stderr",
     "output_type": "stream",
     "text": [
      "C:\\Users\\Admin\\anaconda3\\lib\\site-packages\\ipykernel_launcher.py:10: DataConversionWarning: A column-vector y was passed when a 1d array was expected. Please change the shape of y to (n_samples, ), for example using ravel().\n",
      "  # Remove the CWD from sys.path while we load stuff.\n",
      "C:\\Users\\Admin\\anaconda3\\lib\\site-packages\\ipykernel_launcher.py:10: DataConversionWarning: A column-vector y was passed when a 1d array was expected. Please change the shape of y to (n_samples, ), for example using ravel().\n",
      "  # Remove the CWD from sys.path while we load stuff.\n"
     ]
    },
    {
     "name": "stdout",
     "output_type": "stream",
     "text": [
      "The performance metric for the model with k= 56 is:\n",
      "The accuracy score is: 0.7752808988764045\n",
      "The confusion matrix is:\n",
      "[[ 62   5   3]\n",
      " [  7  12  30]\n",
      " [  5  10 133]]\n",
      "The performance metric for the model with k="
     ]
    },
    {
     "name": "stderr",
     "output_type": "stream",
     "text": [
      "C:\\Users\\Admin\\anaconda3\\lib\\site-packages\\ipykernel_launcher.py:10: DataConversionWarning: A column-vector y was passed when a 1d array was expected. Please change the shape of y to (n_samples, ), for example using ravel().\n",
      "  # Remove the CWD from sys.path while we load stuff.\n"
     ]
    },
    {
     "name": "stdout",
     "output_type": "stream",
     "text": [
      " 57 is:\n",
      "The accuracy score is: 0.7752808988764045\n",
      "The confusion matrix is:\n",
      "[[ 62   5   3]\n",
      " [  7  12  30]\n",
      " [  5  10 133]]\n"
     ]
    },
    {
     "name": "stderr",
     "output_type": "stream",
     "text": [
      "C:\\Users\\Admin\\anaconda3\\lib\\site-packages\\ipykernel_launcher.py:10: DataConversionWarning: A column-vector y was passed when a 1d array was expected. Please change the shape of y to (n_samples, ), for example using ravel().\n",
      "  # Remove the CWD from sys.path while we load stuff.\n"
     ]
    },
    {
     "name": "stdout",
     "output_type": "stream",
     "text": [
      "The performance metric for the model with k= 58 is:\n",
      "The accuracy score is: 0.7677902621722846\n",
      "The confusion matrix is:\n",
      "[[ 60   5   5]\n",
      " [  6  12  31]\n",
      " [  5  10 133]]\n"
     ]
    },
    {
     "name": "stderr",
     "output_type": "stream",
     "text": [
      "C:\\Users\\Admin\\anaconda3\\lib\\site-packages\\ipykernel_launcher.py:10: DataConversionWarning: A column-vector y was passed when a 1d array was expected. Please change the shape of y to (n_samples, ), for example using ravel().\n",
      "  # Remove the CWD from sys.path while we load stuff.\n",
      "C:\\Users\\Admin\\anaconda3\\lib\\site-packages\\ipykernel_launcher.py:10: DataConversionWarning: A column-vector y was passed when a 1d array was expected. Please change the shape of y to (n_samples, ), for example using ravel().\n",
      "  # Remove the CWD from sys.path while we load stuff.\n"
     ]
    },
    {
     "name": "stdout",
     "output_type": "stream",
     "text": [
      "The performance metric for the model with k= 59 is:\n",
      "The accuracy score is: 0.7602996254681648\n",
      "The confusion matrix is:\n",
      "[[ 60   5   5]\n",
      " [  6  11  32]\n",
      " [  5  11 132]]\n",
      "The performance metric for the model with k= 60 is:\n",
      "The accuracy score is: 0.7640449438202247\n",
      "The confusion matrix is:\n",
      "[[ 60   5   5]\n",
      " [  6  12  31]\n",
      " [  5  11 132]]\n",
      "The performance metric for the model with k= 61 is:\n",
      "The accuracy score is: 0.7602996254681648\n",
      "The confusion matrix is:\n",
      "[[ 60   5   5]\n",
      " [  6  11  32]\n",
      " [  5  11 132]]\n"
     ]
    },
    {
     "name": "stderr",
     "output_type": "stream",
     "text": [
      "C:\\Users\\Admin\\anaconda3\\lib\\site-packages\\ipykernel_launcher.py:10: DataConversionWarning: A column-vector y was passed when a 1d array was expected. Please change the shape of y to (n_samples, ), for example using ravel().\n",
      "  # Remove the CWD from sys.path while we load stuff.\n",
      "C:\\Users\\Admin\\anaconda3\\lib\\site-packages\\ipykernel_launcher.py:10: DataConversionWarning: A column-vector y was passed when a 1d array was expected. Please change the shape of y to (n_samples, ), for example using ravel().\n",
      "  # Remove the CWD from sys.path while we load stuff.\n"
     ]
    },
    {
     "name": "stdout",
     "output_type": "stream",
     "text": [
      "The performance metric for the model with k= 62 is:\n",
      "The accuracy score is: 0.7602996254681648\n",
      "The confusion matrix is:\n",
      "[[ 60   5   5]\n",
      " [  6  11  32]\n",
      " [  5  11 132]]\n"
     ]
    },
    {
     "name": "stderr",
     "output_type": "stream",
     "text": [
      "C:\\Users\\Admin\\anaconda3\\lib\\site-packages\\ipykernel_launcher.py:10: DataConversionWarning: A column-vector y was passed when a 1d array was expected. Please change the shape of y to (n_samples, ), for example using ravel().\n",
      "  # Remove the CWD from sys.path while we load stuff.\n"
     ]
    },
    {
     "name": "stdout",
     "output_type": "stream",
     "text": [
      "The performance metric for the model with k= 63 is:\n",
      "The accuracy score is: 0.7565543071161048\n",
      "The confusion matrix is:\n",
      "[[ 58   5   7]\n",
      " [  6  11  32]\n",
      " [  5  10 133]]\n",
      "The performance metric for the model with k= 64 is:\n",
      "The accuracy score is: 0.7565543071161048\n",
      "The confusion matrix is:\n",
      "[[ 58   6   6]\n",
      " [  5  11  33]\n",
      " [  5  10 133]]\n"
     ]
    },
    {
     "name": "stderr",
     "output_type": "stream",
     "text": [
      "C:\\Users\\Admin\\anaconda3\\lib\\site-packages\\ipykernel_launcher.py:10: DataConversionWarning: A column-vector y was passed when a 1d array was expected. Please change the shape of y to (n_samples, ), for example using ravel().\n",
      "  # Remove the CWD from sys.path while we load stuff.\n",
      "C:\\Users\\Admin\\anaconda3\\lib\\site-packages\\ipykernel_launcher.py:10: DataConversionWarning: A column-vector y was passed when a 1d array was expected. Please change the shape of y to (n_samples, ), for example using ravel().\n",
      "  # Remove the CWD from sys.path while we load stuff.\n"
     ]
    },
    {
     "name": "stdout",
     "output_type": "stream",
     "text": [
      "The performance metric for the model with k= 65 is:\n",
      "The accuracy score is: 0.7602996254681648\n",
      "The confusion matrix is:\n",
      "[[ 58   6   6]\n",
      " [  5  11  33]\n",
      " [  5   9 134]]\n",
      "The performance metric for the model with k= 66 is:\n",
      "The accuracy score is: 0.7565543071161048\n",
      "The confusion matrix is:\n",
      "[[ 57   6   7]\n",
      " [  5  11  33]\n",
      " [  5   9 134]]\n"
     ]
    },
    {
     "name": "stderr",
     "output_type": "stream",
     "text": [
      "C:\\Users\\Admin\\anaconda3\\lib\\site-packages\\ipykernel_launcher.py:10: DataConversionWarning: A column-vector y was passed when a 1d array was expected. Please change the shape of y to (n_samples, ), for example using ravel().\n",
      "  # Remove the CWD from sys.path while we load stuff.\n",
      "C:\\Users\\Admin\\anaconda3\\lib\\site-packages\\ipykernel_launcher.py:10: DataConversionWarning: A column-vector y was passed when a 1d array was expected. Please change the shape of y to (n_samples, ), for example using ravel().\n",
      "  # Remove the CWD from sys.path while we load stuff.\n"
     ]
    },
    {
     "name": "stdout",
     "output_type": "stream",
     "text": [
      "The performance metric for the model with k= 67 is:\n",
      "The accuracy score is: 0.7602996254681648\n",
      "The confusion matrix is:\n",
      "[[ 57   6   7]\n",
      " [  5  11  33]\n",
      " [  5   8 135]]\n",
      "The performance metric for the model with k= 68 is:\n",
      "The accuracy score is: 0.7602996254681648\n",
      "The confusion matrix is:\n",
      "[[ 57   6   7]\n",
      " [  5  11  33]\n",
      " [  5   8 135]]\n",
      "The performance metric for the model with k="
     ]
    },
    {
     "name": "stderr",
     "output_type": "stream",
     "text": [
      "C:\\Users\\Admin\\anaconda3\\lib\\site-packages\\ipykernel_launcher.py:10: DataConversionWarning: A column-vector y was passed when a 1d array was expected. Please change the shape of y to (n_samples, ), for example using ravel().\n",
      "  # Remove the CWD from sys.path while we load stuff.\n",
      "C:\\Users\\Admin\\anaconda3\\lib\\site-packages\\ipykernel_launcher.py:10: DataConversionWarning: A column-vector y was passed when a 1d array was expected. Please change the shape of y to (n_samples, ), for example using ravel().\n",
      "  # Remove the CWD from sys.path while we load stuff.\n",
      "C:\\Users\\Admin\\anaconda3\\lib\\site-packages\\ipykernel_launcher.py:10: DataConversionWarning: A column-vector y was passed when a 1d array was expected. Please change the shape of y to (n_samples, ), for example using ravel().\n",
      "  # Remove the CWD from sys.path while we load stuff.\n"
     ]
    },
    {
     "name": "stdout",
     "output_type": "stream",
     "text": [
      " 69 is:\n",
      "The accuracy score is: 0.7640449438202247\n",
      "The confusion matrix is:\n",
      "[[ 56   7   7]\n",
      " [  5  11  33]\n",
      " [  5   6 137]]\n",
      "The performance metric for the model with k= 70 is:\n",
      "The accuracy score is: 0.7640449438202247\n",
      "The confusion matrix is:\n",
      "[[ 57   6   7]\n",
      " [  5  11  33]\n",
      " [  5   7 136]]\n",
      "The performance metric for the model with k="
     ]
    },
    {
     "name": "stderr",
     "output_type": "stream",
     "text": [
      "C:\\Users\\Admin\\anaconda3\\lib\\site-packages\\ipykernel_launcher.py:10: DataConversionWarning: A column-vector y was passed when a 1d array was expected. Please change the shape of y to (n_samples, ), for example using ravel().\n",
      "  # Remove the CWD from sys.path while we load stuff.\n",
      "C:\\Users\\Admin\\anaconda3\\lib\\site-packages\\ipykernel_launcher.py:10: DataConversionWarning: A column-vector y was passed when a 1d array was expected. Please change the shape of y to (n_samples, ), for example using ravel().\n",
      "  # Remove the CWD from sys.path while we load stuff.\n",
      "C:\\Users\\Admin\\anaconda3\\lib\\site-packages\\ipykernel_launcher.py:10: DataConversionWarning: A column-vector y was passed when a 1d array was expected. Please change the shape of y to (n_samples, ), for example using ravel().\n",
      "  # Remove the CWD from sys.path while we load stuff.\n"
     ]
    },
    {
     "name": "stdout",
     "output_type": "stream",
     "text": [
      " 71 is:\n",
      "The accuracy score is: 0.7640449438202247\n",
      "The confusion matrix is:\n",
      "[[ 57   6   7]\n",
      " [  5  11  33]\n",
      " [  5   7 136]]\n",
      "The performance metric for the model with k= 72 is:\n",
      "The accuracy score is: 0.7565543071161048\n",
      "The confusion matrix is:\n",
      "[[ 56   7   7]\n",
      " [  5  11  33]\n",
      " [  5   8 135]]\n",
      "The performance metric for the model with k= 73 is:\n",
      "The accuracy score is: 0.7640449438202247\n",
      "The confusion matrix is:\n",
      "[[ 56   7   7]\n",
      " [  5  11  33]\n",
      " [  5   6 137]]\n"
     ]
    },
    {
     "name": "stderr",
     "output_type": "stream",
     "text": [
      "C:\\Users\\Admin\\anaconda3\\lib\\site-packages\\ipykernel_launcher.py:10: DataConversionWarning: A column-vector y was passed when a 1d array was expected. Please change the shape of y to (n_samples, ), for example using ravel().\n",
      "  # Remove the CWD from sys.path while we load stuff.\n"
     ]
    },
    {
     "name": "stdout",
     "output_type": "stream",
     "text": [
      "The performance metric for the model with k= 74 is:\n",
      "The accuracy score is: 0.7677902621722846\n",
      "The confusion matrix is:\n",
      "[[ 57   6   7]\n",
      " [  5  11  33]\n",
      " [  5   6 137]]\n",
      "The performance metric for the model with k= 75 is:\n",
      "The accuracy score is: 0.7640449438202247\n",
      "The confusion matrix is:\n",
      "[[ 56   7   7]\n",
      " [  5  11  33]\n",
      " [  5   6 137]]\n"
     ]
    },
    {
     "name": "stderr",
     "output_type": "stream",
     "text": [
      "C:\\Users\\Admin\\anaconda3\\lib\\site-packages\\ipykernel_launcher.py:10: DataConversionWarning: A column-vector y was passed when a 1d array was expected. Please change the shape of y to (n_samples, ), for example using ravel().\n",
      "  # Remove the CWD from sys.path while we load stuff.\n",
      "C:\\Users\\Admin\\anaconda3\\lib\\site-packages\\ipykernel_launcher.py:10: DataConversionWarning: A column-vector y was passed when a 1d array was expected. Please change the shape of y to (n_samples, ), for example using ravel().\n",
      "  # Remove the CWD from sys.path while we load stuff.\n"
     ]
    },
    {
     "name": "stdout",
     "output_type": "stream",
     "text": [
      "The performance metric for the model with k= 76 is:\n",
      "The accuracy score is: 0.7677902621722846\n",
      "The confusion matrix is:\n",
      "[[ 56   7   7]\n",
      " [  5  11  33]\n",
      " [  5   5 138]]\n",
      "The performance metric for the model with k= 77 is:\n",
      "The accuracy score is: 0.7715355805243446\n",
      "The confusion matrix is:\n",
      "[[ 57   6   7]\n",
      " [  5  11  33]\n",
      " [  5   5 138]]\n"
     ]
    },
    {
     "name": "stderr",
     "output_type": "stream",
     "text": [
      "C:\\Users\\Admin\\anaconda3\\lib\\site-packages\\ipykernel_launcher.py:10: DataConversionWarning: A column-vector y was passed when a 1d array was expected. Please change the shape of y to (n_samples, ), for example using ravel().\n",
      "  # Remove the CWD from sys.path while we load stuff.\n",
      "C:\\Users\\Admin\\anaconda3\\lib\\site-packages\\ipykernel_launcher.py:10: DataConversionWarning: A column-vector y was passed when a 1d array was expected. Please change the shape of y to (n_samples, ), for example using ravel().\n",
      "  # Remove the CWD from sys.path while we load stuff.\n"
     ]
    },
    {
     "name": "stdout",
     "output_type": "stream",
     "text": [
      "The performance metric for the model with k= 78 is:\n",
      "The accuracy score is: 0.7640449438202247\n",
      "The confusion matrix is:\n",
      "[[ 56   5   9]\n",
      " [  5  11  33]\n",
      " [  5   6 137]]\n"
     ]
    },
    {
     "name": "stderr",
     "output_type": "stream",
     "text": [
      "C:\\Users\\Admin\\anaconda3\\lib\\site-packages\\ipykernel_launcher.py:10: DataConversionWarning: A column-vector y was passed when a 1d array was expected. Please change the shape of y to (n_samples, ), for example using ravel().\n",
      "  # Remove the CWD from sys.path while we load stuff.\n"
     ]
    },
    {
     "name": "stdout",
     "output_type": "stream",
     "text": [
      "The performance metric for the model with k= 79 is:\n",
      "The accuracy score is: 0.7565543071161048\n",
      "The confusion matrix is:\n",
      "[[ 56   5   9]\n",
      " [  5  11  33]\n",
      " [  5   8 135]]\n",
      "The performance metric for the model with k= 80 is:\n",
      "The accuracy score is: 0.7565543071161048\n",
      "The confusion matrix is:\n",
      "[[ 55   6   9]\n",
      " [  5  11  33]\n",
      " [  5   7 136]]\n"
     ]
    },
    {
     "name": "stderr",
     "output_type": "stream",
     "text": [
      "C:\\Users\\Admin\\anaconda3\\lib\\site-packages\\ipykernel_launcher.py:10: DataConversionWarning: A column-vector y was passed when a 1d array was expected. Please change the shape of y to (n_samples, ), for example using ravel().\n",
      "  # Remove the CWD from sys.path while we load stuff.\n",
      "C:\\Users\\Admin\\anaconda3\\lib\\site-packages\\ipykernel_launcher.py:10: DataConversionWarning: A column-vector y was passed when a 1d array was expected. Please change the shape of y to (n_samples, ), for example using ravel().\n",
      "  # Remove the CWD from sys.path while we load stuff.\n"
     ]
    },
    {
     "name": "stdout",
     "output_type": "stream",
     "text": [
      "The performance metric for the model with k= 81 is:\n",
      "The accuracy score is: 0.7602996254681648\n",
      "The confusion matrix is:\n",
      "[[ 56   5   9]\n",
      " [  5  11  33]\n",
      " [  5   7 136]]\n"
     ]
    },
    {
     "name": "stderr",
     "output_type": "stream",
     "text": [
      "C:\\Users\\Admin\\anaconda3\\lib\\site-packages\\ipykernel_launcher.py:10: DataConversionWarning: A column-vector y was passed when a 1d array was expected. Please change the shape of y to (n_samples, ), for example using ravel().\n",
      "  # Remove the CWD from sys.path while we load stuff.\n"
     ]
    },
    {
     "name": "stdout",
     "output_type": "stream",
     "text": [
      "The performance metric for the model with k= 82 is:\n",
      "The accuracy score is: 0.7602996254681648\n",
      "The confusion matrix is:\n",
      "[[ 57   4   9]\n",
      " [  5  10  34]\n",
      " [  5   7 136]]\n"
     ]
    },
    {
     "name": "stderr",
     "output_type": "stream",
     "text": [
      "C:\\Users\\Admin\\anaconda3\\lib\\site-packages\\ipykernel_launcher.py:10: DataConversionWarning: A column-vector y was passed when a 1d array was expected. Please change the shape of y to (n_samples, ), for example using ravel().\n",
      "  # Remove the CWD from sys.path while we load stuff.\n"
     ]
    },
    {
     "name": "stdout",
     "output_type": "stream",
     "text": [
      "The performance metric for the model with k= 83 is:\n",
      "The accuracy score is: 0.7528089887640449\n",
      "The confusion matrix is:\n",
      "[[ 55   5  10]\n",
      " [  5  10  34]\n",
      " [  5   7 136]]\n"
     ]
    },
    {
     "name": "stderr",
     "output_type": "stream",
     "text": [
      "C:\\Users\\Admin\\anaconda3\\lib\\site-packages\\ipykernel_launcher.py:10: DataConversionWarning: A column-vector y was passed when a 1d array was expected. Please change the shape of y to (n_samples, ), for example using ravel().\n",
      "  # Remove the CWD from sys.path while we load stuff.\n",
      "C:\\Users\\Admin\\anaconda3\\lib\\site-packages\\ipykernel_launcher.py:10: DataConversionWarning: A column-vector y was passed when a 1d array was expected. Please change the shape of y to (n_samples, ), for example using ravel().\n",
      "  # Remove the CWD from sys.path while we load stuff.\n"
     ]
    },
    {
     "name": "stdout",
     "output_type": "stream",
     "text": [
      "The performance metric for the model with k= 84 is:\n",
      "The accuracy score is: 0.7528089887640449\n",
      "The confusion matrix is:\n",
      "[[ 55   5  10]\n",
      " [  5  10  34]\n",
      " [  5   7 136]]\n",
      "The performance metric for the model with k= 85 is:\n",
      "The accuracy score is: 0.7490636704119851\n",
      "The confusion matrix is:\n",
      "[[ 55   6   9]\n",
      " [  5  10  34]\n",
      " [  5   8 135]]\n"
     ]
    },
    {
     "name": "stderr",
     "output_type": "stream",
     "text": [
      "C:\\Users\\Admin\\anaconda3\\lib\\site-packages\\ipykernel_launcher.py:10: DataConversionWarning: A column-vector y was passed when a 1d array was expected. Please change the shape of y to (n_samples, ), for example using ravel().\n",
      "  # Remove the CWD from sys.path while we load stuff.\n"
     ]
    },
    {
     "name": "stdout",
     "output_type": "stream",
     "text": [
      "The performance metric for the model with k= 86 is:\n",
      "The accuracy score is: 0.7490636704119851\n",
      "The confusion matrix is:\n",
      "[[ 55   6   9]\n",
      " [  5  10  34]\n",
      " [  5   8 135]]\n"
     ]
    },
    {
     "name": "stderr",
     "output_type": "stream",
     "text": [
      "C:\\Users\\Admin\\anaconda3\\lib\\site-packages\\ipykernel_launcher.py:10: DataConversionWarning: A column-vector y was passed when a 1d array was expected. Please change the shape of y to (n_samples, ), for example using ravel().\n",
      "  # Remove the CWD from sys.path while we load stuff.\n"
     ]
    },
    {
     "name": "stdout",
     "output_type": "stream",
     "text": [
      "The performance metric for the model with k= 87 is:\n",
      "The accuracy score is: 0.7490636704119851\n",
      "The confusion matrix is:\n",
      "[[ 55   6   9]\n",
      " [  5  10  34]\n",
      " [  5   8 135]]\n"
     ]
    },
    {
     "name": "stderr",
     "output_type": "stream",
     "text": [
      "C:\\Users\\Admin\\anaconda3\\lib\\site-packages\\ipykernel_launcher.py:10: DataConversionWarning: A column-vector y was passed when a 1d array was expected. Please change the shape of y to (n_samples, ), for example using ravel().\n",
      "  # Remove the CWD from sys.path while we load stuff.\n"
     ]
    },
    {
     "name": "stdout",
     "output_type": "stream",
     "text": [
      "The performance metric for the model with k= 88 is:\n",
      "The accuracy score is: 0.7453183520599251\n",
      "The confusion matrix is:\n",
      "[[ 54   6  10]\n",
      " [  5  10  34]\n",
      " [  5   8 135]]\n"
     ]
    },
    {
     "name": "stderr",
     "output_type": "stream",
     "text": [
      "C:\\Users\\Admin\\anaconda3\\lib\\site-packages\\ipykernel_launcher.py:10: DataConversionWarning: A column-vector y was passed when a 1d array was expected. Please change the shape of y to (n_samples, ), for example using ravel().\n",
      "  # Remove the CWD from sys.path while we load stuff.\n"
     ]
    },
    {
     "name": "stdout",
     "output_type": "stream",
     "text": [
      "The performance metric for the model with k= 89 is:\n",
      "The accuracy score is: 0.7490636704119851\n",
      "The confusion matrix is:\n",
      "[[ 54   6  10]\n",
      " [  5  10  34]\n",
      " [  5   7 136]]\n"
     ]
    },
    {
     "name": "stderr",
     "output_type": "stream",
     "text": [
      "C:\\Users\\Admin\\anaconda3\\lib\\site-packages\\ipykernel_launcher.py:10: DataConversionWarning: A column-vector y was passed when a 1d array was expected. Please change the shape of y to (n_samples, ), for example using ravel().\n",
      "  # Remove the CWD from sys.path while we load stuff.\n"
     ]
    },
    {
     "name": "stdout",
     "output_type": "stream",
     "text": [
      "The performance metric for the model with k= 90 is:\n",
      "The accuracy score is: 0.7565543071161048\n",
      "The confusion matrix is:\n",
      "[[ 54   5  11]\n",
      " [  5  10  34]\n",
      " [  5   5 138]]\n",
      "The performance metric for the model with k= 91 is:\n",
      "The accuracy score is: 0.7565543071161048\n",
      "The confusion matrix is:\n",
      "[[ 54   6  10]\n",
      " [  5  10  34]\n",
      " [  5   5 138]]\n"
     ]
    },
    {
     "name": "stderr",
     "output_type": "stream",
     "text": [
      "C:\\Users\\Admin\\anaconda3\\lib\\site-packages\\ipykernel_launcher.py:10: DataConversionWarning: A column-vector y was passed when a 1d array was expected. Please change the shape of y to (n_samples, ), for example using ravel().\n",
      "  # Remove the CWD from sys.path while we load stuff.\n",
      "C:\\Users\\Admin\\anaconda3\\lib\\site-packages\\ipykernel_launcher.py:10: DataConversionWarning: A column-vector y was passed when a 1d array was expected. Please change the shape of y to (n_samples, ), for example using ravel().\n",
      "  # Remove the CWD from sys.path while we load stuff.\n"
     ]
    },
    {
     "name": "stdout",
     "output_type": "stream",
     "text": [
      "The performance metric for the model with k= 92 is:\n",
      "The accuracy score is: 0.7565543071161048\n",
      "The confusion matrix is:\n",
      "[[ 54   6  10]\n",
      " [  5  10  34]\n",
      " [  5   5 138]]\n",
      "The performance metric for the model with k= 93 is:\n",
      "The accuracy score is: 0.7528089887640449\n",
      "The confusion matrix is:\n",
      "[[ 54   6  10]\n",
      " [  5  10  34]\n",
      " [  5   6 137]]\n",
      "The performance metric for the model with k= 94 is:\n",
      "The accuracy score is: 0.7528089887640449\n",
      "The confusion matrix is:"
     ]
    },
    {
     "name": "stderr",
     "output_type": "stream",
     "text": [
      "C:\\Users\\Admin\\anaconda3\\lib\\site-packages\\ipykernel_launcher.py:10: DataConversionWarning: A column-vector y was passed when a 1d array was expected. Please change the shape of y to (n_samples, ), for example using ravel().\n",
      "  # Remove the CWD from sys.path while we load stuff.\n",
      "C:\\Users\\Admin\\anaconda3\\lib\\site-packages\\ipykernel_launcher.py:10: DataConversionWarning: A column-vector y was passed when a 1d array was expected. Please change the shape of y to (n_samples, ), for example using ravel().\n",
      "  # Remove the CWD from sys.path while we load stuff.\n"
     ]
    },
    {
     "name": "stdout",
     "output_type": "stream",
     "text": [
      "\n",
      "[[ 54   5  11]\n",
      " [  5  10  34]\n",
      " [  5   6 137]]\n",
      "The performance metric for the model with k= 95 is:\n",
      "The accuracy score is: 0.7528089887640449\n",
      "The confusion matrix is:\n",
      "[[ 54   6  10]\n",
      " [  5  10  34]\n",
      " [  5   6 137]]\n"
     ]
    },
    {
     "name": "stderr",
     "output_type": "stream",
     "text": [
      "C:\\Users\\Admin\\anaconda3\\lib\\site-packages\\ipykernel_launcher.py:10: DataConversionWarning: A column-vector y was passed when a 1d array was expected. Please change the shape of y to (n_samples, ), for example using ravel().\n",
      "  # Remove the CWD from sys.path while we load stuff.\n",
      "C:\\Users\\Admin\\anaconda3\\lib\\site-packages\\ipykernel_launcher.py:10: DataConversionWarning: A column-vector y was passed when a 1d array was expected. Please change the shape of y to (n_samples, ), for example using ravel().\n",
      "  # Remove the CWD from sys.path while we load stuff.\n",
      "C:\\Users\\Admin\\anaconda3\\lib\\site-packages\\ipykernel_launcher.py:10: DataConversionWarning: A column-vector y was passed when a 1d array was expected. Please change the shape of y to (n_samples, ), for example using ravel().\n",
      "  # Remove the CWD from sys.path while we load stuff.\n"
     ]
    },
    {
     "name": "stdout",
     "output_type": "stream",
     "text": [
      "The performance metric for the model with k= 96 is:\n",
      "The accuracy score is: 0.7565543071161048\n",
      "The confusion matrix is:\n",
      "[[ 55   4  11]\n",
      " [  5  10  34]\n",
      " [  5   6 137]]\n",
      "The performance metric for the model with k= 97 is:\n",
      "The accuracy score is: 0.7453183520599251\n",
      "The confusion matrix is:\n",
      "[[ 53   6  11]\n",
      " [  5  10  34]\n",
      " [  5   7 136]]\n",
      "The performance metric for the model with k="
     ]
    },
    {
     "name": "stderr",
     "output_type": "stream",
     "text": [
      "C:\\Users\\Admin\\anaconda3\\lib\\site-packages\\ipykernel_launcher.py:10: DataConversionWarning: A column-vector y was passed when a 1d array was expected. Please change the shape of y to (n_samples, ), for example using ravel().\n",
      "  # Remove the CWD from sys.path while we load stuff.\n",
      "C:\\Users\\Admin\\anaconda3\\lib\\site-packages\\ipykernel_launcher.py:10: DataConversionWarning: A column-vector y was passed when a 1d array was expected. Please change the shape of y to (n_samples, ), for example using ravel().\n",
      "  # Remove the CWD from sys.path while we load stuff.\n"
     ]
    },
    {
     "name": "stdout",
     "output_type": "stream",
     "text": [
      " 98 is:\n",
      "The accuracy score is: 0.7565543071161048\n",
      "The confusion matrix is:\n",
      "[[ 54   6  10]\n",
      " [  5  10  34]\n",
      " [  5   5 138]]\n",
      "The performance metric for the model with k= 99 is:\n",
      "The accuracy score is: 0.7378277153558053\n",
      "The confusion matrix is:\n",
      "[[ 53   6  11]\n",
      " [  5  10  34]\n",
      " [  5   9 134]]\n",
      "The performance metric for the model with k= 100 is:\n",
      "The accuracy score is: 0.7378277153558053\n",
      "The confusion matrix is:\n",
      "[[ 53   6  11]\n",
      " [  5  10  34]\n",
      " [  5   9 134]]\n"
     ]
    },
    {
     "name": "stderr",
     "output_type": "stream",
     "text": [
      "C:\\Users\\Admin\\anaconda3\\lib\\site-packages\\ipykernel_launcher.py:10: DataConversionWarning: A column-vector y was passed when a 1d array was expected. Please change the shape of y to (n_samples, ), for example using ravel().\n",
      "  # Remove the CWD from sys.path while we load stuff.\n",
      "C:\\Users\\Admin\\anaconda3\\lib\\site-packages\\ipykernel_launcher.py:10: DataConversionWarning: A column-vector y was passed when a 1d array was expected. Please change the shape of y to (n_samples, ), for example using ravel().\n",
      "  # Remove the CWD from sys.path while we load stuff.\n"
     ]
    },
    {
     "name": "stdout",
     "output_type": "stream",
     "text": [
      "The performance metric for the model with k= 101 is:\n",
      "The accuracy score is: 0.7303370786516854\n",
      "The confusion matrix is:\n",
      "[[ 53   6  11]\n",
      " [  5  10  34]\n",
      " [  5  11 132]]\n"
     ]
    },
    {
     "name": "stderr",
     "output_type": "stream",
     "text": [
      "C:\\Users\\Admin\\anaconda3\\lib\\site-packages\\ipykernel_launcher.py:10: DataConversionWarning: A column-vector y was passed when a 1d array was expected. Please change the shape of y to (n_samples, ), for example using ravel().\n",
      "  # Remove the CWD from sys.path while we load stuff.\n"
     ]
    },
    {
     "name": "stdout",
     "output_type": "stream",
     "text": [
      "The performance metric for the model with k= 102 is:\n",
      "The accuracy score is: 0.7303370786516854\n",
      "The confusion matrix is:\n",
      "[[ 53   5  12]\n",
      " [  5  10  34]\n",
      " [  5  11 132]]\n",
      "The performance metric for the model with k= 103 is:\n",
      "The accuracy score is: 0.7340823970037453\n",
      "The confusion matrix is:\n",
      "[[ 53   7  10]\n",
      " [  6  10  33]\n",
      " [  5  10 133]]\n"
     ]
    },
    {
     "name": "stderr",
     "output_type": "stream",
     "text": [
      "C:\\Users\\Admin\\anaconda3\\lib\\site-packages\\ipykernel_launcher.py:10: DataConversionWarning: A column-vector y was passed when a 1d array was expected. Please change the shape of y to (n_samples, ), for example using ravel().\n",
      "  # Remove the CWD from sys.path while we load stuff.\n",
      "C:\\Users\\Admin\\anaconda3\\lib\\site-packages\\ipykernel_launcher.py:10: DataConversionWarning: A column-vector y was passed when a 1d array was expected. Please change the shape of y to (n_samples, ), for example using ravel().\n",
      "  # Remove the CWD from sys.path while we load stuff.\n"
     ]
    },
    {
     "name": "stdout",
     "output_type": "stream",
     "text": [
      "The performance metric for the model with k= 104 is:\n",
      "The accuracy score is: 0.7340823970037453\n",
      "The confusion matrix is:\n",
      "[[ 53   7  10]\n",
      " [  6  10  33]\n",
      " [  5  10 133]]\n",
      "The performance metric for the model with k= 105 is:\n",
      "The accuracy score is: 0.7378277153558053\n",
      "The confusion matrix is:\n",
      "[[ 53   7  10]\n",
      " [  6  11  32]\n",
      " [  5  10 133]]\n"
     ]
    },
    {
     "name": "stderr",
     "output_type": "stream",
     "text": [
      "C:\\Users\\Admin\\anaconda3\\lib\\site-packages\\ipykernel_launcher.py:10: DataConversionWarning: A column-vector y was passed when a 1d array was expected. Please change the shape of y to (n_samples, ), for example using ravel().\n",
      "  # Remove the CWD from sys.path while we load stuff.\n",
      "C:\\Users\\Admin\\anaconda3\\lib\\site-packages\\ipykernel_launcher.py:10: DataConversionWarning: A column-vector y was passed when a 1d array was expected. Please change the shape of y to (n_samples, ), for example using ravel().\n",
      "  # Remove the CWD from sys.path while we load stuff.\n"
     ]
    },
    {
     "name": "stdout",
     "output_type": "stream",
     "text": [
      "The performance metric for the model with k= 106 is:\n",
      "The accuracy score is: 0.7415730337078652\n",
      "The confusion matrix is:\n",
      "[[ 53   6  11]\n",
      " [  5  12  32]\n",
      " [  5  10 133]]\n",
      "The performance metric for the model with k= 107 is:\n",
      "The accuracy score is: 0.7415730337078652\n",
      "The confusion matrix is:\n",
      "[[ 53   9   8]\n",
      " [  5  12  32]\n",
      " [  5  10 133]]\n",
      "The performance metric for the model with k= 108 is:\n",
      "The accuracy score is: 0.7453183520599251\n",
      "The confusion matrix is:\n",
      "[[ 53   8   9]\n",
      " [  5  12  32]\n",
      " [  5   9 134]]\n"
     ]
    },
    {
     "name": "stderr",
     "output_type": "stream",
     "text": [
      "C:\\Users\\Admin\\anaconda3\\lib\\site-packages\\ipykernel_launcher.py:10: DataConversionWarning: A column-vector y was passed when a 1d array was expected. Please change the shape of y to (n_samples, ), for example using ravel().\n",
      "  # Remove the CWD from sys.path while we load stuff.\n",
      "C:\\Users\\Admin\\anaconda3\\lib\\site-packages\\ipykernel_launcher.py:10: DataConversionWarning: A column-vector y was passed when a 1d array was expected. Please change the shape of y to (n_samples, ), for example using ravel().\n",
      "  # Remove the CWD from sys.path while we load stuff.\n",
      "C:\\Users\\Admin\\anaconda3\\lib\\site-packages\\ipykernel_launcher.py:10: DataConversionWarning: A column-vector y was passed when a 1d array was expected. Please change the shape of y to (n_samples, ), for example using ravel().\n",
      "  # Remove the CWD from sys.path while we load stuff.\n"
     ]
    },
    {
     "name": "stdout",
     "output_type": "stream",
     "text": [
      "The performance metric for the model with k= 109 is:\n",
      "The accuracy score is: 0.7490636704119851\n",
      "The confusion matrix is:\n",
      "[[ 53   9   8]\n",
      " [  5  12  32]\n",
      " [  5   8 135]]\n",
      "The performance metric for the model with k= 110 is:\n",
      "The accuracy score is: 0.7528089887640449"
     ]
    },
    {
     "name": "stderr",
     "output_type": "stream",
     "text": [
      "C:\\Users\\Admin\\anaconda3\\lib\\site-packages\\ipykernel_launcher.py:10: DataConversionWarning: A column-vector y was passed when a 1d array was expected. Please change the shape of y to (n_samples, ), for example using ravel().\n",
      "  # Remove the CWD from sys.path while we load stuff.\n"
     ]
    },
    {
     "name": "stdout",
     "output_type": "stream",
     "text": [
      "\n",
      "The confusion matrix is:\n",
      "[[ 53   8   9]\n",
      " [  5  13  31]\n",
      " [  5   8 135]]\n",
      "The performance metric for the model with k="
     ]
    },
    {
     "name": "stderr",
     "output_type": "stream",
     "text": [
      "C:\\Users\\Admin\\anaconda3\\lib\\site-packages\\ipykernel_launcher.py:10: DataConversionWarning: A column-vector y was passed when a 1d array was expected. Please change the shape of y to (n_samples, ), for example using ravel().\n",
      "  # Remove the CWD from sys.path while we load stuff.\n",
      "C:\\Users\\Admin\\anaconda3\\lib\\site-packages\\ipykernel_launcher.py:10: DataConversionWarning: A column-vector y was passed when a 1d array was expected. Please change the shape of y to (n_samples, ), for example using ravel().\n",
      "  # Remove the CWD from sys.path while we load stuff.\n"
     ]
    },
    {
     "name": "stdout",
     "output_type": "stream",
     "text": [
      " 111 is:\n",
      "The accuracy score is: 0.7490636704119851\n",
      "The confusion matrix is:\n",
      "[[ 53   8   9]\n",
      " [  5  12  32]\n",
      " [  5   8 135]]\n",
      "The performance metric for the model with k= 112 is:\n",
      "The accuracy score is: 0.7453183520599251\n",
      "The confusion matrix is:\n",
      "[[ 53   8   9]\n",
      " [  5  12  32]\n",
      " [  5   9 134]]\n",
      "The performance metric for the model with k="
     ]
    },
    {
     "name": "stderr",
     "output_type": "stream",
     "text": [
      "C:\\Users\\Admin\\anaconda3\\lib\\site-packages\\ipykernel_launcher.py:10: DataConversionWarning: A column-vector y was passed when a 1d array was expected. Please change the shape of y to (n_samples, ), for example using ravel().\n",
      "  # Remove the CWD from sys.path while we load stuff.\n",
      "C:\\Users\\Admin\\anaconda3\\lib\\site-packages\\ipykernel_launcher.py:10: DataConversionWarning: A column-vector y was passed when a 1d array was expected. Please change the shape of y to (n_samples, ), for example using ravel().\n",
      "  # Remove the CWD from sys.path while we load stuff.\n",
      "C:\\Users\\Admin\\anaconda3\\lib\\site-packages\\ipykernel_launcher.py:10: DataConversionWarning: A column-vector y was passed when a 1d array was expected. Please change the shape of y to (n_samples, ), for example using ravel().\n",
      "  # Remove the CWD from sys.path while we load stuff.\n"
     ]
    },
    {
     "name": "stdout",
     "output_type": "stream",
     "text": [
      " 113 is:\n",
      "The accuracy score is: 0.7490636704119851\n",
      "The confusion matrix is:\n",
      "[[ 53   8   9]\n",
      " [  5  12  32]\n",
      " [  5   8 135]]\n",
      "The performance metric for the model with k= 114 is:\n",
      "The accuracy score is: 0.7490636704119851\n",
      "The confusion matrix is:\n",
      "[[ 53   9   8]\n",
      " [  5  12  32]\n",
      " [  5   8 135]]\n",
      "The performance metric for the model with k= 115 is:\n",
      "The accuracy score is: 0.7490636704119851\n",
      "The confusion matrix is:\n",
      "[[ 53  11   6]\n",
      " [  5  12  32]\n",
      " [  5   8 135]]\n",
      "The performance metric for the model with k= 116 is:\n",
      "The accuracy score is: 0.7490636704119851\n",
      "The confusion matrix is:\n",
      "[[ 53  11   6]\n",
      " [  5  12  32]\n",
      " [  5   8 135]]\n",
      "The performance metric for the model with k= 117 is:\n",
      "The accuracy score is: 0.7528089887640449\n",
      "The confusion matrix is:\n",
      "[[ 53  11   6]\n",
      " [  5  12  32]\n",
      " [  5   7 136]]"
     ]
    },
    {
     "name": "stderr",
     "output_type": "stream",
     "text": [
      "C:\\Users\\Admin\\anaconda3\\lib\\site-packages\\ipykernel_launcher.py:10: DataConversionWarning: A column-vector y was passed when a 1d array was expected. Please change the shape of y to (n_samples, ), for example using ravel().\n",
      "  # Remove the CWD from sys.path while we load stuff.\n",
      "C:\\Users\\Admin\\anaconda3\\lib\\site-packages\\ipykernel_launcher.py:10: DataConversionWarning: A column-vector y was passed when a 1d array was expected. Please change the shape of y to (n_samples, ), for example using ravel().\n",
      "  # Remove the CWD from sys.path while we load stuff.\n"
     ]
    },
    {
     "name": "stdout",
     "output_type": "stream",
     "text": [
      "\n",
      "The performance metric for the model with k= 118 is:\n",
      "The accuracy score is: 0.7490636704119851\n",
      "The confusion matrix is:\n",
      "[[ 53  11   6]\n",
      " [  5  12  32]\n",
      " [  5   8 135]]\n"
     ]
    },
    {
     "name": "stderr",
     "output_type": "stream",
     "text": [
      "C:\\Users\\Admin\\anaconda3\\lib\\site-packages\\ipykernel_launcher.py:10: DataConversionWarning: A column-vector y was passed when a 1d array was expected. Please change the shape of y to (n_samples, ), for example using ravel().\n",
      "  # Remove the CWD from sys.path while we load stuff.\n",
      "C:\\Users\\Admin\\anaconda3\\lib\\site-packages\\ipykernel_launcher.py:10: DataConversionWarning: A column-vector y was passed when a 1d array was expected. Please change the shape of y to (n_samples, ), for example using ravel().\n",
      "  # Remove the CWD from sys.path while we load stuff.\n"
     ]
    },
    {
     "name": "stdout",
     "output_type": "stream",
     "text": [
      "The performance metric for the model with k= 119 is:\n",
      "The accuracy score is: 0.7490636704119851\n",
      "The confusion matrix is:\n",
      "[[ 53  12   5]\n",
      " [  5  12  32]\n",
      " [  5   8 135]]\n",
      "The performance metric for the model with k= 120 is:\n",
      "The accuracy score is: 0.7453183520599251\n",
      "The confusion matrix is:\n",
      "[[ 53  12   5]\n",
      " [  5  11  33]\n",
      " [  5   8 135]]\n"
     ]
    },
    {
     "name": "stderr",
     "output_type": "stream",
     "text": [
      "C:\\Users\\Admin\\anaconda3\\lib\\site-packages\\ipykernel_launcher.py:10: DataConversionWarning: A column-vector y was passed when a 1d array was expected. Please change the shape of y to (n_samples, ), for example using ravel().\n",
      "  # Remove the CWD from sys.path while we load stuff.\n",
      "C:\\Users\\Admin\\anaconda3\\lib\\site-packages\\ipykernel_launcher.py:10: DataConversionWarning: A column-vector y was passed when a 1d array was expected. Please change the shape of y to (n_samples, ), for example using ravel().\n",
      "  # Remove the CWD from sys.path while we load stuff.\n"
     ]
    },
    {
     "name": "stdout",
     "output_type": "stream",
     "text": [
      "The performance metric for the model with k= 121 is:\n",
      "The accuracy score is: 0.7453183520599251\n",
      "The confusion matrix is:\n",
      "[[ 53  12   5]\n",
      " [  5  11  33]\n",
      " [  5   8 135]]\n",
      "The performance metric for the model with k= 122 is:\n",
      "The accuracy score is: 0.7453183520599251\n",
      "The confusion matrix is:\n",
      "[[ 53  12   5]\n",
      " [  5  11  33]\n",
      " [  5   8 135]]\n"
     ]
    },
    {
     "name": "stderr",
     "output_type": "stream",
     "text": [
      "C:\\Users\\Admin\\anaconda3\\lib\\site-packages\\ipykernel_launcher.py:10: DataConversionWarning: A column-vector y was passed when a 1d array was expected. Please change the shape of y to (n_samples, ), for example using ravel().\n",
      "  # Remove the CWD from sys.path while we load stuff.\n",
      "C:\\Users\\Admin\\anaconda3\\lib\\site-packages\\ipykernel_launcher.py:10: DataConversionWarning: A column-vector y was passed when a 1d array was expected. Please change the shape of y to (n_samples, ), for example using ravel().\n",
      "  # Remove the CWD from sys.path while we load stuff.\n"
     ]
    },
    {
     "name": "stdout",
     "output_type": "stream",
     "text": [
      "The performance metric for the model with k= 123 is:\n",
      "The accuracy score is: 0.7415730337078652\n",
      "The confusion matrix is:\n",
      "[[ 53  12   5]\n",
      " [  5  10  34]\n",
      " [  5   8 135]]\n",
      "The performance metric for the model with k= 124 is:\n",
      "The accuracy score is: 0.7453183520599251\n",
      "The confusion matrix is:\n",
      "[[ 53  13   4]\n",
      " [  5  11  33]\n",
      " [  5   8 135]]\n"
     ]
    },
    {
     "name": "stderr",
     "output_type": "stream",
     "text": [
      "C:\\Users\\Admin\\anaconda3\\lib\\site-packages\\ipykernel_launcher.py:10: DataConversionWarning: A column-vector y was passed when a 1d array was expected. Please change the shape of y to (n_samples, ), for example using ravel().\n",
      "  # Remove the CWD from sys.path while we load stuff.\n",
      "C:\\Users\\Admin\\anaconda3\\lib\\site-packages\\ipykernel_launcher.py:10: DataConversionWarning: A column-vector y was passed when a 1d array was expected. Please change the shape of y to (n_samples, ), for example using ravel().\n",
      "  # Remove the CWD from sys.path while we load stuff.\n"
     ]
    },
    {
     "name": "stdout",
     "output_type": "stream",
     "text": [
      "The performance metric for the model with k= 125 is:\n",
      "The accuracy score is: 0.7453183520599251\n",
      "The confusion matrix is:\n",
      "[[ 53  12   5]\n",
      " [  5  11  33]\n",
      " [  5   8 135]]\n",
      "The performance metric for the model with k= 126 is:\n",
      "The accuracy score is: 0.7490636704119851\n",
      "The confusion matrix is:\n",
      "[[ 53  12   5]\n",
      " [  5  11  33]\n",
      " [  5   7 136]]\n"
     ]
    },
    {
     "name": "stderr",
     "output_type": "stream",
     "text": [
      "C:\\Users\\Admin\\anaconda3\\lib\\site-packages\\ipykernel_launcher.py:10: DataConversionWarning: A column-vector y was passed when a 1d array was expected. Please change the shape of y to (n_samples, ), for example using ravel().\n",
      "  # Remove the CWD from sys.path while we load stuff.\n",
      "C:\\Users\\Admin\\anaconda3\\lib\\site-packages\\ipykernel_launcher.py:10: DataConversionWarning: A column-vector y was passed when a 1d array was expected. Please change the shape of y to (n_samples, ), for example using ravel().\n",
      "  # Remove the CWD from sys.path while we load stuff.\n"
     ]
    },
    {
     "name": "stdout",
     "output_type": "stream",
     "text": [
      "The performance metric for the model with k= 127 is:\n",
      "The accuracy score is: 0.7490636704119851\n",
      "The confusion matrix is:\n",
      "[[ 53  12   5]\n",
      " [  5  11  33]\n",
      " [  5   7 136]]\n",
      "The performance metric for the model with k= 128"
     ]
    },
    {
     "name": "stderr",
     "output_type": "stream",
     "text": [
      "C:\\Users\\Admin\\anaconda3\\lib\\site-packages\\ipykernel_launcher.py:10: DataConversionWarning: A column-vector y was passed when a 1d array was expected. Please change the shape of y to (n_samples, ), for example using ravel().\n",
      "  # Remove the CWD from sys.path while we load stuff.\n"
     ]
    },
    {
     "name": "stdout",
     "output_type": "stream",
     "text": [
      " is:\n",
      "The accuracy score is: 0.7528089887640449\n",
      "The confusion matrix is:\n",
      "[[ 53  12   5]\n",
      " [  5  11  33]\n",
      " [  5   6 137]]\n"
     ]
    },
    {
     "name": "stderr",
     "output_type": "stream",
     "text": [
      "C:\\Users\\Admin\\anaconda3\\lib\\site-packages\\ipykernel_launcher.py:10: DataConversionWarning: A column-vector y was passed when a 1d array was expected. Please change the shape of y to (n_samples, ), for example using ravel().\n",
      "  # Remove the CWD from sys.path while we load stuff.\n"
     ]
    },
    {
     "name": "stdout",
     "output_type": "stream",
     "text": [
      "The performance metric for the model with k= 129 is:\n",
      "The accuracy score is: 0.7528089887640449\n",
      "The confusion matrix is:\n",
      "[[ 53  12   5]\n",
      " [  5  11  33]\n",
      " [  5   6 137]]\n"
     ]
    },
    {
     "name": "stderr",
     "output_type": "stream",
     "text": [
      "C:\\Users\\Admin\\anaconda3\\lib\\site-packages\\ipykernel_launcher.py:10: DataConversionWarning: A column-vector y was passed when a 1d array was expected. Please change the shape of y to (n_samples, ), for example using ravel().\n",
      "  # Remove the CWD from sys.path while we load stuff.\n"
     ]
    },
    {
     "name": "stdout",
     "output_type": "stream",
     "text": [
      "The performance metric for the model with k= 130 is:\n",
      "The accuracy score is: 0.7602996254681648\n",
      "The confusion matrix is:\n",
      "[[ 53  12   5]\n",
      " [  5  11  33]\n",
      " [  5   4 139]]\n",
      "The performance metric for the model with k= 131 "
     ]
    },
    {
     "name": "stderr",
     "output_type": "stream",
     "text": [
      "C:\\Users\\Admin\\anaconda3\\lib\\site-packages\\ipykernel_launcher.py:10: DataConversionWarning: A column-vector y was passed when a 1d array was expected. Please change the shape of y to (n_samples, ), for example using ravel().\n",
      "  # Remove the CWD from sys.path while we load stuff.\n"
     ]
    },
    {
     "name": "stdout",
     "output_type": "stream",
     "text": [
      "is:\n",
      "The accuracy score is: 0.7602996254681648\n",
      "The confusion matrix is:\n",
      "[[ 53  12   5]\n",
      " [  5  11  33]\n",
      " [  5   4 139]]\n",
      "The performance metric for the model with k= 132 is:\n",
      "The accuracy score is: 0.7602996254681648\n",
      "The confusion matrix is:\n",
      "[[ 53  13   4]\n",
      " [  5  11  33]\n",
      " [  5   4 139]]\n"
     ]
    },
    {
     "name": "stderr",
     "output_type": "stream",
     "text": [
      "C:\\Users\\Admin\\anaconda3\\lib\\site-packages\\ipykernel_launcher.py:10: DataConversionWarning: A column-vector y was passed when a 1d array was expected. Please change the shape of y to (n_samples, ), for example using ravel().\n",
      "  # Remove the CWD from sys.path while we load stuff.\n",
      "C:\\Users\\Admin\\anaconda3\\lib\\site-packages\\ipykernel_launcher.py:10: DataConversionWarning: A column-vector y was passed when a 1d array was expected. Please change the shape of y to (n_samples, ), for example using ravel().\n",
      "  # Remove the CWD from sys.path while we load stuff.\n"
     ]
    },
    {
     "name": "stdout",
     "output_type": "stream",
     "text": [
      "The performance metric for the model with k= 133 is:\n",
      "The accuracy score is: 0.7602996254681648\n",
      "The confusion matrix is:\n",
      "[[ 53  13   4]\n",
      " [  5  11  33]\n",
      " [  5   4 139]]\n",
      "The performance metric for the model with k= 134 is:\n",
      "The accuracy score is: 0.7565543071161048\n",
      "The confusion matrix is:\n",
      "[[ 52  13   5]\n",
      " [  5  11  33]\n",
      " [  5   4 139]]\n",
      "The performance metric for the model with k="
     ]
    },
    {
     "name": "stderr",
     "output_type": "stream",
     "text": [
      "C:\\Users\\Admin\\anaconda3\\lib\\site-packages\\ipykernel_launcher.py:10: DataConversionWarning: A column-vector y was passed when a 1d array was expected. Please change the shape of y to (n_samples, ), for example using ravel().\n",
      "  # Remove the CWD from sys.path while we load stuff.\n",
      "C:\\Users\\Admin\\anaconda3\\lib\\site-packages\\ipykernel_launcher.py:10: DataConversionWarning: A column-vector y was passed when a 1d array was expected. Please change the shape of y to (n_samples, ), for example using ravel().\n",
      "  # Remove the CWD from sys.path while we load stuff.\n"
     ]
    },
    {
     "name": "stdout",
     "output_type": "stream",
     "text": [
      " 135 is:\n",
      "The accuracy score is: 0.7602996254681648\n",
      "The confusion matrix is:\n",
      "[[ 52  13   5]\n",
      " [  5  11  33]\n",
      " [  5   3 140]]\n"
     ]
    },
    {
     "name": "stderr",
     "output_type": "stream",
     "text": [
      "C:\\Users\\Admin\\anaconda3\\lib\\site-packages\\ipykernel_launcher.py:10: DataConversionWarning: A column-vector y was passed when a 1d array was expected. Please change the shape of y to (n_samples, ), for example using ravel().\n",
      "  # Remove the CWD from sys.path while we load stuff.\n"
     ]
    },
    {
     "name": "stdout",
     "output_type": "stream",
     "text": [
      "The performance metric for the model with k= 136 is:\n",
      "The accuracy score is: 0.7602996254681648\n",
      "The confusion matrix is:\n",
      "[[ 52  13   5]\n",
      " [  5  11  33]\n",
      " [  5   3 140]]\n"
     ]
    },
    {
     "name": "stderr",
     "output_type": "stream",
     "text": [
      "C:\\Users\\Admin\\anaconda3\\lib\\site-packages\\ipykernel_launcher.py:10: DataConversionWarning: A column-vector y was passed when a 1d array was expected. Please change the shape of y to (n_samples, ), for example using ravel().\n",
      "  # Remove the CWD from sys.path while we load stuff.\n"
     ]
    },
    {
     "name": "stdout",
     "output_type": "stream",
     "text": [
      "The performance metric for the model with k= 137 is:\n",
      "The accuracy score is: 0.7602996254681648\n",
      "The confusion matrix is:\n",
      "[[ 52  13   5]\n",
      " [  5  11  33]\n",
      " [  5   3 140]]\n",
      "The performance metric for the model with k= 138 is:\n",
      "The accuracy score is: 0.7602996254681648\n",
      "The confusion matrix is:\n",
      "[[ 52  13   5]\n",
      " [  5  11  33]\n",
      " [  5   3 140]]\n"
     ]
    },
    {
     "name": "stderr",
     "output_type": "stream",
     "text": [
      "C:\\Users\\Admin\\anaconda3\\lib\\site-packages\\ipykernel_launcher.py:10: DataConversionWarning: A column-vector y was passed when a 1d array was expected. Please change the shape of y to (n_samples, ), for example using ravel().\n",
      "  # Remove the CWD from sys.path while we load stuff.\n",
      "C:\\Users\\Admin\\anaconda3\\lib\\site-packages\\ipykernel_launcher.py:10: DataConversionWarning: A column-vector y was passed when a 1d array was expected. Please change the shape of y to (n_samples, ), for example using ravel().\n",
      "  # Remove the CWD from sys.path while we load stuff.\n"
     ]
    },
    {
     "name": "stdout",
     "output_type": "stream",
     "text": [
      "The performance metric for the model with k= 139 is:\n",
      "The accuracy score is: 0.7602996254681648\n",
      "The confusion matrix is:\n",
      "[[ 52  13   5]\n",
      " [  5  11  33]\n",
      " [  5   3 140]]\n",
      "The performance metric for the model with k= 140 is:\n",
      "The accuracy score is: 0.7602996254681648\n",
      "The confusion matrix is:\n",
      "[[ 52  13   5]\n",
      " [  5  11  33]\n",
      " [  5   3 140]]\n"
     ]
    },
    {
     "name": "stderr",
     "output_type": "stream",
     "text": [
      "C:\\Users\\Admin\\anaconda3\\lib\\site-packages\\ipykernel_launcher.py:10: DataConversionWarning: A column-vector y was passed when a 1d array was expected. Please change the shape of y to (n_samples, ), for example using ravel().\n",
      "  # Remove the CWD from sys.path while we load stuff.\n",
      "C:\\Users\\Admin\\anaconda3\\lib\\site-packages\\ipykernel_launcher.py:10: DataConversionWarning: A column-vector y was passed when a 1d array was expected. Please change the shape of y to (n_samples, ), for example using ravel().\n",
      "  # Remove the CWD from sys.path while we load stuff.\n"
     ]
    },
    {
     "name": "stdout",
     "output_type": "stream",
     "text": [
      "The performance metric for the model with k= 141 is:\n",
      "The accuracy score is: 0.7602996254681648\n",
      "The confusion matrix is:\n",
      "[[ 52  13   5]\n",
      " [  5  11  33]\n",
      " [  5   3 140]]\n",
      "The performance metric for the model with k= 142 is:\n",
      "The accuracy score is: 0.7565543071161048\n",
      "The confusion matrix is:\n",
      "[[ 52  13   5]\n",
      " [  5  11  33]\n",
      " [  5   4 139]]\n"
     ]
    },
    {
     "name": "stderr",
     "output_type": "stream",
     "text": [
      "C:\\Users\\Admin\\anaconda3\\lib\\site-packages\\ipykernel_launcher.py:10: DataConversionWarning: A column-vector y was passed when a 1d array was expected. Please change the shape of y to (n_samples, ), for example using ravel().\n",
      "  # Remove the CWD from sys.path while we load stuff.\n",
      "C:\\Users\\Admin\\anaconda3\\lib\\site-packages\\ipykernel_launcher.py:10: DataConversionWarning: A column-vector y was passed when a 1d array was expected. Please change the shape of y to (n_samples, ), for example using ravel().\n",
      "  # Remove the CWD from sys.path while we load stuff.\n"
     ]
    },
    {
     "name": "stdout",
     "output_type": "stream",
     "text": [
      "The performance metric for the model with k= 143 is:\n",
      "The accuracy score is: 0.7565543071161048\n",
      "The confusion matrix is:\n",
      "[[ 52  13   5]\n",
      " [  5  11  33]\n",
      " [  5   4 139]]\n",
      "The performance metric for the model with k= 144 is:\n",
      "The accuracy score is: 0.7565543071161048\n",
      "The confusion matrix is:\n",
      "[[ 52  13   5]\n",
      " [  5  11  33]\n",
      " [  5   4 139]]\n"
     ]
    },
    {
     "name": "stderr",
     "output_type": "stream",
     "text": [
      "C:\\Users\\Admin\\anaconda3\\lib\\site-packages\\ipykernel_launcher.py:10: DataConversionWarning: A column-vector y was passed when a 1d array was expected. Please change the shape of y to (n_samples, ), for example using ravel().\n",
      "  # Remove the CWD from sys.path while we load stuff.\n",
      "C:\\Users\\Admin\\anaconda3\\lib\\site-packages\\ipykernel_launcher.py:10: DataConversionWarning: A column-vector y was passed when a 1d array was expected. Please change the shape of y to (n_samples, ), for example using ravel().\n",
      "  # Remove the CWD from sys.path while we load stuff.\n"
     ]
    },
    {
     "name": "stdout",
     "output_type": "stream",
     "text": [
      "The performance metric for the model with k= 145 is:\n",
      "The accuracy score is: 0.7565543071161048\n",
      "The confusion matrix is:\n",
      "[[ 52  13   5]\n",
      " [  5  11  33]\n",
      " [  5   4 139]]\n",
      "The performance metric for the model with k= 146 is:\n",
      "The accuracy score is: 0.7565543071161048\n",
      "The confusion matrix is:\n",
      "[[ 52  13   5]\n",
      " [  5  11  33]\n",
      " [  5   4 139]]\n"
     ]
    },
    {
     "name": "stderr",
     "output_type": "stream",
     "text": [
      "C:\\Users\\Admin\\anaconda3\\lib\\site-packages\\ipykernel_launcher.py:10: DataConversionWarning: A column-vector y was passed when a 1d array was expected. Please change the shape of y to (n_samples, ), for example using ravel().\n",
      "  # Remove the CWD from sys.path while we load stuff.\n",
      "C:\\Users\\Admin\\anaconda3\\lib\\site-packages\\ipykernel_launcher.py:10: DataConversionWarning: A column-vector y was passed when a 1d array was expected. Please change the shape of y to (n_samples, ), for example using ravel().\n",
      "  # Remove the CWD from sys.path while we load stuff.\n"
     ]
    },
    {
     "name": "stdout",
     "output_type": "stream",
     "text": [
      "The performance metric for the model with k= 147 is:\n",
      "The accuracy score is: 0.7640449438202247\n",
      "The confusion matrix is:\n",
      "[[ 52  13   5]\n",
      " [  5  11  33]\n",
      " [  5   2 141]]\n",
      "The performance metric for the model with k= 148 is:\n",
      "The accuracy score is:"
     ]
    },
    {
     "name": "stderr",
     "output_type": "stream",
     "text": [
      "C:\\Users\\Admin\\anaconda3\\lib\\site-packages\\ipykernel_launcher.py:10: DataConversionWarning: A column-vector y was passed when a 1d array was expected. Please change the shape of y to (n_samples, ), for example using ravel().\n",
      "  # Remove the CWD from sys.path while we load stuff.\n",
      "C:\\Users\\Admin\\anaconda3\\lib\\site-packages\\ipykernel_launcher.py:10: DataConversionWarning: A column-vector y was passed when a 1d array was expected. Please change the shape of y to (n_samples, ), for example using ravel().\n",
      "  # Remove the CWD from sys.path while we load stuff.\n"
     ]
    },
    {
     "name": "stdout",
     "output_type": "stream",
     "text": [
      " 0.7677902621722846\n",
      "The confusion matrix is:\n",
      "[[ 52  11   7]\n",
      " [  5  11  33]\n",
      " [  5   1 142]]\n",
      "The performance metric for the model with k= 149 is:\n",
      "The accuracy score is: 0.7677902621722846\n",
      "The confusion matrix is:\n",
      "[[ 52  11   7]\n",
      " [  5  11  33]\n",
      " [  5   1 142]]\n"
     ]
    },
    {
     "name": "stderr",
     "output_type": "stream",
     "text": [
      "C:\\Users\\Admin\\anaconda3\\lib\\site-packages\\ipykernel_launcher.py:10: DataConversionWarning: A column-vector y was passed when a 1d array was expected. Please change the shape of y to (n_samples, ), for example using ravel().\n",
      "  # Remove the CWD from sys.path while we load stuff.\n"
     ]
    },
    {
     "name": "stdout",
     "output_type": "stream",
     "text": [
      "The performance metric for the model with k= 150 is:\n",
      "The accuracy score is: 0.7677902621722846\n",
      "The confusion matrix is:\n",
      "[[ 52  11   7]\n",
      " [  5  11  33]\n",
      " [  5   1 142]]\n"
     ]
    },
    {
     "name": "stderr",
     "output_type": "stream",
     "text": [
      "C:\\Users\\Admin\\anaconda3\\lib\\site-packages\\ipykernel_launcher.py:10: DataConversionWarning: A column-vector y was passed when a 1d array was expected. Please change the shape of y to (n_samples, ), for example using ravel().\n",
      "  # Remove the CWD from sys.path while we load stuff.\n"
     ]
    },
    {
     "name": "stdout",
     "output_type": "stream",
     "text": [
      "The performance metric for the model with k= 151 is:\n",
      "The accuracy score is: 0.7677902621722846\n",
      "The confusion matrix is:\n",
      "[[ 52  11   7]\n",
      " [  5  11  33]\n",
      " [  5   1 142]]\n",
      "The performance metric for the model with k="
     ]
    },
    {
     "name": "stderr",
     "output_type": "stream",
     "text": [
      "C:\\Users\\Admin\\anaconda3\\lib\\site-packages\\ipykernel_launcher.py:10: DataConversionWarning: A column-vector y was passed when a 1d array was expected. Please change the shape of y to (n_samples, ), for example using ravel().\n",
      "  # Remove the CWD from sys.path while we load stuff.\n"
     ]
    },
    {
     "name": "stdout",
     "output_type": "stream",
     "text": [
      " 152 is:\n",
      "The accuracy score is: 0.7640449438202247\n",
      "The confusion matrix is:\n",
      "[[ 52  11   7]\n",
      " [  5  10  34]\n",
      " [  5   1 142]]\n",
      "The performance metric for the model with k= 153 is:\n",
      "The accuracy score is: 0.7640449438202247\n",
      "The confusion matrix is:\n",
      "[[ 52   9   9]\n",
      " [  5  10  34]\n",
      " [  5   1 142]]\n"
     ]
    },
    {
     "name": "stderr",
     "output_type": "stream",
     "text": [
      "C:\\Users\\Admin\\anaconda3\\lib\\site-packages\\ipykernel_launcher.py:10: DataConversionWarning: A column-vector y was passed when a 1d array was expected. Please change the shape of y to (n_samples, ), for example using ravel().\n",
      "  # Remove the CWD from sys.path while we load stuff.\n",
      "C:\\Users\\Admin\\anaconda3\\lib\\site-packages\\ipykernel_launcher.py:10: DataConversionWarning: A column-vector y was passed when a 1d array was expected. Please change the shape of y to (n_samples, ), for example using ravel().\n",
      "  # Remove the CWD from sys.path while we load stuff.\n"
     ]
    },
    {
     "name": "stdout",
     "output_type": "stream",
     "text": [
      "The performance metric for the model with k= 154 is:\n",
      "The accuracy score is: 0.7640449438202247\n",
      "The confusion matrix is:\n",
      "[[ 52   9   9]\n",
      " [  5  10  34]\n",
      " [  5   1 142]]\n",
      "The performance metric for the model with k= 155 is:\n",
      "The accuracy score is: 0.7640449438202247\n",
      "The confusion matrix is:\n",
      "[[ 52   9   9]\n",
      " [  5  10  34]\n",
      " [  5   1 142]]\n"
     ]
    },
    {
     "name": "stderr",
     "output_type": "stream",
     "text": [
      "C:\\Users\\Admin\\anaconda3\\lib\\site-packages\\ipykernel_launcher.py:10: DataConversionWarning: A column-vector y was passed when a 1d array was expected. Please change the shape of y to (n_samples, ), for example using ravel().\n",
      "  # Remove the CWD from sys.path while we load stuff.\n",
      "C:\\Users\\Admin\\anaconda3\\lib\\site-packages\\ipykernel_launcher.py:10: DataConversionWarning: A column-vector y was passed when a 1d array was expected. Please change the shape of y to (n_samples, ), for example using ravel().\n",
      "  # Remove the CWD from sys.path while we load stuff.\n"
     ]
    },
    {
     "name": "stdout",
     "output_type": "stream",
     "text": [
      "The performance metric for the model with k= 156 is:\n",
      "The accuracy score is: 0.7602996254681648\n",
      "The confusion matrix is:\n",
      "[[ 52   9   9]\n",
      " [  5   9  35]\n",
      " [  5   1 142]]\n",
      "The performance metric for the model with k= 157 is:\n",
      "The accuracy score is: 0.7565543071161048\n",
      "The confusion matrix is:\n",
      "[[ 52   9   9]\n",
      " [  5   7  37]\n",
      " [  5   0 143]]\n"
     ]
    },
    {
     "name": "stderr",
     "output_type": "stream",
     "text": [
      "C:\\Users\\Admin\\anaconda3\\lib\\site-packages\\ipykernel_launcher.py:10: DataConversionWarning: A column-vector y was passed when a 1d array was expected. Please change the shape of y to (n_samples, ), for example using ravel().\n",
      "  # Remove the CWD from sys.path while we load stuff.\n",
      "C:\\Users\\Admin\\anaconda3\\lib\\site-packages\\ipykernel_launcher.py:10: DataConversionWarning: A column-vector y was passed when a 1d array was expected. Please change the shape of y to (n_samples, ), for example using ravel().\n",
      "  # Remove the CWD from sys.path while we load stuff.\n"
     ]
    },
    {
     "name": "stdout",
     "output_type": "stream",
     "text": [
      "The performance metric for the model with k= 158 is:\n",
      "The accuracy score is: 0.7565543071161048\n",
      "The confusion matrix is:\n",
      "[[ 52   9   9]\n",
      " [  5   7  37]\n",
      " [  5   0 143]]\n",
      "The performance metric for the model with k= 159 is:\n",
      "The accuracy score is: 0.7565543071161048\n",
      "The confusion matrix is:\n",
      "[[ 52   9   9]\n",
      " [  5   7  37]\n",
      " [  5   0 143]]\n",
      "The performance metric for the model with k="
     ]
    },
    {
     "name": "stderr",
     "output_type": "stream",
     "text": [
      "C:\\Users\\Admin\\anaconda3\\lib\\site-packages\\ipykernel_launcher.py:10: DataConversionWarning: A column-vector y was passed when a 1d array was expected. Please change the shape of y to (n_samples, ), for example using ravel().\n",
      "  # Remove the CWD from sys.path while we load stuff.\n",
      "C:\\Users\\Admin\\anaconda3\\lib\\site-packages\\ipykernel_launcher.py:10: DataConversionWarning: A column-vector y was passed when a 1d array was expected. Please change the shape of y to (n_samples, ), for example using ravel().\n",
      "  # Remove the CWD from sys.path while we load stuff.\n"
     ]
    },
    {
     "name": "stdout",
     "output_type": "stream",
     "text": [
      " 160 is:\n",
      "The accuracy score is: 0.7565543071161048\n",
      "The confusion matrix is:\n",
      "[[ 52   9   9]\n",
      " [  5   7  37]\n",
      " [  5   0 143]]\n",
      "The performance metric for the model with k= 161 is:\n",
      "The accuracy score is: 0.7528089887640449\n",
      "The confusion matrix is:\n",
      "[[ 52   9   9]\n",
      " [  5   6  38]\n",
      " [  5   0 143]]\n"
     ]
    },
    {
     "name": "stderr",
     "output_type": "stream",
     "text": [
      "C:\\Users\\Admin\\anaconda3\\lib\\site-packages\\ipykernel_launcher.py:10: DataConversionWarning: A column-vector y was passed when a 1d array was expected. Please change the shape of y to (n_samples, ), for example using ravel().\n",
      "  # Remove the CWD from sys.path while we load stuff.\n",
      "C:\\Users\\Admin\\anaconda3\\lib\\site-packages\\ipykernel_launcher.py:10: DataConversionWarning: A column-vector y was passed when a 1d array was expected. Please change the shape of y to (n_samples, ), for example using ravel().\n",
      "  # Remove the CWD from sys.path while we load stuff.\n"
     ]
    },
    {
     "name": "stdout",
     "output_type": "stream",
     "text": [
      "The performance metric for the model with k= 162 is:\n",
      "The accuracy score is: 0.7528089887640449\n",
      "The confusion matrix is:\n",
      "[[ 52   9   9]\n",
      " [  5   6  38]\n",
      " [  5   0 143]]\n",
      "The performance metric for the model with k= 163 is:\n",
      "The accuracy score is: 0.7528089887640449\n",
      "The confusion matrix is:\n",
      "[[ 52   9   9]\n",
      " [  5   6  38]\n",
      " [  5   0 143]]\n"
     ]
    },
    {
     "name": "stderr",
     "output_type": "stream",
     "text": [
      "C:\\Users\\Admin\\anaconda3\\lib\\site-packages\\ipykernel_launcher.py:10: DataConversionWarning: A column-vector y was passed when a 1d array was expected. Please change the shape of y to (n_samples, ), for example using ravel().\n",
      "  # Remove the CWD from sys.path while we load stuff.\n",
      "C:\\Users\\Admin\\anaconda3\\lib\\site-packages\\ipykernel_launcher.py:10: DataConversionWarning: A column-vector y was passed when a 1d array was expected. Please change the shape of y to (n_samples, ), for example using ravel().\n",
      "  # Remove the CWD from sys.path while we load stuff.\n"
     ]
    },
    {
     "name": "stdout",
     "output_type": "stream",
     "text": [
      "The performance metric for the model with k= 164 is:\n",
      "The accuracy score is: 0.7528089887640449\n",
      "The confusion matrix is:\n",
      "[[ 52   9   9]\n",
      " [  5   6  38]\n",
      " [  5   0 143]]\n",
      "The performance metric for the model with k= 165 is:\n",
      "The accuracy score is: 0.7528089887640449\n",
      "The confusion matrix is:\n",
      "[[ 52   9   9]\n",
      " [  5   6  38]\n",
      " [  5   0 143]]\n"
     ]
    },
    {
     "name": "stderr",
     "output_type": "stream",
     "text": [
      "C:\\Users\\Admin\\anaconda3\\lib\\site-packages\\ipykernel_launcher.py:10: DataConversionWarning: A column-vector y was passed when a 1d array was expected. Please change the shape of y to (n_samples, ), for example using ravel().\n",
      "  # Remove the CWD from sys.path while we load stuff.\n",
      "C:\\Users\\Admin\\anaconda3\\lib\\site-packages\\ipykernel_launcher.py:10: DataConversionWarning: A column-vector y was passed when a 1d array was expected. Please change the shape of y to (n_samples, ), for example using ravel().\n",
      "  # Remove the CWD from sys.path while we load stuff.\n"
     ]
    },
    {
     "name": "stdout",
     "output_type": "stream",
     "text": [
      "The performance metric for the model with k= 166 is:\n",
      "The accuracy score is: 0.7528089887640449\n",
      "The confusion matrix is:\n",
      "[[ 52   8  10]\n",
      " [  5   6  38]\n",
      " [  5   0 143]]\n",
      "The performance metric for the model with k= 167 is:\n",
      "The accuracy score is: 0.7528089887640449\n",
      "The confusion matrix is:\n",
      "[[ 52   7  11]\n",
      " [  5   6  38]\n",
      " [  5   0 143]]\n"
     ]
    },
    {
     "name": "stderr",
     "output_type": "stream",
     "text": [
      "C:\\Users\\Admin\\anaconda3\\lib\\site-packages\\ipykernel_launcher.py:10: DataConversionWarning: A column-vector y was passed when a 1d array was expected. Please change the shape of y to (n_samples, ), for example using ravel().\n",
      "  # Remove the CWD from sys.path while we load stuff.\n",
      "C:\\Users\\Admin\\anaconda3\\lib\\site-packages\\ipykernel_launcher.py:10: DataConversionWarning: A column-vector y was passed when a 1d array was expected. Please change the shape of y to (n_samples, ), for example using ravel().\n",
      "  # Remove the CWD from sys.path while we load stuff.\n"
     ]
    },
    {
     "name": "stdout",
     "output_type": "stream",
     "text": [
      "The performance metric for the model with k= 168 is:\n",
      "The accuracy score is: 0.7528089887640449\n",
      "The confusion matrix is:\n",
      "[[ 52   7  11]\n",
      " [  5   6  38]\n",
      " [  5   0 143]]\n",
      "The performance metric for the model with k= 169 is:\n",
      "The accuracy score is: 0.7528089887640449\n",
      "The confusion matrix is:\n",
      "[[ 52   6  12]\n",
      " [  5   6  38]\n",
      " [  5   0 143]]\n"
     ]
    },
    {
     "name": "stderr",
     "output_type": "stream",
     "text": [
      "C:\\Users\\Admin\\anaconda3\\lib\\site-packages\\ipykernel_launcher.py:10: DataConversionWarning: A column-vector y was passed when a 1d array was expected. Please change the shape of y to (n_samples, ), for example using ravel().\n",
      "  # Remove the CWD from sys.path while we load stuff.\n",
      "C:\\Users\\Admin\\anaconda3\\lib\\site-packages\\ipykernel_launcher.py:10: DataConversionWarning: A column-vector y was passed when a 1d array was expected. Please change the shape of y to (n_samples, ), for example using ravel().\n",
      "  # Remove the CWD from sys.path while we load stuff.\n"
     ]
    },
    {
     "name": "stdout",
     "output_type": "stream",
     "text": [
      "The performance metric for the model with k= 170 is:\n",
      "The accuracy score is: 0.7528089887640449\n",
      "The confusion matrix is:\n",
      "[[ 52   6  12]\n",
      " [  5   6  38]\n",
      " [  5   0 143]]\n",
      "The performance metric for the model with k= 171 is:\n",
      "The accuracy score is: 0.7528089887640449\n",
      "The confusion matrix is:\n",
      "[[ 52   6  12]\n",
      " [  5   6  38]\n",
      " [  5   0 143]]\n"
     ]
    },
    {
     "name": "stderr",
     "output_type": "stream",
     "text": [
      "C:\\Users\\Admin\\anaconda3\\lib\\site-packages\\ipykernel_launcher.py:10: DataConversionWarning: A column-vector y was passed when a 1d array was expected. Please change the shape of y to (n_samples, ), for example using ravel().\n",
      "  # Remove the CWD from sys.path while we load stuff.\n",
      "C:\\Users\\Admin\\anaconda3\\lib\\site-packages\\ipykernel_launcher.py:10: DataConversionWarning: A column-vector y was passed when a 1d array was expected. Please change the shape of y to (n_samples, ), for example using ravel().\n",
      "  # Remove the CWD from sys.path while we load stuff.\n"
     ]
    },
    {
     "name": "stdout",
     "output_type": "stream",
     "text": [
      "The performance metric for the model with k= 172 is:\n",
      "The accuracy score is: 0.7528089887640449\n",
      "The confusion matrix is:\n",
      "[[ 52   6  12]\n",
      " [  5   6  38]\n",
      " [  5   0 143]]\n"
     ]
    },
    {
     "name": "stderr",
     "output_type": "stream",
     "text": [
      "C:\\Users\\Admin\\anaconda3\\lib\\site-packages\\ipykernel_launcher.py:10: DataConversionWarning: A column-vector y was passed when a 1d array was expected. Please change the shape of y to (n_samples, ), for example using ravel().\n",
      "  # Remove the CWD from sys.path while we load stuff.\n"
     ]
    },
    {
     "name": "stdout",
     "output_type": "stream",
     "text": [
      "The performance metric for the model with k= 173 is:\n",
      "The accuracy score is: 0.7565543071161048\n",
      "The confusion matrix is:\n",
      "[[ 52   6  12]\n",
      " [  5   7  37]\n",
      " [  5   0 143]]\n",
      "The performance metric for the model with k= 174 is:\n",
      "The accuracy score is:"
     ]
    },
    {
     "name": "stderr",
     "output_type": "stream",
     "text": [
      "C:\\Users\\Admin\\anaconda3\\lib\\site-packages\\ipykernel_launcher.py:10: DataConversionWarning: A column-vector y was passed when a 1d array was expected. Please change the shape of y to (n_samples, ), for example using ravel().\n",
      "  # Remove the CWD from sys.path while we load stuff.\n",
      "C:\\Users\\Admin\\anaconda3\\lib\\site-packages\\ipykernel_launcher.py:10: DataConversionWarning: A column-vector y was passed when a 1d array was expected. Please change the shape of y to (n_samples, ), for example using ravel().\n",
      "  # Remove the CWD from sys.path while we load stuff.\n"
     ]
    },
    {
     "name": "stdout",
     "output_type": "stream",
     "text": [
      " 0.7490636704119851\n",
      "The confusion matrix is:\n",
      "[[ 50   8  12]\n",
      " [  5   7  37]\n",
      " [  5   0 143]]\n",
      "The performance metric for the model with k= 175 is:\n",
      "The accuracy score is: 0.7565543071161048\n",
      "The confusion matrix is:\n",
      "[[ 52   6  12]\n",
      " [  5   7  37]\n",
      " [  5   0 143]]\n"
     ]
    },
    {
     "name": "stderr",
     "output_type": "stream",
     "text": [
      "C:\\Users\\Admin\\anaconda3\\lib\\site-packages\\ipykernel_launcher.py:10: DataConversionWarning: A column-vector y was passed when a 1d array was expected. Please change the shape of y to (n_samples, ), for example using ravel().\n",
      "  # Remove the CWD from sys.path while we load stuff.\n"
     ]
    },
    {
     "name": "stdout",
     "output_type": "stream",
     "text": [
      "The performance metric for the model with k= 176 is:\n",
      "The accuracy score is: 0.7565543071161048\n",
      "The confusion matrix is:\n",
      "[[ 52   6  12]\n",
      " [  5   7  37]\n",
      " [  5   0 143]]\n"
     ]
    },
    {
     "name": "stderr",
     "output_type": "stream",
     "text": [
      "C:\\Users\\Admin\\anaconda3\\lib\\site-packages\\ipykernel_launcher.py:10: DataConversionWarning: A column-vector y was passed when a 1d array was expected. Please change the shape of y to (n_samples, ), for example using ravel().\n",
      "  # Remove the CWD from sys.path while we load stuff.\n"
     ]
    },
    {
     "name": "stdout",
     "output_type": "stream",
     "text": [
      "The performance metric for the model with k= 177 is:\n",
      "The accuracy score is: 0.7565543071161048\n",
      "The confusion matrix is:\n",
      "[[ 52   6  12]\n",
      " [  5   7  37]\n",
      " [  5   0 143]]\n"
     ]
    },
    {
     "name": "stderr",
     "output_type": "stream",
     "text": [
      "C:\\Users\\Admin\\anaconda3\\lib\\site-packages\\ipykernel_launcher.py:10: DataConversionWarning: A column-vector y was passed when a 1d array was expected. Please change the shape of y to (n_samples, ), for example using ravel().\n",
      "  # Remove the CWD from sys.path while we load stuff.\n"
     ]
    },
    {
     "name": "stdout",
     "output_type": "stream",
     "text": [
      "The performance metric for the model with k= 178 is:\n",
      "The accuracy score is: 0.7565543071161048\n",
      "The confusion matrix is:\n",
      "[[ 52   6  12]\n",
      " [  5   7  37]\n",
      " [  5   0 143]]\n",
      "The performance metric for the model with k= 179 is:\n",
      "The accuracy score is: 0.7565543071161048\n",
      "The confusion matrix is:\n",
      "[[ 52   6  12]\n",
      " [  5   7  37]\n",
      " [  5   0 143]]\n"
     ]
    },
    {
     "name": "stderr",
     "output_type": "stream",
     "text": [
      "C:\\Users\\Admin\\anaconda3\\lib\\site-packages\\ipykernel_launcher.py:10: DataConversionWarning: A column-vector y was passed when a 1d array was expected. Please change the shape of y to (n_samples, ), for example using ravel().\n",
      "  # Remove the CWD from sys.path while we load stuff.\n",
      "C:\\Users\\Admin\\anaconda3\\lib\\site-packages\\ipykernel_launcher.py:10: DataConversionWarning: A column-vector y was passed when a 1d array was expected. Please change the shape of y to (n_samples, ), for example using ravel().\n",
      "  # Remove the CWD from sys.path while we load stuff.\n"
     ]
    },
    {
     "name": "stdout",
     "output_type": "stream",
     "text": [
      "The performance metric for the model with k= 180 is:\n",
      "The accuracy score is: 0.7490636704119851\n",
      "The confusion matrix is:\n",
      "[[ 50   7  13]\n",
      " [  5   7  37]\n",
      " [  5   0 143]]\n"
     ]
    },
    {
     "name": "stderr",
     "output_type": "stream",
     "text": [
      "C:\\Users\\Admin\\anaconda3\\lib\\site-packages\\ipykernel_launcher.py:10: DataConversionWarning: A column-vector y was passed when a 1d array was expected. Please change the shape of y to (n_samples, ), for example using ravel().\n",
      "  # Remove the CWD from sys.path while we load stuff.\n"
     ]
    },
    {
     "name": "stdout",
     "output_type": "stream",
     "text": [
      "The performance metric for the model with k= 181 is:\n",
      "The accuracy score is: 0.7565543071161048\n",
      "The confusion matrix is:\n",
      "[[ 52   5  13]\n",
      " [  5   7  37]\n",
      " [  5   0 143]]\n",
      "The performance metric for the model with k= 182 is:\n",
      "The accuracy score is: 0.7565543071161048\n",
      "The confusion matrix is:\n",
      "[[ 52   5  13]\n",
      " [  5   7  37]\n",
      " [  5   0 143]]\n"
     ]
    },
    {
     "name": "stderr",
     "output_type": "stream",
     "text": [
      "C:\\Users\\Admin\\anaconda3\\lib\\site-packages\\ipykernel_launcher.py:10: DataConversionWarning: A column-vector y was passed when a 1d array was expected. Please change the shape of y to (n_samples, ), for example using ravel().\n",
      "  # Remove the CWD from sys.path while we load stuff.\n",
      "C:\\Users\\Admin\\anaconda3\\lib\\site-packages\\ipykernel_launcher.py:10: DataConversionWarning: A column-vector y was passed when a 1d array was expected. Please change the shape of y to (n_samples, ), for example using ravel().\n",
      "  # Remove the CWD from sys.path while we load stuff.\n"
     ]
    },
    {
     "name": "stdout",
     "output_type": "stream",
     "text": [
      "The performance metric for the model with k= 183 is:\n",
      "The accuracy score is: 0.7565543071161048\n",
      "The confusion matrix is:\n",
      "[[ 52   5  13]\n",
      " [  5   7  37]\n",
      " [  5   0 143]]\n",
      "The performance metric for the model with k= 184 is:\n",
      "The accuracy score is: 0.7528089887640449\n",
      "The confusion matrix is:\n",
      "[[ 51   5  14]\n",
      " [  5   7  37]\n",
      " [  5   0 143]]\n"
     ]
    },
    {
     "name": "stderr",
     "output_type": "stream",
     "text": [
      "C:\\Users\\Admin\\anaconda3\\lib\\site-packages\\ipykernel_launcher.py:10: DataConversionWarning: A column-vector y was passed when a 1d array was expected. Please change the shape of y to (n_samples, ), for example using ravel().\n",
      "  # Remove the CWD from sys.path while we load stuff.\n",
      "C:\\Users\\Admin\\anaconda3\\lib\\site-packages\\ipykernel_launcher.py:10: DataConversionWarning: A column-vector y was passed when a 1d array was expected. Please change the shape of y to (n_samples, ), for example using ravel().\n",
      "  # Remove the CWD from sys.path while we load stuff.\n"
     ]
    },
    {
     "name": "stdout",
     "output_type": "stream",
     "text": [
      "The performance metric for the model with k= 185 is:\n",
      "The accuracy score is: 0.7528089887640449\n",
      "The confusion matrix is:\n",
      "[[ 51   5  14]\n",
      " [  5   7  37]\n",
      " [  5   0 143]]\n",
      "The performance metric for the model with k= 186 is:\n",
      "The accuracy score is: 0.7490636704119851\n",
      "The confusion matrix is:\n",
      "[[ 51   5  14]\n",
      " [  5   6  38]\n",
      " [  5   0 143]]\n"
     ]
    },
    {
     "name": "stderr",
     "output_type": "stream",
     "text": [
      "C:\\Users\\Admin\\anaconda3\\lib\\site-packages\\ipykernel_launcher.py:10: DataConversionWarning: A column-vector y was passed when a 1d array was expected. Please change the shape of y to (n_samples, ), for example using ravel().\n",
      "  # Remove the CWD from sys.path while we load stuff.\n",
      "C:\\Users\\Admin\\anaconda3\\lib\\site-packages\\ipykernel_launcher.py:10: DataConversionWarning: A column-vector y was passed when a 1d array was expected. Please change the shape of y to (n_samples, ), for example using ravel().\n",
      "  # Remove the CWD from sys.path while we load stuff.\n"
     ]
    },
    {
     "name": "stdout",
     "output_type": "stream",
     "text": [
      "The performance metric for the model with k= 187 is:\n",
      "The accuracy score is: 0.7490636704119851\n",
      "The confusion matrix is:\n",
      "[[ 51   5  14]\n",
      " [  5   6  38]\n",
      " [  5   0 143]]\n",
      "The performance metric for the model with k= 188 is:\n",
      "The accuracy score is: 0.7490636704119851\n",
      "The confusion matrix is:\n",
      "[[ 51   5  14]\n",
      " [  5   6  38]\n",
      " [  5   0 143]]\n"
     ]
    },
    {
     "name": "stderr",
     "output_type": "stream",
     "text": [
      "C:\\Users\\Admin\\anaconda3\\lib\\site-packages\\ipykernel_launcher.py:10: DataConversionWarning: A column-vector y was passed when a 1d array was expected. Please change the shape of y to (n_samples, ), for example using ravel().\n",
      "  # Remove the CWD from sys.path while we load stuff.\n",
      "C:\\Users\\Admin\\anaconda3\\lib\\site-packages\\ipykernel_launcher.py:10: DataConversionWarning: A column-vector y was passed when a 1d array was expected. Please change the shape of y to (n_samples, ), for example using ravel().\n",
      "  # Remove the CWD from sys.path while we load stuff.\n"
     ]
    },
    {
     "name": "stdout",
     "output_type": "stream",
     "text": [
      "The performance metric for the model with k= 189 is:\n",
      "The accuracy score is: 0.7453183520599251\n",
      "The confusion matrix is:\n",
      "[[ 50   5  15]\n",
      " [  5   6  38]\n",
      " [  5   0 143]]\n",
      "The performance metric for the model with k= 190 is:\n",
      "The accuracy score is: 0.7415730337078652\n",
      "The confusion matrix is:\n",
      "[[ 50   5  15]\n",
      " [  5   5  39]\n",
      " [  5   0 143]]\n"
     ]
    },
    {
     "name": "stderr",
     "output_type": "stream",
     "text": [
      "C:\\Users\\Admin\\anaconda3\\lib\\site-packages\\ipykernel_launcher.py:10: DataConversionWarning: A column-vector y was passed when a 1d array was expected. Please change the shape of y to (n_samples, ), for example using ravel().\n",
      "  # Remove the CWD from sys.path while we load stuff.\n",
      "C:\\Users\\Admin\\anaconda3\\lib\\site-packages\\ipykernel_launcher.py:10: DataConversionWarning: A column-vector y was passed when a 1d array was expected. Please change the shape of y to (n_samples, ), for example using ravel().\n",
      "  # Remove the CWD from sys.path while we load stuff.\n"
     ]
    },
    {
     "name": "stdout",
     "output_type": "stream",
     "text": [
      "The performance metric for the model with k= 191 is:\n",
      "The accuracy score is: 0.7415730337078652\n",
      "The confusion matrix is:\n",
      "[[ 50   5  15]\n",
      " [  5   5  39]\n",
      " [  5   0 143]]\n",
      "The performance metric for the model with k= 192 is:\n",
      "The accuracy score is: 0.7415730337078652\n",
      "The confusion matrix is:\n",
      "[[ 50   5  15]\n",
      " [  5   5  39]\n",
      " [  5   0 143]]\n"
     ]
    },
    {
     "name": "stderr",
     "output_type": "stream",
     "text": [
      "C:\\Users\\Admin\\anaconda3\\lib\\site-packages\\ipykernel_launcher.py:10: DataConversionWarning: A column-vector y was passed when a 1d array was expected. Please change the shape of y to (n_samples, ), for example using ravel().\n",
      "  # Remove the CWD from sys.path while we load stuff.\n",
      "C:\\Users\\Admin\\anaconda3\\lib\\site-packages\\ipykernel_launcher.py:10: DataConversionWarning: A column-vector y was passed when a 1d array was expected. Please change the shape of y to (n_samples, ), for example using ravel().\n",
      "  # Remove the CWD from sys.path while we load stuff.\n"
     ]
    },
    {
     "name": "stdout",
     "output_type": "stream",
     "text": [
      "The performance metric for the model with k= 193 is:\n",
      "The accuracy score is: 0.7415730337078652\n",
      "The confusion matrix is:\n",
      "[[ 50   5  15]\n",
      " [  5   5  39]\n",
      " [  5   0 143]]\n",
      "The performance metric for the model with k= 194"
     ]
    },
    {
     "name": "stderr",
     "output_type": "stream",
     "text": [
      "C:\\Users\\Admin\\anaconda3\\lib\\site-packages\\ipykernel_launcher.py:10: DataConversionWarning: A column-vector y was passed when a 1d array was expected. Please change the shape of y to (n_samples, ), for example using ravel().\n",
      "  # Remove the CWD from sys.path while we load stuff.\n"
     ]
    },
    {
     "name": "stdout",
     "output_type": "stream",
     "text": [
      " is:\n",
      "The accuracy score is: 0.7303370786516854\n",
      "The confusion matrix is:\n",
      "[[ 48   7  15]\n",
      " [  5   4  40]\n",
      " [  5   0 143]]\n",
      "The performance metric for the model with k="
     ]
    },
    {
     "name": "stderr",
     "output_type": "stream",
     "text": [
      "C:\\Users\\Admin\\anaconda3\\lib\\site-packages\\ipykernel_launcher.py:10: DataConversionWarning: A column-vector y was passed when a 1d array was expected. Please change the shape of y to (n_samples, ), for example using ravel().\n",
      "  # Remove the CWD from sys.path while we load stuff.\n",
      "C:\\Users\\Admin\\anaconda3\\lib\\site-packages\\ipykernel_launcher.py:10: DataConversionWarning: A column-vector y was passed when a 1d array was expected. Please change the shape of y to (n_samples, ), for example using ravel().\n",
      "  # Remove the CWD from sys.path while we load stuff.\n"
     ]
    },
    {
     "name": "stdout",
     "output_type": "stream",
     "text": [
      " 195 is:\n",
      "The accuracy score is: 0.7228464419475655\n",
      "The confusion matrix is:\n",
      "[[ 48   7  15]\n",
      " [  5   2  42]\n",
      " [  5   0 143]]\n",
      "The performance metric for the model with k= 196 is:\n",
      "The accuracy score is: 0.7228464419475655\n",
      "The confusion matrix is:\n",
      "[[ 48   7  15]\n",
      " [  5   2  42]\n",
      " [  5   0 143]]\n",
      "The performance metric for the model with k="
     ]
    },
    {
     "name": "stderr",
     "output_type": "stream",
     "text": [
      "C:\\Users\\Admin\\anaconda3\\lib\\site-packages\\ipykernel_launcher.py:10: DataConversionWarning: A column-vector y was passed when a 1d array was expected. Please change the shape of y to (n_samples, ), for example using ravel().\n",
      "  # Remove the CWD from sys.path while we load stuff.\n"
     ]
    },
    {
     "name": "stdout",
     "output_type": "stream",
     "text": [
      " 197 is:\n",
      "The accuracy score is: 0.7228464419475655\n",
      "The confusion matrix is:\n",
      "[[ 48   7  15]\n",
      " [  5   2  42]\n",
      " [  5   0 143]]\n"
     ]
    },
    {
     "name": "stderr",
     "output_type": "stream",
     "text": [
      "C:\\Users\\Admin\\anaconda3\\lib\\site-packages\\ipykernel_launcher.py:10: DataConversionWarning: A column-vector y was passed when a 1d array was expected. Please change the shape of y to (n_samples, ), for example using ravel().\n",
      "  # Remove the CWD from sys.path while we load stuff.\n"
     ]
    },
    {
     "name": "stdout",
     "output_type": "stream",
     "text": [
      "The performance metric for the model with k= 198 is:\n",
      "The accuracy score is: 0.7228464419475655\n",
      "The confusion matrix is:\n",
      "[[ 48   7  15]\n",
      " [  5   2  42]\n",
      " [  5   0 143]]\n",
      "The performance metric for the model with k= 199 is:\n",
      "The accuracy score is: 0.7191011235955056\n",
      "The confusion matrix is:\n",
      "[[ 48   7  15]\n",
      " [  5   1  43]\n",
      " [  5   0 143]]\n"
     ]
    },
    {
     "name": "stderr",
     "output_type": "stream",
     "text": [
      "C:\\Users\\Admin\\anaconda3\\lib\\site-packages\\ipykernel_launcher.py:10: DataConversionWarning: A column-vector y was passed when a 1d array was expected. Please change the shape of y to (n_samples, ), for example using ravel().\n",
      "  # Remove the CWD from sys.path while we load stuff.\n",
      "C:\\Users\\Admin\\anaconda3\\lib\\site-packages\\ipykernel_launcher.py:10: DataConversionWarning: A column-vector y was passed when a 1d array was expected. Please change the shape of y to (n_samples, ), for example using ravel().\n",
      "  # Remove the CWD from sys.path while we load stuff.\n"
     ]
    },
    {
     "name": "stdout",
     "output_type": "stream",
     "text": [
      "The performance metric for the model with k= 200 is:\n",
      "The accuracy score is: 0.7191011235955056\n",
      "The confusion matrix is:\n",
      "[[ 48   6  16]\n",
      " [  5   1  43]\n",
      " [  5   0 143]]\n",
      "The performance metric for the model with k= 201 is:\n",
      "The accuracy score is: 0.7228464419475655\n",
      "The confusion matrix is:\n",
      "[[ 48   6  16]\n",
      " [  5   2  42]\n",
      " [  5   0 143]]\n"
     ]
    },
    {
     "name": "stderr",
     "output_type": "stream",
     "text": [
      "C:\\Users\\Admin\\anaconda3\\lib\\site-packages\\ipykernel_launcher.py:10: DataConversionWarning: A column-vector y was passed when a 1d array was expected. Please change the shape of y to (n_samples, ), for example using ravel().\n",
      "  # Remove the CWD from sys.path while we load stuff.\n",
      "C:\\Users\\Admin\\anaconda3\\lib\\site-packages\\ipykernel_launcher.py:10: DataConversionWarning: A column-vector y was passed when a 1d array was expected. Please change the shape of y to (n_samples, ), for example using ravel().\n",
      "  # Remove the CWD from sys.path while we load stuff.\n"
     ]
    },
    {
     "name": "stdout",
     "output_type": "stream",
     "text": [
      "The performance metric for the model with k= 202 is:\n",
      "The accuracy score is: 0.7228464419475655\n",
      "The confusion matrix is:\n",
      "[[ 48   6  16]\n",
      " [  4   2  43]\n",
      " [  5   0 143]]\n",
      "The performance metric for the model with k= 203 is:\n",
      "The accuracy score is: 0.7228464419475655\n",
      "The confusion matrix is:\n",
      "[[ 48   6  16]\n",
      " [  4   2  43]\n",
      " [  5   0 143]]\n"
     ]
    },
    {
     "name": "stderr",
     "output_type": "stream",
     "text": [
      "C:\\Users\\Admin\\anaconda3\\lib\\site-packages\\ipykernel_launcher.py:10: DataConversionWarning: A column-vector y was passed when a 1d array was expected. Please change the shape of y to (n_samples, ), for example using ravel().\n",
      "  # Remove the CWD from sys.path while we load stuff.\n",
      "C:\\Users\\Admin\\anaconda3\\lib\\site-packages\\ipykernel_launcher.py:10: DataConversionWarning: A column-vector y was passed when a 1d array was expected. Please change the shape of y to (n_samples, ), for example using ravel().\n",
      "  # Remove the CWD from sys.path while we load stuff.\n"
     ]
    },
    {
     "name": "stdout",
     "output_type": "stream",
     "text": [
      "The performance metric for the model with k= 204 is:\n",
      "The accuracy score is: 0.7228464419475655\n",
      "The confusion matrix is:\n",
      "[[ 48   6  16]\n",
      " [  4   2  43]\n",
      " [  5   0 143]]\n",
      "The performance metric for the model with k= 205 is:\n",
      "The accuracy score is: 0.7228464419475655\n",
      "The confusion matrix is:\n",
      "[[ 48   6  16]\n",
      " [  4   2  43]\n",
      " [  5   0 143]]\n"
     ]
    },
    {
     "name": "stderr",
     "output_type": "stream",
     "text": [
      "C:\\Users\\Admin\\anaconda3\\lib\\site-packages\\ipykernel_launcher.py:10: DataConversionWarning: A column-vector y was passed when a 1d array was expected. Please change the shape of y to (n_samples, ), for example using ravel().\n",
      "  # Remove the CWD from sys.path while we load stuff.\n",
      "C:\\Users\\Admin\\anaconda3\\lib\\site-packages\\ipykernel_launcher.py:10: DataConversionWarning: A column-vector y was passed when a 1d array was expected. Please change the shape of y to (n_samples, ), for example using ravel().\n",
      "  # Remove the CWD from sys.path while we load stuff.\n"
     ]
    },
    {
     "name": "stdout",
     "output_type": "stream",
     "text": [
      "The performance metric for the model with k= 206 is:\n",
      "The accuracy score is: 0.7228464419475655\n",
      "The confusion matrix is:\n",
      "[[ 48   6  16]\n",
      " [  4   2  43]\n",
      " [  5   0 143]]\n",
      "The performance metric for the model with k= 207 is:\n",
      "The accuracy score is: 0.7228464419475655\n",
      "The confusion matrix is:\n",
      "[[ 48   6  16]\n",
      " [  4   2  43]\n",
      " [  5   0 143]]\n"
     ]
    },
    {
     "name": "stderr",
     "output_type": "stream",
     "text": [
      "C:\\Users\\Admin\\anaconda3\\lib\\site-packages\\ipykernel_launcher.py:10: DataConversionWarning: A column-vector y was passed when a 1d array was expected. Please change the shape of y to (n_samples, ), for example using ravel().\n",
      "  # Remove the CWD from sys.path while we load stuff.\n",
      "C:\\Users\\Admin\\anaconda3\\lib\\site-packages\\ipykernel_launcher.py:10: DataConversionWarning: A column-vector y was passed when a 1d array was expected. Please change the shape of y to (n_samples, ), for example using ravel().\n",
      "  # Remove the CWD from sys.path while we load stuff.\n"
     ]
    },
    {
     "name": "stdout",
     "output_type": "stream",
     "text": [
      "The performance metric for the model with k= 208 is:\n",
      "The accuracy score is: 0.7228464419475655\n",
      "The confusion matrix is:\n",
      "[[ 48   6  16]\n",
      " [  4   2  43]\n",
      " [  5   0 143]]\n",
      "The performance metric for the model with k= 209 is:\n",
      "The accuracy score is: 0.7228464419475655\n",
      "The confusion matrix is:\n",
      "[[ 48   6  16]\n",
      " [  4   2  43]\n",
      " [  5   0 143]]\n"
     ]
    },
    {
     "name": "stderr",
     "output_type": "stream",
     "text": [
      "C:\\Users\\Admin\\anaconda3\\lib\\site-packages\\ipykernel_launcher.py:10: DataConversionWarning: A column-vector y was passed when a 1d array was expected. Please change the shape of y to (n_samples, ), for example using ravel().\n",
      "  # Remove the CWD from sys.path while we load stuff.\n",
      "C:\\Users\\Admin\\anaconda3\\lib\\site-packages\\ipykernel_launcher.py:10: DataConversionWarning: A column-vector y was passed when a 1d array was expected. Please change the shape of y to (n_samples, ), for example using ravel().\n",
      "  # Remove the CWD from sys.path while we load stuff.\n"
     ]
    },
    {
     "name": "stdout",
     "output_type": "stream",
     "text": [
      "The performance metric for the model with k= 210 is:\n",
      "The accuracy score is: 0.7228464419475655\n",
      "The confusion matrix is:\n",
      "[[ 48   5  17]\n",
      " [  4   2  43]\n",
      " [  5   0 143]]\n",
      "The performance metric for the model with k= 211 is:\n",
      "The accuracy score is: 0.7228464419475655\n",
      "The confusion matrix is:\n",
      "[[ 48   5  17]\n",
      " [  4   2  43]\n",
      " [  5   0 143]]\n"
     ]
    },
    {
     "name": "stderr",
     "output_type": "stream",
     "text": [
      "C:\\Users\\Admin\\anaconda3\\lib\\site-packages\\ipykernel_launcher.py:10: DataConversionWarning: A column-vector y was passed when a 1d array was expected. Please change the shape of y to (n_samples, ), for example using ravel().\n",
      "  # Remove the CWD from sys.path while we load stuff.\n",
      "C:\\Users\\Admin\\anaconda3\\lib\\site-packages\\ipykernel_launcher.py:10: DataConversionWarning: A column-vector y was passed when a 1d array was expected. Please change the shape of y to (n_samples, ), for example using ravel().\n",
      "  # Remove the CWD from sys.path while we load stuff.\n"
     ]
    },
    {
     "name": "stdout",
     "output_type": "stream",
     "text": [
      "The performance metric for the model with k= 212 is:\n",
      "The accuracy score is: 0.7228464419475655\n",
      "The confusion matrix is:\n",
      "[[ 48   4  18]\n",
      " [  4   2  43]\n",
      " [  5   0 143]]\n",
      "The performance metric for the model with k= 213 is:\n",
      "The accuracy score is: 0.7228464419475655\n",
      "The confusion matrix is:\n",
      "[[ 48   4  18]\n",
      " [  4   2  43]\n",
      " [  5   0 143]]\n"
     ]
    },
    {
     "name": "stderr",
     "output_type": "stream",
     "text": [
      "C:\\Users\\Admin\\anaconda3\\lib\\site-packages\\ipykernel_launcher.py:10: DataConversionWarning: A column-vector y was passed when a 1d array was expected. Please change the shape of y to (n_samples, ), for example using ravel().\n",
      "  # Remove the CWD from sys.path while we load stuff.\n",
      "C:\\Users\\Admin\\anaconda3\\lib\\site-packages\\ipykernel_launcher.py:10: DataConversionWarning: A column-vector y was passed when a 1d array was expected. Please change the shape of y to (n_samples, ), for example using ravel().\n",
      "  # Remove the CWD from sys.path while we load stuff.\n"
     ]
    },
    {
     "name": "stdout",
     "output_type": "stream",
     "text": [
      "The performance metric for the model with k= 214 is:\n",
      "The accuracy score is: 0.7228464419475655\n",
      "The confusion matrix is:\n",
      "[[ 48   4  18]\n",
      " [  4   2  43]\n",
      " [  5   0 143]]\n",
      "The performance metric for the model with k= 215 is:\n",
      "The accuracy score is: 0.7228464419475655\n",
      "The confusion matrix is:\n",
      "[[ 48   4  18]\n",
      " [  4   2  43]\n",
      " [  5   0 143]]\n"
     ]
    },
    {
     "name": "stderr",
     "output_type": "stream",
     "text": [
      "C:\\Users\\Admin\\anaconda3\\lib\\site-packages\\ipykernel_launcher.py:10: DataConversionWarning: A column-vector y was passed when a 1d array was expected. Please change the shape of y to (n_samples, ), for example using ravel().\n",
      "  # Remove the CWD from sys.path while we load stuff.\n",
      "C:\\Users\\Admin\\anaconda3\\lib\\site-packages\\ipykernel_launcher.py:10: DataConversionWarning: A column-vector y was passed when a 1d array was expected. Please change the shape of y to (n_samples, ), for example using ravel().\n",
      "  # Remove the CWD from sys.path while we load stuff.\n"
     ]
    },
    {
     "name": "stdout",
     "output_type": "stream",
     "text": [
      "The performance metric for the model with k= 216 is:\n",
      "The accuracy score is: 0.7228464419475655\n",
      "The confusion matrix is:\n",
      "[[ 48   4  18]\n",
      " [  4   2  43]\n",
      " [  5   0 143]]\n"
     ]
    },
    {
     "name": "stderr",
     "output_type": "stream",
     "text": [
      "C:\\Users\\Admin\\anaconda3\\lib\\site-packages\\ipykernel_launcher.py:10: DataConversionWarning: A column-vector y was passed when a 1d array was expected. Please change the shape of y to (n_samples, ), for example using ravel().\n",
      "  # Remove the CWD from sys.path while we load stuff.\n"
     ]
    },
    {
     "name": "stdout",
     "output_type": "stream",
     "text": [
      "The performance metric for the model with k= 217 is:\n",
      "The accuracy score is: 0.7228464419475655\n",
      "The confusion matrix is:\n",
      "[[ 48   4  18]\n",
      " [  4   2  43]\n",
      " [  5   0 143]]\n"
     ]
    },
    {
     "name": "stderr",
     "output_type": "stream",
     "text": [
      "C:\\Users\\Admin\\anaconda3\\lib\\site-packages\\ipykernel_launcher.py:10: DataConversionWarning: A column-vector y was passed when a 1d array was expected. Please change the shape of y to (n_samples, ), for example using ravel().\n",
      "  # Remove the CWD from sys.path while we load stuff.\n"
     ]
    },
    {
     "name": "stdout",
     "output_type": "stream",
     "text": [
      "The performance metric for the model with k= 218 is:\n",
      "The accuracy score is: 0.7228464419475655\n",
      "The confusion matrix is:\n",
      "[[ 48   4  18]\n",
      " [  4   2  43]\n",
      " [  5   0 143]]\n",
      "The performance metric for the model with k= 219 is:\n",
      "The accuracy score is: 0.7228464419475655\n",
      "The confusion matrix is:\n",
      "[[ 48   2  20]\n",
      " [  4   2  43]\n",
      " [  5   0 143]]\n"
     ]
    },
    {
     "name": "stderr",
     "output_type": "stream",
     "text": [
      "C:\\Users\\Admin\\anaconda3\\lib\\site-packages\\ipykernel_launcher.py:10: DataConversionWarning: A column-vector y was passed when a 1d array was expected. Please change the shape of y to (n_samples, ), for example using ravel().\n",
      "  # Remove the CWD from sys.path while we load stuff.\n",
      "C:\\Users\\Admin\\anaconda3\\lib\\site-packages\\ipykernel_launcher.py:10: DataConversionWarning: A column-vector y was passed when a 1d array was expected. Please change the shape of y to (n_samples, ), for example using ravel().\n",
      "  # Remove the CWD from sys.path while we load stuff.\n"
     ]
    },
    {
     "name": "stdout",
     "output_type": "stream",
     "text": [
      "The performance metric for the model with k= 220 is:\n",
      "The accuracy score is: 0.7228464419475655\n",
      "The confusion matrix is:\n",
      "[[ 48   3  19]\n",
      " [  4   2  43]\n",
      " [  5   0 143]]\n",
      "The performance metric for the model with k= 221 is:\n",
      "The accuracy score is: 0.7228464419475655\n",
      "The confusion matrix is:\n",
      "[[ 48   2  20]\n",
      " [  4   2  43]\n",
      " [  5   0 143]]\n"
     ]
    },
    {
     "name": "stderr",
     "output_type": "stream",
     "text": [
      "C:\\Users\\Admin\\anaconda3\\lib\\site-packages\\ipykernel_launcher.py:10: DataConversionWarning: A column-vector y was passed when a 1d array was expected. Please change the shape of y to (n_samples, ), for example using ravel().\n",
      "  # Remove the CWD from sys.path while we load stuff.\n",
      "C:\\Users\\Admin\\anaconda3\\lib\\site-packages\\ipykernel_launcher.py:10: DataConversionWarning: A column-vector y was passed when a 1d array was expected. Please change the shape of y to (n_samples, ), for example using ravel().\n",
      "  # Remove the CWD from sys.path while we load stuff.\n"
     ]
    },
    {
     "name": "stdout",
     "output_type": "stream",
     "text": [
      "The performance metric for the model with k= 222 is:\n",
      "The accuracy score is: 0.7228464419475655\n",
      "The confusion matrix is:\n",
      "[[ 48   2  20]\n",
      " [  4   2  43]\n",
      " [  5   0 143]]\n",
      "The performance metric for the model with k= 223 is:\n",
      "The accuracy score is: 0.7228464419475655\n",
      "The confusion matrix is:\n",
      "[[ 48   2  20]\n",
      " [  4   2  43]\n",
      " [  5   0 143]]\n"
     ]
    },
    {
     "name": "stderr",
     "output_type": "stream",
     "text": [
      "C:\\Users\\Admin\\anaconda3\\lib\\site-packages\\ipykernel_launcher.py:10: DataConversionWarning: A column-vector y was passed when a 1d array was expected. Please change the shape of y to (n_samples, ), for example using ravel().\n",
      "  # Remove the CWD from sys.path while we load stuff.\n",
      "C:\\Users\\Admin\\anaconda3\\lib\\site-packages\\ipykernel_launcher.py:10: DataConversionWarning: A column-vector y was passed when a 1d array was expected. Please change the shape of y to (n_samples, ), for example using ravel().\n",
      "  # Remove the CWD from sys.path while we load stuff.\n"
     ]
    },
    {
     "name": "stdout",
     "output_type": "stream",
     "text": [
      "The performance metric for the model with k= 224 is:\n",
      "The accuracy score is: 0.7228464419475655\n",
      "The confusion matrix is:\n",
      "[[ 48   2  20]\n",
      " [  4   2  43]\n",
      " [  5   0 143]]\n",
      "The performance metric for the model with k="
     ]
    },
    {
     "name": "stderr",
     "output_type": "stream",
     "text": [
      "C:\\Users\\Admin\\anaconda3\\lib\\site-packages\\ipykernel_launcher.py:10: DataConversionWarning: A column-vector y was passed when a 1d array was expected. Please change the shape of y to (n_samples, ), for example using ravel().\n",
      "  # Remove the CWD from sys.path while we load stuff.\n",
      "C:\\Users\\Admin\\anaconda3\\lib\\site-packages\\ipykernel_launcher.py:10: DataConversionWarning: A column-vector y was passed when a 1d array was expected. Please change the shape of y to (n_samples, ), for example using ravel().\n",
      "  # Remove the CWD from sys.path while we load stuff.\n"
     ]
    },
    {
     "name": "stdout",
     "output_type": "stream",
     "text": [
      " 225 is:\n",
      "The accuracy score is: 0.7228464419475655\n",
      "The confusion matrix is:\n",
      "[[ 48   2  20]\n",
      " [  4   2  43]\n",
      " [  5   0 143]]\n",
      "The performance metric for the model with k= 226 is:\n",
      "The accuracy score is: 0.7228464419475655\n",
      "The confusion matrix is:\n",
      "[[ 48   2  20]\n",
      " [  4   2  43]\n",
      " [  5   0 143]]\n",
      "The performance metric for the model with k= 227 is:\n",
      "The accuracy score is: 0.7228464419475655\n",
      "The confusion matrix is:\n",
      "[[ 48   2  20]\n",
      " [  4   2  43]\n",
      " [  5   0 143]]\n"
     ]
    },
    {
     "name": "stderr",
     "output_type": "stream",
     "text": [
      "C:\\Users\\Admin\\anaconda3\\lib\\site-packages\\ipykernel_launcher.py:10: DataConversionWarning: A column-vector y was passed when a 1d array was expected. Please change the shape of y to (n_samples, ), for example using ravel().\n",
      "  # Remove the CWD from sys.path while we load stuff.\n",
      "C:\\Users\\Admin\\anaconda3\\lib\\site-packages\\ipykernel_launcher.py:10: DataConversionWarning: A column-vector y was passed when a 1d array was expected. Please change the shape of y to (n_samples, ), for example using ravel().\n",
      "  # Remove the CWD from sys.path while we load stuff.\n"
     ]
    },
    {
     "name": "stdout",
     "output_type": "stream",
     "text": [
      "The performance metric for the model with k= 228 is:\n",
      "The accuracy score is: 0.7228464419475655\n",
      "The confusion matrix is:\n",
      "[[ 48   2  20]\n",
      " [  4   2  43]\n",
      " [  5   0 143]]\n",
      "The performance metric for the model with k= 229 is:\n",
      "The accuracy score is: 0.7228464419475655\n",
      "The confusion matrix is:\n",
      "[[ 48   2  20]\n",
      " [  4   2  43]\n",
      " [  5   0 143]]\n"
     ]
    },
    {
     "name": "stderr",
     "output_type": "stream",
     "text": [
      "C:\\Users\\Admin\\anaconda3\\lib\\site-packages\\ipykernel_launcher.py:10: DataConversionWarning: A column-vector y was passed when a 1d array was expected. Please change the shape of y to (n_samples, ), for example using ravel().\n",
      "  # Remove the CWD from sys.path while we load stuff.\n",
      "C:\\Users\\Admin\\anaconda3\\lib\\site-packages\\ipykernel_launcher.py:10: DataConversionWarning: A column-vector y was passed when a 1d array was expected. Please change the shape of y to (n_samples, ), for example using ravel().\n",
      "  # Remove the CWD from sys.path while we load stuff.\n"
     ]
    },
    {
     "name": "stdout",
     "output_type": "stream",
     "text": [
      "The performance metric for the model with k= 230 is:\n",
      "The accuracy score is: 0.7228464419475655\n",
      "The confusion matrix is:\n",
      "[[ 48   1  21]\n",
      " [  4   2  43]\n",
      " [  5   0 143]]\n"
     ]
    },
    {
     "name": "stderr",
     "output_type": "stream",
     "text": [
      "C:\\Users\\Admin\\anaconda3\\lib\\site-packages\\ipykernel_launcher.py:10: DataConversionWarning: A column-vector y was passed when a 1d array was expected. Please change the shape of y to (n_samples, ), for example using ravel().\n",
      "  # Remove the CWD from sys.path while we load stuff.\n"
     ]
    },
    {
     "name": "stdout",
     "output_type": "stream",
     "text": [
      "The performance metric for the model with k= 231 is:\n",
      "The accuracy score is: 0.7228464419475655\n",
      "The confusion matrix is:\n",
      "[[ 48   0  22]\n",
      " [  4   2  43]\n",
      " [  5   0 143]]\n",
      "The performance metric for the model with k= 232 is:\n",
      "The accuracy score is: 0.7228464419475655\n",
      "The confusion matrix is:\n",
      "[[ 48   0  22]\n",
      " [  4   2  43]\n",
      " [  5   0 143]]\n"
     ]
    },
    {
     "name": "stderr",
     "output_type": "stream",
     "text": [
      "C:\\Users\\Admin\\anaconda3\\lib\\site-packages\\ipykernel_launcher.py:10: DataConversionWarning: A column-vector y was passed when a 1d array was expected. Please change the shape of y to (n_samples, ), for example using ravel().\n",
      "  # Remove the CWD from sys.path while we load stuff.\n",
      "C:\\Users\\Admin\\anaconda3\\lib\\site-packages\\ipykernel_launcher.py:10: DataConversionWarning: A column-vector y was passed when a 1d array was expected. Please change the shape of y to (n_samples, ), for example using ravel().\n",
      "  # Remove the CWD from sys.path while we load stuff.\n"
     ]
    },
    {
     "name": "stdout",
     "output_type": "stream",
     "text": [
      "The performance metric for the model with k= 233 is:\n",
      "The accuracy score is: 0.7228464419475655\n",
      "The confusion matrix is:\n",
      "[[ 48   0  22]\n",
      " [  4   2  43]\n",
      " [  5   0 143]]\n",
      "The performance metric for the model with k= 234 is:\n",
      "The accuracy score is: 0.7228464419475655\n",
      "The confusion matrix is:\n",
      "[[ 48   0  22]\n",
      " [  4   2  43]\n",
      " [  5   0 143]]"
     ]
    },
    {
     "name": "stderr",
     "output_type": "stream",
     "text": [
      "C:\\Users\\Admin\\anaconda3\\lib\\site-packages\\ipykernel_launcher.py:10: DataConversionWarning: A column-vector y was passed when a 1d array was expected. Please change the shape of y to (n_samples, ), for example using ravel().\n",
      "  # Remove the CWD from sys.path while we load stuff.\n"
     ]
    },
    {
     "name": "stdout",
     "output_type": "stream",
     "text": [
      "\n"
     ]
    },
    {
     "name": "stderr",
     "output_type": "stream",
     "text": [
      "C:\\Users\\Admin\\anaconda3\\lib\\site-packages\\ipykernel_launcher.py:10: DataConversionWarning: A column-vector y was passed when a 1d array was expected. Please change the shape of y to (n_samples, ), for example using ravel().\n",
      "  # Remove the CWD from sys.path while we load stuff.\n"
     ]
    },
    {
     "name": "stdout",
     "output_type": "stream",
     "text": [
      "The performance metric for the model with k= 235 is:\n",
      "The accuracy score is: 0.7228464419475655\n",
      "The confusion matrix is:\n",
      "[[ 48   0  22]\n",
      " [  4   2  43]\n",
      " [  5   0 143]]\n"
     ]
    },
    {
     "name": "stderr",
     "output_type": "stream",
     "text": [
      "C:\\Users\\Admin\\anaconda3\\lib\\site-packages\\ipykernel_launcher.py:10: DataConversionWarning: A column-vector y was passed when a 1d array was expected. Please change the shape of y to (n_samples, ), for example using ravel().\n",
      "  # Remove the CWD from sys.path while we load stuff.\n",
      "C:\\Users\\Admin\\anaconda3\\lib\\site-packages\\ipykernel_launcher.py:10: DataConversionWarning: A column-vector y was passed when a 1d array was expected. Please change the shape of y to (n_samples, ), for example using ravel().\n",
      "  # Remove the CWD from sys.path while we load stuff.\n"
     ]
    },
    {
     "name": "stdout",
     "output_type": "stream",
     "text": [
      "The performance metric for the model with k= 236 is:\n",
      "The accuracy score is: 0.7228464419475655\n",
      "The confusion matrix is:\n",
      "[[ 48   0  22]\n",
      " [  4   2  43]\n",
      " [  5   0 143]]\n",
      "The performance metric for the model with k= 237 is:\n",
      "The accuracy score is: 0.7228464419475655\n",
      "The confusion matrix is:\n",
      "[[ 48   0  22]\n",
      " [  4   2  43]\n",
      " [  5   0 143]]\n"
     ]
    },
    {
     "name": "stderr",
     "output_type": "stream",
     "text": [
      "C:\\Users\\Admin\\anaconda3\\lib\\site-packages\\ipykernel_launcher.py:10: DataConversionWarning: A column-vector y was passed when a 1d array was expected. Please change the shape of y to (n_samples, ), for example using ravel().\n",
      "  # Remove the CWD from sys.path while we load stuff.\n"
     ]
    },
    {
     "name": "stdout",
     "output_type": "stream",
     "text": [
      "The performance metric for the model with k= 238 is:\n",
      "The accuracy score is: 0.7228464419475655\n",
      "The confusion matrix is:\n",
      "[[ 48   0  22]\n",
      " [  4   2  43]\n",
      " [  5   0 143]]\n"
     ]
    },
    {
     "name": "stderr",
     "output_type": "stream",
     "text": [
      "C:\\Users\\Admin\\anaconda3\\lib\\site-packages\\ipykernel_launcher.py:10: DataConversionWarning: A column-vector y was passed when a 1d array was expected. Please change the shape of y to (n_samples, ), for example using ravel().\n",
      "  # Remove the CWD from sys.path while we load stuff.\n"
     ]
    },
    {
     "name": "stdout",
     "output_type": "stream",
     "text": [
      "The performance metric for the model with k= 239 is:\n",
      "The accuracy score is: 0.7228464419475655\n",
      "The confusion matrix is:\n",
      "[[ 48   0  22]\n",
      " [  4   2  43]\n",
      " [  5   0 143]]\n"
     ]
    },
    {
     "name": "stderr",
     "output_type": "stream",
     "text": [
      "C:\\Users\\Admin\\anaconda3\\lib\\site-packages\\ipykernel_launcher.py:10: DataConversionWarning: A column-vector y was passed when a 1d array was expected. Please change the shape of y to (n_samples, ), for example using ravel().\n",
      "  # Remove the CWD from sys.path while we load stuff.\n"
     ]
    },
    {
     "name": "stdout",
     "output_type": "stream",
     "text": [
      "The performance metric for the model with k= 240 is:\n",
      "The accuracy score is: 0.7228464419475655\n",
      "The confusion matrix is:\n",
      "[[ 48   0  22]\n",
      " [  4   2  43]\n",
      " [  5   0 143]]\n",
      "The performance metric for the model with k= 241 is:\n",
      "The accuracy score is: 0.7228464419475655\n",
      "The confusion matrix is:\n",
      "[[ 48   0  22]\n",
      " [  4   2  43]\n",
      " [  5   0 143]]\n"
     ]
    },
    {
     "name": "stderr",
     "output_type": "stream",
     "text": [
      "C:\\Users\\Admin\\anaconda3\\lib\\site-packages\\ipykernel_launcher.py:10: DataConversionWarning: A column-vector y was passed when a 1d array was expected. Please change the shape of y to (n_samples, ), for example using ravel().\n",
      "  # Remove the CWD from sys.path while we load stuff.\n",
      "C:\\Users\\Admin\\anaconda3\\lib\\site-packages\\ipykernel_launcher.py:10: DataConversionWarning: A column-vector y was passed when a 1d array was expected. Please change the shape of y to (n_samples, ), for example using ravel().\n",
      "  # Remove the CWD from sys.path while we load stuff.\n"
     ]
    },
    {
     "name": "stdout",
     "output_type": "stream",
     "text": [
      "The performance metric for the model with k= 242 is:\n",
      "The accuracy score is: 0.7228464419475655\n",
      "The confusion matrix is:\n",
      "[[ 48   0  22]\n",
      " [  4   2  43]\n",
      " [  5   0 143]]\n",
      "The performance metric for the model with k= 243 is:\n",
      "The accuracy score is:"
     ]
    },
    {
     "name": "stderr",
     "output_type": "stream",
     "text": [
      "C:\\Users\\Admin\\anaconda3\\lib\\site-packages\\ipykernel_launcher.py:10: DataConversionWarning: A column-vector y was passed when a 1d array was expected. Please change the shape of y to (n_samples, ), for example using ravel().\n",
      "  # Remove the CWD from sys.path while we load stuff.\n"
     ]
    },
    {
     "name": "stdout",
     "output_type": "stream",
     "text": [
      " 0.7228464419475655\n",
      "The confusion matrix is:\n",
      "[[ 48   0  22]\n",
      " [  4   2  43]\n",
      " [  5   0 143]]\n",
      "The performance metric for the model with k="
     ]
    },
    {
     "name": "stderr",
     "output_type": "stream",
     "text": [
      "C:\\Users\\Admin\\anaconda3\\lib\\site-packages\\ipykernel_launcher.py:10: DataConversionWarning: A column-vector y was passed when a 1d array was expected. Please change the shape of y to (n_samples, ), for example using ravel().\n",
      "  # Remove the CWD from sys.path while we load stuff.\n"
     ]
    },
    {
     "name": "stdout",
     "output_type": "stream",
     "text": [
      " 244 is:\n",
      "The accuracy score is: 0.7191011235955056\n",
      "The confusion matrix is:\n",
      "[[ 48   0  22]\n",
      " [  4   1  44]\n",
      " [  5   0 143]]\n",
      "The performance metric for the model with k= 245 is:\n",
      "The accuracy score is: 0.7191011235955056\n",
      "The confusion matrix is:\n",
      "[[ 48   0  22]\n",
      " [  4   1  44]\n",
      " [  5   0 143]]\n"
     ]
    },
    {
     "name": "stderr",
     "output_type": "stream",
     "text": [
      "C:\\Users\\Admin\\anaconda3\\lib\\site-packages\\ipykernel_launcher.py:10: DataConversionWarning: A column-vector y was passed when a 1d array was expected. Please change the shape of y to (n_samples, ), for example using ravel().\n",
      "  # Remove the CWD from sys.path while we load stuff.\n",
      "C:\\Users\\Admin\\anaconda3\\lib\\site-packages\\ipykernel_launcher.py:10: DataConversionWarning: A column-vector y was passed when a 1d array was expected. Please change the shape of y to (n_samples, ), for example using ravel().\n",
      "  # Remove the CWD from sys.path while we load stuff.\n"
     ]
    },
    {
     "name": "stdout",
     "output_type": "stream",
     "text": [
      "The performance metric for the model with k= 246 is:\n",
      "The accuracy score is: 0.7191011235955056\n",
      "The confusion matrix is:\n",
      "[[ 48   0  22]\n",
      " [  4   1  44]\n",
      " [  5   0 143]]\n",
      "The performance metric for the model with k= 247 is:\n",
      "The accuracy score is: 0.7191011235955056\n",
      "The confusion matrix is:\n",
      "[[ 48   0  22]\n",
      " [  4   1  44]\n",
      " [  5   0 143]]\n"
     ]
    },
    {
     "name": "stderr",
     "output_type": "stream",
     "text": [
      "C:\\Users\\Admin\\anaconda3\\lib\\site-packages\\ipykernel_launcher.py:10: DataConversionWarning: A column-vector y was passed when a 1d array was expected. Please change the shape of y to (n_samples, ), for example using ravel().\n",
      "  # Remove the CWD from sys.path while we load stuff.\n",
      "C:\\Users\\Admin\\anaconda3\\lib\\site-packages\\ipykernel_launcher.py:10: DataConversionWarning: A column-vector y was passed when a 1d array was expected. Please change the shape of y to (n_samples, ), for example using ravel().\n",
      "  # Remove the CWD from sys.path while we load stuff.\n"
     ]
    },
    {
     "name": "stdout",
     "output_type": "stream",
     "text": [
      "The performance metric for the model with k= 248 is:\n",
      "The accuracy score is: 0.7191011235955056\n",
      "The confusion matrix is:\n",
      "[[ 48   0  22]\n",
      " [  4   1  44]\n",
      " [  5   0 143]]\n"
     ]
    },
    {
     "name": "stderr",
     "output_type": "stream",
     "text": [
      "C:\\Users\\Admin\\anaconda3\\lib\\site-packages\\ipykernel_launcher.py:10: DataConversionWarning: A column-vector y was passed when a 1d array was expected. Please change the shape of y to (n_samples, ), for example using ravel().\n",
      "  # Remove the CWD from sys.path while we load stuff.\n"
     ]
    },
    {
     "name": "stdout",
     "output_type": "stream",
     "text": [
      "The performance metric for the model with k= 249 is:\n",
      "The accuracy score is: 0.7191011235955056\n",
      "The confusion matrix is:\n",
      "[[ 48   0  22]\n",
      " [  4   1  44]\n",
      " [  5   0 143]]\n",
      "The performance metric for the model with k= 250 is:\n",
      "The accuracy score is: 0.7191011235955056\n",
      "The confusion matrix is:\n",
      "[[ 48   0  22]\n",
      " [  4   1  44]\n",
      " [  5   0 143]]\n"
     ]
    },
    {
     "name": "stderr",
     "output_type": "stream",
     "text": [
      "C:\\Users\\Admin\\anaconda3\\lib\\site-packages\\ipykernel_launcher.py:10: DataConversionWarning: A column-vector y was passed when a 1d array was expected. Please change the shape of y to (n_samples, ), for example using ravel().\n",
      "  # Remove the CWD from sys.path while we load stuff.\n",
      "C:\\Users\\Admin\\anaconda3\\lib\\site-packages\\ipykernel_launcher.py:10: DataConversionWarning: A column-vector y was passed when a 1d array was expected. Please change the shape of y to (n_samples, ), for example using ravel().\n",
      "  # Remove the CWD from sys.path while we load stuff.\n"
     ]
    },
    {
     "name": "stdout",
     "output_type": "stream",
     "text": [
      "The performance metric for the model with k= 251 is:\n",
      "The accuracy score is: 0.7191011235955056\n",
      "The confusion matrix is:\n",
      "[[ 48   0  22]\n",
      " [  4   1  44]\n",
      " [  5   0 143]]\n",
      "The performance metric for the model with k= 252 is:\n",
      "The accuracy score is: 0.7191011235955056\n",
      "The confusion matrix is:\n",
      "[[ 48   0  22]\n",
      " [  4   1  44]\n",
      " [  5   0 143]]\n"
     ]
    },
    {
     "name": "stderr",
     "output_type": "stream",
     "text": [
      "C:\\Users\\Admin\\anaconda3\\lib\\site-packages\\ipykernel_launcher.py:10: DataConversionWarning: A column-vector y was passed when a 1d array was expected. Please change the shape of y to (n_samples, ), for example using ravel().\n",
      "  # Remove the CWD from sys.path while we load stuff.\n",
      "C:\\Users\\Admin\\anaconda3\\lib\\site-packages\\ipykernel_launcher.py:10: DataConversionWarning: A column-vector y was passed when a 1d array was expected. Please change the shape of y to (n_samples, ), for example using ravel().\n",
      "  # Remove the CWD from sys.path while we load stuff.\n"
     ]
    },
    {
     "name": "stdout",
     "output_type": "stream",
     "text": [
      "The performance metric for the model with k= 253 is:\n",
      "The accuracy score is: 0.7191011235955056\n",
      "The confusion matrix is:\n",
      "[[ 48   0  22]\n",
      " [  4   1  44]\n",
      " [  5   0 143]]\n",
      "The performance metric for the model with k= 254 is:\n",
      "The accuracy score is:"
     ]
    },
    {
     "name": "stderr",
     "output_type": "stream",
     "text": [
      "C:\\Users\\Admin\\anaconda3\\lib\\site-packages\\ipykernel_launcher.py:10: DataConversionWarning: A column-vector y was passed when a 1d array was expected. Please change the shape of y to (n_samples, ), for example using ravel().\n",
      "  # Remove the CWD from sys.path while we load stuff.\n"
     ]
    },
    {
     "name": "stdout",
     "output_type": "stream",
     "text": [
      " 0.7191011235955056\n",
      "The confusion matrix is:\n",
      "[[ 48   0  22]\n",
      " [  4   1  44]\n",
      " [  5   0 143]]\n",
      "The performance metric for the model with k= 255 is:\n",
      "The accuracy score is: 0.7191011235955056\n",
      "The confusion matrix is:\n",
      "[[ 48   0  22]\n",
      " [  4   1  44]\n",
      " [  5   0 143]]\n"
     ]
    },
    {
     "name": "stderr",
     "output_type": "stream",
     "text": [
      "C:\\Users\\Admin\\anaconda3\\lib\\site-packages\\ipykernel_launcher.py:10: DataConversionWarning: A column-vector y was passed when a 1d array was expected. Please change the shape of y to (n_samples, ), for example using ravel().\n",
      "  # Remove the CWD from sys.path while we load stuff.\n",
      "C:\\Users\\Admin\\anaconda3\\lib\\site-packages\\ipykernel_launcher.py:10: DataConversionWarning: A column-vector y was passed when a 1d array was expected. Please change the shape of y to (n_samples, ), for example using ravel().\n",
      "  # Remove the CWD from sys.path while we load stuff.\n",
      "C:\\Users\\Admin\\anaconda3\\lib\\site-packages\\ipykernel_launcher.py:10: DataConversionWarning: A column-vector y was passed when a 1d array was expected. Please change the shape of y to (n_samples, ), for example using ravel().\n",
      "  # Remove the CWD from sys.path while we load stuff.\n"
     ]
    },
    {
     "name": "stdout",
     "output_type": "stream",
     "text": [
      "The performance metric for the model with k= 256 is:\n",
      "The accuracy score is: 0.7191011235955056\n",
      "The confusion matrix is:\n",
      "[[ 48   0  22]\n",
      " [  4   1  44]\n",
      " [  5   0 143]]\n",
      "The performance metric for the model with k= 257 is:\n",
      "The accuracy score is: 0.7191011235955056\n",
      "The confusion matrix is:\n",
      "[[ 48   0  22]\n",
      " [  4   1  44]\n",
      " [  5   0 143]]\n"
     ]
    },
    {
     "name": "stderr",
     "output_type": "stream",
     "text": [
      "C:\\Users\\Admin\\anaconda3\\lib\\site-packages\\ipykernel_launcher.py:10: DataConversionWarning: A column-vector y was passed when a 1d array was expected. Please change the shape of y to (n_samples, ), for example using ravel().\n",
      "  # Remove the CWD from sys.path while we load stuff.\n"
     ]
    },
    {
     "name": "stdout",
     "output_type": "stream",
     "text": [
      "The performance metric for the model with k= 258 is:\n",
      "The accuracy score is: 0.7191011235955056\n",
      "The confusion matrix is:\n",
      "[[ 48   0  22]\n",
      " [  4   1  44]\n",
      " [  5   0 143]]\n"
     ]
    },
    {
     "name": "stderr",
     "output_type": "stream",
     "text": [
      "C:\\Users\\Admin\\anaconda3\\lib\\site-packages\\ipykernel_launcher.py:10: DataConversionWarning: A column-vector y was passed when a 1d array was expected. Please change the shape of y to (n_samples, ), for example using ravel().\n",
      "  # Remove the CWD from sys.path while we load stuff.\n"
     ]
    },
    {
     "name": "stdout",
     "output_type": "stream",
     "text": [
      "The performance metric for the model with k= 259 is:\n",
      "The accuracy score is: 0.7191011235955056\n",
      "The confusion matrix is:\n",
      "[[ 48   0  22]\n",
      " [  4   1  44]\n",
      " [  5   0 143]]\n",
      "The performance metric for the model with k="
     ]
    },
    {
     "name": "stderr",
     "output_type": "stream",
     "text": [
      "C:\\Users\\Admin\\anaconda3\\lib\\site-packages\\ipykernel_launcher.py:10: DataConversionWarning: A column-vector y was passed when a 1d array was expected. Please change the shape of y to (n_samples, ), for example using ravel().\n",
      "  # Remove the CWD from sys.path while we load stuff.\n",
      "C:\\Users\\Admin\\anaconda3\\lib\\site-packages\\ipykernel_launcher.py:10: DataConversionWarning: A column-vector y was passed when a 1d array was expected. Please change the shape of y to (n_samples, ), for example using ravel().\n",
      "  # Remove the CWD from sys.path while we load stuff.\n"
     ]
    },
    {
     "name": "stdout",
     "output_type": "stream",
     "text": [
      " 260 is:\n",
      "The accuracy score is: 0.7191011235955056\n",
      "The confusion matrix is:\n",
      "[[ 48   0  22]\n",
      " [  4   1  44]\n",
      " [  5   0 143]]\n",
      "The performance metric for the model with k= 261 is:\n",
      "The accuracy score is: 0.7191011235955056\n",
      "The confusion matrix is:\n",
      "[[ 48   0  22]\n",
      " [  4   1  44]\n",
      " [  5   0 143]]\n",
      "The performance metric for the model with k= 262 is:\n",
      "The accuracy score is: 0.7191011235955056\n",
      "The confusion matrix is:\n",
      "[[ 48   0  22]\n",
      " [  4   1  44]\n",
      " [  5   0 143]]\n"
     ]
    },
    {
     "name": "stderr",
     "output_type": "stream",
     "text": [
      "C:\\Users\\Admin\\anaconda3\\lib\\site-packages\\ipykernel_launcher.py:10: DataConversionWarning: A column-vector y was passed when a 1d array was expected. Please change the shape of y to (n_samples, ), for example using ravel().\n",
      "  # Remove the CWD from sys.path while we load stuff.\n",
      "C:\\Users\\Admin\\anaconda3\\lib\\site-packages\\ipykernel_launcher.py:10: DataConversionWarning: A column-vector y was passed when a 1d array was expected. Please change the shape of y to (n_samples, ), for example using ravel().\n",
      "  # Remove the CWD from sys.path while we load stuff.\n"
     ]
    },
    {
     "name": "stdout",
     "output_type": "stream",
     "text": [
      "The performance metric for the model with k= 263 is:\n",
      "The accuracy score is: 0.7191011235955056\n",
      "The confusion matrix is:\n",
      "[[ 48   0  22]\n",
      " [  4   1  44]\n",
      " [  5   0 143]]\n",
      "The performance metric for the model with k= 264 is:\n",
      "The accuracy score is: 0.7191011235955056\n",
      "The confusion matrix is:\n",
      "[[ 48   0  22]\n",
      " [  4   1  44]\n",
      " [  5   0 143]]\n"
     ]
    },
    {
     "name": "stderr",
     "output_type": "stream",
     "text": [
      "C:\\Users\\Admin\\anaconda3\\lib\\site-packages\\ipykernel_launcher.py:10: DataConversionWarning: A column-vector y was passed when a 1d array was expected. Please change the shape of y to (n_samples, ), for example using ravel().\n",
      "  # Remove the CWD from sys.path while we load stuff.\n",
      "C:\\Users\\Admin\\anaconda3\\lib\\site-packages\\ipykernel_launcher.py:10: DataConversionWarning: A column-vector y was passed when a 1d array was expected. Please change the shape of y to (n_samples, ), for example using ravel().\n",
      "  # Remove the CWD from sys.path while we load stuff.\n"
     ]
    },
    {
     "name": "stdout",
     "output_type": "stream",
     "text": [
      "The performance metric for the model with k= 265 is:\n",
      "The accuracy score is: 0.7191011235955056\n",
      "The confusion matrix is:\n",
      "[[ 48   0  22]\n",
      " [  4   1  44]\n",
      " [  5   0 143]]\n",
      "The performance metric for the model with k= 266 is:\n",
      "The accuracy score is: 0.7153558052434457\n",
      "The confusion matrix is:\n",
      "[[ 47   0  23]\n",
      " [  4   1  44]\n",
      " [  5   0 143]]\n"
     ]
    },
    {
     "name": "stderr",
     "output_type": "stream",
     "text": [
      "C:\\Users\\Admin\\anaconda3\\lib\\site-packages\\ipykernel_launcher.py:10: DataConversionWarning: A column-vector y was passed when a 1d array was expected. Please change the shape of y to (n_samples, ), for example using ravel().\n",
      "  # Remove the CWD from sys.path while we load stuff.\n",
      "C:\\Users\\Admin\\anaconda3\\lib\\site-packages\\ipykernel_launcher.py:10: DataConversionWarning: A column-vector y was passed when a 1d array was expected. Please change the shape of y to (n_samples, ), for example using ravel().\n",
      "  # Remove the CWD from sys.path while we load stuff.\n"
     ]
    },
    {
     "name": "stdout",
     "output_type": "stream",
     "text": [
      "The performance metric for the model with k= 267 is:\n",
      "The accuracy score is: 0.7153558052434457\n",
      "The confusion matrix is:\n",
      "[[ 47   1  22]\n",
      " [  4   1  44]\n",
      " [  5   0 143]]\n"
     ]
    }
   ],
   "source": [
    "metrics_model(x,y)"
   ]
  },
  {
   "cell_type": "markdown",
   "metadata": {},
   "source": [
    "Conclusions\n",
    "\n",
    "The maximunm accuracy score is 89% for k=1 and minimum accuracy score is 71% for k= 267."
   ]
  }
 ],
 "metadata": {
  "kernelspec": {
   "display_name": "Python 3",
   "language": "python",
   "name": "python3"
  },
  "language_info": {
   "codemirror_mode": {
    "name": "ipython",
    "version": 3
   },
   "file_extension": ".py",
   "mimetype": "text/x-python",
   "name": "python",
   "nbconvert_exporter": "python",
   "pygments_lexer": "ipython3",
   "version": "3.7.6"
  }
 },
 "nbformat": 4,
 "nbformat_minor": 4
}
