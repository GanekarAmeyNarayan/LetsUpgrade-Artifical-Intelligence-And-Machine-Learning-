{
 "cells": [
  {
   "cell_type": "markdown",
   "metadata": {},
   "source": [
    "# Assignment No :- 5"
   ]
  },
  {
   "cell_type": "raw",
   "metadata": {},
   "source": [
    "1.Write a Python program to find the first 20 non-even prime natural numbers."
   ]
  },
  {
   "cell_type": "code",
   "execution_count": 1,
   "metadata": {},
   "outputs": [
    {
     "name": "stdout",
     "output_type": "stream",
     "text": [
      "3\n",
      "5\n",
      "7\n",
      "11\n",
      "13\n",
      "17\n",
      "19\n",
      "23\n",
      "29\n",
      "31\n",
      "37\n",
      "41\n",
      "43\n",
      "47\n",
      "53\n",
      "59\n",
      "61\n",
      "67\n",
      "71\n",
      "73\n"
     ]
    }
   ],
   "source": [
    "first = 20\n",
    "a = 0\n",
    "num = 0\n",
    "while a != first:\n",
    "    if num > 1:\n",
    "        for i in range(2,num):\n",
    "            if (num % i) == 0:\n",
    "                break\n",
    "        else:\n",
    "            if num %2 != 0:\n",
    "                print(num)\n",
    "                a = a + 1\n",
    "    num +=1"
   ]
  },
  {
   "cell_type": "raw",
   "metadata": {},
   "source": [
    "2. Write a Python program to implement 15 functions of string"
   ]
  },
  {
   "cell_type": "code",
   "execution_count": 2,
   "metadata": {},
   "outputs": [
    {
     "name": "stdout",
     "output_type": "stream",
     "text": [
      "Capitalized String: Python is awesome.\n",
      "The count of o in string is: 2\n",
      "False\n",
      "python is awesome.\n",
      "False\n",
      "PYTHON IS AWESOME.\n",
      "False\n",
      "Python Is Awesome.\n",
      "False\n",
      "False\n",
      "Centered String:     python is Awesome.   \n",
      "The encoded version is: b'python is Awesome.'\n",
      "False\n",
      "True\n",
      "PYTHON IS aWESOME.\n"
     ]
    }
   ],
   "source": [
    "string = \"python is Awesome.\"\n",
    "\n",
    "capitalized_string = string.capitalize()\n",
    "print('Capitalized String:', capitalized_string)\n",
    "\n",
    "count = string.count(\"o\")\n",
    "print(\"The count of o in string is:\", count)\n",
    "\n",
    "print(string.islower())\n",
    "\n",
    "print(string.lower())\n",
    "\n",
    "print(string.isupper())\n",
    "\n",
    "print(string.upper())\n",
    "\n",
    "print(string.istitle())\n",
    "\n",
    "print(string.title())\n",
    "\n",
    "print(string.isalnum())\n",
    "\n",
    "print(string.isalpha())\n",
    "\n",
    "print(\"Centered String: \", string.center(24))\n",
    "\n",
    "print('The encoded version is:', string.encode())\n",
    "\n",
    "print(string.isidentifier())\n",
    "\n",
    "print(string.isprintable())\n",
    "\n",
    "print(string.swapcase())"
   ]
  },
  {
   "cell_type": "raw",
   "metadata": {},
   "source": [
    "3.Write a Python program to check if the given string is a Palindrome or Anagram or None of them.       Display the message accordingly to the user."
   ]
  },
  {
   "cell_type": "code",
   "execution_count": null,
   "metadata": {},
   "outputs": [],
   "source": [
    "x = input(\"Enter 1st string = \")\n",
    "w = input(\"Enter 2nd string = \") \n",
    "\n",
    "if(sorted(x)==sorted(w)):\n",
    "    print(\"The strings is Anagram\")\n",
    "    if x==x[::-1]:\n",
    "        print(\"The strings is Palindrome\") \n",
    "else:\n",
    "    print(\"The strings is neither Palindrome nor Anagram\")"
   ]
  },
  {
   "cell_type": "raw",
   "metadata": {},
   "source": [
    "4. Write a Python's user defined function that removes all the additional characters from the string    and converts it finally to lower case using built-in lower(). eg: If the string is \"Dr. Darshan      Ingle @AI-ML Trainer\", then the output be \"drdarshaningleaimltrainer\"."
   ]
  },
  {
   "cell_type": "code",
   "execution_count": null,
   "metadata": {},
   "outputs": [],
   "source": [
    "def remove_char(string):\n",
    "    alpha = \"abcdefghijklmnopqrstuvwxyz0123456789\"\n",
    "    string = string.lower().replace(\" \",\"\")\n",
    "    new_str = \"\"\n",
    "    for i in string:\n",
    "        if i in alpha:\n",
    "            new_str = new_str + i\n",
    "    print(new_str)\n",
    "remove_char(\"WEjun@kjh.__sadEDcni\")"
   ]
  },
  {
   "cell_type": "code",
   "execution_count": null,
   "metadata": {},
   "outputs": [],
   "source": []
  },
  {
   "cell_type": "code",
   "execution_count": null,
   "metadata": {},
   "outputs": [],
   "source": []
  }
 ],
 "metadata": {
  "kernelspec": {
   "display_name": "Python 3",
   "language": "python",
   "name": "python3"
  },
  "language_info": {
   "codemirror_mode": {
    "name": "ipython",
    "version": 3
   },
   "file_extension": ".py",
   "mimetype": "text/x-python",
   "name": "python",
   "nbconvert_exporter": "python",
   "pygments_lexer": "ipython3",
   "version": "3.7.6"
  }
 },
 "nbformat": 4,
 "nbformat_minor": 4
}
