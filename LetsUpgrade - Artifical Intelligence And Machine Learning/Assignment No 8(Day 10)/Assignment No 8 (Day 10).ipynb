{
 "cells": [
  {
   "cell_type": "markdown",
   "metadata": {},
   "source": [
    "# Statement 1: Most of the people leaving the company have an average age of 36 years."
   ]
  },
  {
   "cell_type": "code",
   "execution_count": 9,
   "metadata": {},
   "outputs": [
    {
     "name": "stdout",
     "output_type": "stream",
     "text": [
      "sigma 9.675693299564738\n",
      "Population mean 36\n",
      "Sample mean 33.84158415841584\n",
      "t -2.24188697129885\n"
     ]
    }
   ],
   "source": [
    "import pandas as pd #imports pandas package into IDE\n",
    "dataset=pd.read_csv(\"general_data.csv\") #loads the file into dataset as s dataframe\n",
    "dataset1=dataset[dataset[\"Attrition\"]==\"Yes\"] #only loads those records into dataset1 for which attrition is YES\n",
    "dataset2=dataset[dataset[\"Attrition\"]==\"No\"] #only loads those records into dataset1 for which attrition is YES\n",
    "n=101 #sample size\n",
    "sigma=dataset1[\"Age\"].std() #population standard deviation\n",
    "pop_mean=36 #population mean\n",
    "sample1=dataset1.sample(n) #select 101 random samples for which Attrition is YES\n",
    "sam_mean=sample1[\"Age\"].mean() #sample mean \n",
    "t_stat=(sam_mean-pop_mean)/(sigma/(n**0.5)) #t(calculated)\n",
    "print(\"sigma\",sigma)\n",
    "print(\"Population mean\",pop_mean)\n",
    "print(\"Sample mean\",sam_mean)\n",
    "print(\"t\",t_stat)"
   ]
  },
  {
   "cell_type": "markdown",
   "metadata": {},
   "source": [
    "# Statement 2: Most of the people leaving the company have average monthly salary of 65,000"
   ]
  },
  {
   "cell_type": "code",
   "execution_count": 10,
   "metadata": {},
   "outputs": [
    {
     "name": "stdout",
     "output_type": "stream",
     "text": [
      "sigma= 44792.06769460413\n",
      "Population mean= 65000\n",
      "Sample mean= 63434.75247524752\n",
      "t= -0.3511903725293915\n"
     ]
    }
   ],
   "source": [
    "sigma1=dataset1[\"MonthlyIncome\"].std() #population standard deviation\n",
    "pop_mean1=65000 #population mean\n",
    "sample2=dataset1.sample(n) #select 101 random samples for which Attrition is YES\n",
    "sam_mean1=sample2[\"MonthlyIncome\"].mean() #sample mean\n",
    "t_stat1=(sam_mean1-pop_mean1)/(sigma1/(n**0.5)) #t(calculated)\n",
    "print(\"sigma=\",sigma1)\n",
    "print(\"Population mean=\",pop_mean1)\n",
    "print(\"Sample mean=\",sam_mean1)\n",
    "print(\"t=\",t_stat1)"
   ]
  },
  {
   "cell_type": "markdown",
   "metadata": {},
   "source": [
    "# Statement 3: Most of the people leaving the company have average percentage salary hike of 20"
   ]
  },
  {
   "cell_type": "code",
   "execution_count": 11,
   "metadata": {},
   "outputs": [
    {
     "name": "stdout",
     "output_type": "stream",
     "text": [
      "sigma= 3.775289126300602\n",
      "Population mean= 20\n",
      "Sample mean= 15.178217821782178\n",
      "t= -12.835655639098208\n"
     ]
    }
   ],
   "source": [
    "sigma2=dataset1[\"PercentSalaryHike\"].std() #population standard deviation\n",
    "pop_mean2=20 #population mean\n",
    "sample3=dataset1.sample(n) #select 101 random samples for which Attrition is YES\n",
    "sam_mean2=sample3[\"PercentSalaryHike\"].mean() #sample mean\n",
    "t_stat2=(sam_mean2-pop_mean2)/(sigma2/(n**0.5)) #t(calculated)\n",
    "print(\"sigma=\",sigma2)\n",
    "print(\"Population mean=\",pop_mean2)\n",
    "print(\"Sample mean=\",sam_mean2)\n",
    "print(\"t=\",t_stat2)"
   ]
  },
  {
   "cell_type": "markdown",
   "metadata": {},
   "source": [
    "# Statement 4: Most of the people staying in the company have average work experience of 10 years"
   ]
  },
  {
   "cell_type": "code",
   "execution_count": 12,
   "metadata": {},
   "outputs": [
    {
     "name": "stdout",
     "output_type": "stream",
     "text": [
      "sigma= 7.762535696001822\n",
      "Population mean= 10\n",
      "Sample mean= 11.099009900990099\n",
      "t= 1.4228485695749755\n"
     ]
    }
   ],
   "source": [
    "sigma3=dataset2[\"TotalWorkingYears\"].std() #population standard deviation\n",
    "pop_mean3=10 #population mean\n",
    "sample4=dataset2.sample(n) #select 101 random samples for which Attrition is NO\n",
    "sam_mean3=sample4[\"TotalWorkingYears\"].mean() #sample mean \n",
    "t_stat3=(sam_mean3-pop_mean3)/(sigma3/(n**0.5)) #t(calculated)\n",
    "print(\"sigma=\",sigma3)\n",
    "print(\"Population mean=\",pop_mean3)\n",
    "print(\"Sample mean=\",sam_mean3)\n",
    "print(\"t=\",t_stat3)"
   ]
  },
  {
   "cell_type": "markdown",
   "metadata": {},
   "source": [
    "# Statement 5: Most of the people staying in the company have a 5 KM distance from home"
   ]
  },
  {
   "cell_type": "code",
   "execution_count": 13,
   "metadata": {},
   "outputs": [
    {
     "name": "stdout",
     "output_type": "stream",
     "text": [
      "sigma= 8.167977642775147\n",
      "Population mean= 5\n",
      "Sample mean= 8.089108910891088\n",
      "t= 3.8008380644886004\n"
     ]
    }
   ],
   "source": [
    "\n",
    "sigma4=dataset2[\"DistanceFromHome\"].std() #population standard deviation\n",
    "pop_mean4=5 #population mean\n",
    "sample5=dataset2.sample(n) #select 101 random samples for which Attrition is NO\n",
    "sam_mean4=sample5[\"DistanceFromHome\"].mean() #sample mean\n",
    "t_stat4=(sam_mean4-pop_mean4)/(sigma4/(n**0.5)) #t(calculated)\n",
    "print(\"sigma=\",sigma4)\n",
    "print(\"Population mean=\",pop_mean4)\n",
    "print(\"Sample mean=\",sam_mean4)\n",
    "print(\"t=\",t_stat4)"
   ]
  },
  {
   "cell_type": "markdown",
   "metadata": {},
   "source": [
    "# Statement 6: Most of the people leaving the company have age less than equal to 30"
   ]
  },
  {
   "cell_type": "code",
   "execution_count": 15,
   "metadata": {},
   "outputs": [
    {
     "name": "stdout",
     "output_type": "stream",
     "text": [
      "sigma= 9.467212832290253\n",
      "Population mean= 30\n",
      "Sample mean= 33.24752475247525\n",
      "t= 3.447394752505238\n"
     ]
    }
   ],
   "source": [
    "pop_mean5=30 #population mean\n",
    "sample6=dataset1.sample(n) #101 records are loaded in sample 6 with Attriton as YES\n",
    "sigma5=sample6[\"Age\"].std() #sample standard deviation\n",
    "sam_mean5=sample6[\"Age\"].mean()#sample mean\n",
    "t_stat5=(sam_mean5-pop_mean5)/(sigma5/(n**0.5))#t(calculated)\n",
    "print(\"sigma=\",sigma5)\n",
    "print(\"Population mean=\",pop_mean5)\n",
    "print(\"Sample mean=\",sam_mean5)\n",
    "print(\"t=\",t_stat5)"
   ]
  },
  {
   "cell_type": "markdown",
   "metadata": {},
   "source": [
    "# Statement 7: Most of the people leaving the company have monthly income less than 45000"
   ]
  },
  {
   "cell_type": "code",
   "execution_count": 16,
   "metadata": {},
   "outputs": [
    {
     "name": "stdout",
     "output_type": "stream",
     "text": [
      "sigma= 50276.3222655999\n",
      "Population mean= 45000\n",
      "Sample mean= 62856.63366336634\n",
      "t= 3.5694127820391537\n"
     ]
    }
   ],
   "source": [
    "pop_mean6=45000 #population mean\n",
    "sample7=dataset1.sample(n) #101 records are loaded in sample 7 with Attriton as YES\n",
    "sigma6=sample7[\"MonthlyIncome\"].std() #sample standard deviation\n",
    "sam_mean6=sample7[\"MonthlyIncome\"].mean() #sample mean\n",
    "t_stat6=(sam_mean6-pop_mean6)/(sigma6/(n**0.5)) #t(calculated)\n",
    "print(\"sigma=\",sigma6)\n",
    "print(\"Population mean=\",pop_mean6)\n",
    "print(\"Sample mean=\",sam_mean6)\n",
    "print(\"t=\",t_stat6)"
   ]
  },
  {
   "cell_type": "markdown",
   "metadata": {},
   "source": [
    "# Statement 8: Most of the people leaving the company lives more than 9 KM of distance"
   ]
  },
  {
   "cell_type": "code",
   "execution_count": 17,
   "metadata": {},
   "outputs": [
    {
     "name": "stdout",
     "output_type": "stream",
     "text": [
      "sigma= 6.819599012630386\n",
      "Population mean= 9\n",
      "Sample mean= 8.94059405940594\n",
      "t= -0.08754507604043374\n"
     ]
    }
   ],
   "source": [
    "\n",
    "pop_mean7=9 #population mean\n",
    "sample8=dataset1.sample(n) #101 records are loaded in sample 8 with Attriton as YES\n",
    "sigma7=sample7[\"DistanceFromHome\"].std() #sample standard deviation\n",
    "sam_mean7=sample8[\"DistanceFromHome\"].mean() #sample mean\n",
    "t_stat7=(sam_mean7-pop_mean7)/(sigma7/(n**0.5)) #t(calculated)\n",
    "print(\"sigma=\",sigma7)\n",
    "print(\"Population mean=\",pop_mean7)\n",
    "print(\"Sample mean=\",sam_mean7)\n",
    "print(\"t=\",t_stat7)"
   ]
  },
  {
   "cell_type": "markdown",
   "metadata": {},
   "source": [
    "# Statement 9: Most of the people staying in the company are working in the company for more than 35 years"
   ]
  },
  {
   "cell_type": "code",
   "execution_count": 18,
   "metadata": {},
   "outputs": [
    {
     "name": "stdout",
     "output_type": "stream",
     "text": [
      "sigma= 5.99351134292927\n",
      "Population mean= 35\n",
      "Sample mean= 6.673267326732673\n",
      "t= -47.49805645315477\n"
     ]
    }
   ],
   "source": [
    "pop_mean8=35 #population mean\n",
    "sample9=dataset2.sample(n)#101 records are loaded in sample 9 with Attriton as NO\n",
    "sigma8=sample9[\"YearsAtCompany\"].std() #sample standard deviation\n",
    "sam_mean8=sample9[\"YearsAtCompany\"].mean() #sample mean\n",
    "t_stat8=(sam_mean8-pop_mean8)/(sigma8/(n**0.5)) #t(calculated)\n",
    "print(\"sigma=\",sigma8)\n",
    "print(\"Population mean=\",pop_mean8)\n",
    "print(\"Sample mean=\",sam_mean8)\n",
    "print(\"t=\",t_stat8)"
   ]
  },
  {
   "cell_type": "markdown",
   "metadata": {},
   "source": [
    "# Statement 10: Most of the people staying in the company have not been promoted from 2 years"
   ]
  },
  {
   "cell_type": "code",
   "execution_count": 19,
   "metadata": {},
   "outputs": [
    {
     "name": "stdout",
     "output_type": "stream",
     "text": [
      "sigma= 3.2338873746949703\n",
      "Population mean= 2\n",
      "Sample mean= 2.267326732673267\n",
      "t= 0.8307649903300595\n"
     ]
    }
   ],
   "source": [
    "\n",
    "sigma9=dataset2[\"YearsSinceLastPromotion\"].std() #population standard deviation\n",
    "pop_mean9=2 #population mean\n",
    "sample10=dataset2.sample(n)#101 records are loaded in sample 10 with Attriton as NO\n",
    "sam_mean9=sample10[\"YearsSinceLastPromotion\"].mean() #sample mean\n",
    "t_stat9=(sam_mean9-pop_mean9)/(sigma9/(n**0.5))# t(calculated)\n",
    "print(\"sigma=\",sigma9)\n",
    "print(\"Population mean=\",pop_mean9)\n",
    "print(\"Sample mean=\",sam_mean9)\n",
    "print(\"t=\",t_stat9)"
   ]
  }
 ],
 "metadata": {
  "kernelspec": {
   "display_name": "Python 3",
   "language": "python",
   "name": "python3"
  },
  "language_info": {
   "codemirror_mode": {
    "name": "ipython",
    "version": 3
   },
   "file_extension": ".py",
   "mimetype": "text/x-python",
   "name": "python",
   "nbconvert_exporter": "python",
   "pygments_lexer": "ipython3",
   "version": "3.7.6"
  }
 },
 "nbformat": 4,
 "nbformat_minor": 4
}
